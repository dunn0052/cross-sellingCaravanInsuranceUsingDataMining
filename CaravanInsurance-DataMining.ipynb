{
 "cells": [
  {
   "cell_type": "markdown",
   "metadata": {},
   "source": [
    "## Predicting Caravan Insurance Purchases"
   ]
  },
  {
   "cell_type": "markdown",
   "metadata": {},
   "source": [
    "###### Using the data compiled by Caravan Insurance, we will try to predict whether someone will purchase Caravan's mobile home insurance. We will use various classification models in combination with techniques to handle unbalanced datasets for our analysis.\n",
    "\n",
    "###### Our analysis follows the following structure -\n",
    "###### 1. Data Exploration and Visualizations\n",
    "###### 2. Association Rule Mining For Understanding Cross Selling\n",
    "###### 3. Classification using Logistic Regression - Unbalanced Data, Undersampled Data, Oversampled Data - Including Business Cost For Each Model \n",
    "###### 4. Classification using KNN - Unbalanced Data, Undersampled Data, Oversampled Data, SMOTE - Including Business Cost For Each Model \n",
    "###### 5. Classification using Naive Bayes - Unbalanced Data, Undersampled Data, Oversampled Data, SMOTE - Including Business Cost For Each Model \n",
    "###### 6. Classification using Bagging - Unbalanced Data, Undersampled Data, Oversampled Data, SMOTE - Including Business Cost For Each Model \n",
    "###### 7. Classification using Boosting - Unbalanced Data, Undersampled Data, Oversampled Data, SMOTE - Including Business Cost For Each Model \n",
    "###### 8. Classification using Random Forest - Unbalanced Data, Undersampled Data, Oversampled Data, SMOTE - Including Business Cost For Each Model\n",
    "###### 9. Summary of Performance Measures For All Models\n",
    "###### 10. Summary of Business Costs For All Models\n",
    "###### 11. Final Recommendation"
   ]
  },
  {
   "cell_type": "markdown",
   "metadata": {},
   "source": [
    "### 1. Data Exploration And Visualizations"
   ]
  },
  {
   "cell_type": "code",
   "execution_count": 1,
   "metadata": {
    "collapsed": false
   },
   "outputs": [],
   "source": [
    "#Read the Data\n",
    "caravan_df_maindataset <- read.csv('C:\\\\Users\\\\Jayant\\\\Desktop\\\\DMPA\\\\Project\\\\Data_sets\\\\Data_sets\\\\Master_dataset.csv')\n",
    "caravan_df_train <- read.csv('C:\\\\Users\\\\Jayant\\\\Desktop\\\\DMPA\\\\Project\\\\Data_sets\\\\Data_sets\\\\Train.csv')\n",
    "caravan_df_test <- read.csv('C:\\\\Users\\\\Jayant\\\\Desktop\\\\DMPA\\\\Project\\\\Data_sets\\\\Data_sets\\\\Test_with_Targer_Variable.csv')"
   ]
  },
  {
   "cell_type": "code",
   "execution_count": 2,
   "metadata": {
    "collapsed": false
   },
   "outputs": [
    {
     "name": "stdout",
     "output_type": "stream",
     "text": [
      "'data.frame':\t9822 obs. of  86 variables:\n",
      " $ Customer_Subtype                             : int  33 37 37 9 40 23 39 33 33 11 ...\n",
      " $ Number_of_houses                             : int  1 1 1 1 1 1 2 1 1 2 ...\n",
      " $ Avg_size_household                           : int  3 2 2 3 4 2 3 2 2 3 ...\n",
      " $ Avg_age                                      : int  2 2 2 3 2 1 2 3 4 3 ...\n",
      " $ Customer_main_type                           : int  8 8 8 3 10 5 9 8 8 3 ...\n",
      " $ Roman_catholic                               : int  0 1 0 2 1 0 2 0 0 3 ...\n",
      " $ Protestant                                   : int  5 4 4 3 4 5 2 7 1 5 ...\n",
      " $ Other_religion                               : int  1 1 2 2 1 0 0 0 3 0 ...\n",
      " $ No_religion                                  : int  3 4 4 4 4 5 5 2 6 2 ...\n",
      " $ Married                                      : int  7 6 3 5 7 0 7 7 6 7 ...\n",
      " $ Living_together                              : int  0 2 2 2 1 6 2 2 0 0 ...\n",
      " $ Other_relation                               : int  2 2 4 2 2 3 0 0 3 2 ...\n",
      " $ Singles                                      : int  1 0 4 2 2 3 0 0 3 2 ...\n",
      " $ Household_without_children                   : int  2 4 4 3 4 5 3 5 3 2 ...\n",
      " $ Household_with_children                      : int  6 5 2 4 4 2 6 4 3 6 ...\n",
      " $ High_level_education                         : int  1 0 0 3 5 0 0 0 0 0 ...\n",
      " $ Medium_level_education                       : int  2 5 5 4 4 5 4 3 1 4 ...\n",
      " $ Lower_level_education                        : int  7 4 4 2 0 4 5 6 8 5 ...\n",
      " $ High_status                                  : int  1 0 0 4 0 2 0 2 1 2 ...\n",
      " $ Entrepreneur                                 : int  0 0 0 0 5 0 0 0 1 0 ...\n",
      " $ Farmer                                       : int  1 0 0 0 4 0 0 0 0 0 ...\n",
      " $ Middle_management                            : int  2 5 7 3 0 4 4 2 1 3 ...\n",
      " $ Skilled_labourers                            : int  5 0 0 1 0 2 1 5 8 3 ...\n",
      " $ Unskilled_labourers                          : int  2 4 2 2 0 2 5 2 1 3 ...\n",
      " $ Social_class_A                               : int  1 0 0 3 9 2 0 2 1 1 ...\n",
      " $ Social_class_B1                              : int  1 2 5 2 0 2 1 1 1 2 ...\n",
      " $ Social_class_B2                              : int  2 3 0 1 0 2 4 2 0 1 ...\n",
      " $ Social_class_C                               : int  6 5 4 4 0 4 5 5 8 4 ...\n",
      " $ Social_class_D                               : int  1 0 0 0 0 2 0 2 1 2 ...\n",
      " $ Rented_house                                 : int  1 2 7 5 4 9 6 0 9 0 ...\n",
      " $ Home_owners                                  : int  8 7 2 4 5 0 3 9 0 9 ...\n",
      " $ X1_car                                       : int  8 7 7 9 6 5 8 4 5 6 ...\n",
      " $ X2_cars                                      : int  0 1 0 0 2 3 0 4 2 1 ...\n",
      " $ No_car                                       : int  1 2 2 0 1 3 1 2 3 2 ...\n",
      " $ National_Health_Service                      : int  8 6 9 7 5 9 9 6 7 6 ...\n",
      " $ Private_health_insurance                     : int  1 3 0 2 4 0 0 3 2 3 ...\n",
      " $ Income_._30                                  : int  0 2 4 1 0 5 4 2 7 2 ...\n",
      " $ Income_30.45.000                             : int  4 0 5 5 0 2 3 5 2 3 ...\n",
      " $ Income_45.75.000                             : int  5 5 0 3 9 3 3 3 1 3 ...\n",
      " $ Income_75.122.000                            : int  0 2 0 0 0 0 0 0 0 1 ...\n",
      " $ Income_.123.000                              : int  0 0 0 0 0 0 0 0 0 0 ...\n",
      " $ Average_income                               : int  4 5 3 4 6 3 3 3 2 4 ...\n",
      " $ Purchasing_power                             : int  3 4 4 4 3 3 5 3 3 7 ...\n",
      " $ private_third_party_insurance                : int  0 2 2 0 0 0 0 0 0 2 ...\n",
      " $ third_party_insurance_firms                  : int  0 0 0 0 0 0 0 0 0 0 ...\n",
      " $ third_party_insurane_agriculture             : int  0 0 0 0 0 0 0 0 0 0 ...\n",
      " $ car_policies                                 : int  6 0 6 6 0 6 6 0 5 0 ...\n",
      " $ delivery_van_policies                        : int  0 0 0 0 0 0 0 0 0 0 ...\n",
      " $ Contribution_motorcycle.scooter              : int  0 0 0 0 0 0 0 0 0 0 ...\n",
      " $ lorry_policies                               : int  0 0 0 0 0 0 0 0 0 0 ...\n",
      " $ trailer_policies                             : int  0 0 0 0 0 0 0 0 0 0 ...\n",
      " $ tractor_policies                             : int  0 0 0 0 0 0 0 0 0 0 ...\n",
      " $ agricultural_machines_policies               : int  0 0 0 0 0 0 0 0 0 0 ...\n",
      " $ moped_policies                               : int  0 0 0 0 0 0 0 3 0 0 ...\n",
      " $ life_insurances                              : int  0 0 0 0 0 0 0 0 0 0 ...\n",
      " $ private_accident_insurance_policies          : int  0 0 0 0 0 0 0 0 0 0 ...\n",
      " $ family_accidents_insurance_policies          : int  0 0 0 0 0 0 0 0 0 0 ...\n",
      " $ disability_insurance_policies                : int  0 0 0 0 0 0 0 0 0 0 ...\n",
      " $ fire_policies                                : int  5 2 2 2 6 0 0 0 0 3 ...\n",
      " $ surfboard_policies                           : int  0 0 0 0 0 0 0 0 0 0 ...\n",
      " $ boat_policies                                : int  0 0 0 0 0 0 0 0 0 0 ...\n",
      " $ bicycle_policies                             : int  0 0 0 0 0 0 0 0 0 0 ...\n",
      " $ property_insurance_policies                  : int  0 0 0 0 0 0 0 0 0 0 ...\n",
      " $ social_security_insurance_policies           : int  0 0 0 0 0 0 0 0 0 0 ...\n",
      " $ Number_of_private_third_party_insurance      : int  0 2 1 0 0 0 0 0 0 1 ...\n",
      " $ Number_of_third_party_insurance_firms        : int  0 0 0 0 0 0 0 0 0 0 ...\n",
      " $ Number_of_third_party_insurane_agriculture   : int  0 0 0 0 0 0 0 0 0 0 ...\n",
      " $ Number_of_car_policies                       : int  1 0 1 1 0 1 1 0 1 0 ...\n",
      " $ Number_of_delivery_van_policies              : int  0 0 0 0 0 0 0 0 0 0 ...\n",
      " $ Number_of_motorcycle.scooter_policies        : int  0 0 0 0 0 0 0 0 0 0 ...\n",
      " $ Number_of_lorry_policies                     : int  0 0 0 0 0 0 0 0 0 0 ...\n",
      " $ Number_of_trailer_policies                   : int  0 0 0 0 0 0 0 0 0 0 ...\n",
      " $ Number_of_tractor_policies                   : int  0 0 0 0 0 0 0 0 0 0 ...\n",
      " $ Number_of_agricultural_machines_policies     : int  0 0 0 0 0 0 0 0 0 0 ...\n",
      " $ Number_of_moped_policies                     : int  0 0 0 0 0 0 0 1 0 0 ...\n",
      " $ Number_of_life_insurances                    : int  0 0 0 0 0 0 0 0 0 0 ...\n",
      " $ Number_of_private_accident_insurance_policies: int  0 0 0 0 0 0 0 0 0 0 ...\n",
      " $ Number_of_family_accidents_insurance_policies: int  0 0 0 0 0 0 0 0 0 0 ...\n",
      " $ Number_of_disability_insurance_policies      : int  0 0 0 0 0 0 0 0 0 0 ...\n",
      " $ Number_of_fire_policies                      : int  1 1 1 1 1 0 0 0 0 1 ...\n",
      " $ Number_of_surfboard_policies                 : int  0 0 0 0 0 0 0 0 0 0 ...\n",
      " $ Number_of_boat_policies                      : int  0 0 0 0 0 0 0 0 0 0 ...\n",
      " $ Number_of_bicycle_policies                   : int  0 0 0 0 0 0 0 0 0 0 ...\n",
      " $ Number_of_property_insurance_policies        : int  0 0 0 0 0 0 0 0 0 0 ...\n",
      " $ Number_of_social_security_insurance_policies : int  0 0 0 0 0 0 0 0 0 0 ...\n",
      " $ Number_of_mobile_home_policies               : int  0 0 0 0 0 0 0 0 0 0 ...\n"
     ]
    }
   ],
   "source": [
    "#Check Shape of Data and List Out All Columns\n",
    "str(caravan_df_maindataset)"
   ]
  },
  {
   "cell_type": "markdown",
   "metadata": {},
   "source": [
    "###### 'Number_of_mobile_home_policies' is the binary dependent variable that we will classify in our analysis"
   ]
  },
  {
   "cell_type": "code",
   "execution_count": 3,
   "metadata": {
    "collapsed": false
   },
   "outputs": [
    {
     "data": {
      "text/html": [
       "<table>\n",
       "<thead><tr><th scope=col>Customer_Subtype</th><th scope=col>Number_of_houses</th><th scope=col>Avg_size_household</th><th scope=col>Avg_age</th><th scope=col>Customer_main_type</th><th scope=col>Roman_catholic</th><th scope=col>Protestant</th><th scope=col>Other_religion</th><th scope=col>No_religion</th><th scope=col>Married</th><th scope=col>...</th><th scope=col>Number_of_private_accident_insurance_policies</th><th scope=col>Number_of_family_accidents_insurance_policies</th><th scope=col>Number_of_disability_insurance_policies</th><th scope=col>Number_of_fire_policies</th><th scope=col>Number_of_surfboard_policies</th><th scope=col>Number_of_boat_policies</th><th scope=col>Number_of_bicycle_policies</th><th scope=col>Number_of_property_insurance_policies</th><th scope=col>Number_of_social_security_insurance_policies</th><th scope=col>Number_of_mobile_home_policies</th></tr></thead>\n",
       "<tbody>\n",
       "\t<tr><td>33 </td><td>1  </td><td>3  </td><td>2  </td><td> 8 </td><td>0  </td><td>5  </td><td>1  </td><td>3  </td><td>7  </td><td>...</td><td>0  </td><td>0  </td><td>0  </td><td>1  </td><td>0  </td><td>0  </td><td>0  </td><td>0  </td><td>0  </td><td>0  </td></tr>\n",
       "\t<tr><td>37 </td><td>1  </td><td>2  </td><td>2  </td><td> 8 </td><td>1  </td><td>4  </td><td>1  </td><td>4  </td><td>6  </td><td>...</td><td>0  </td><td>0  </td><td>0  </td><td>1  </td><td>0  </td><td>0  </td><td>0  </td><td>0  </td><td>0  </td><td>0  </td></tr>\n",
       "\t<tr><td>37 </td><td>1  </td><td>2  </td><td>2  </td><td> 8 </td><td>0  </td><td>4  </td><td>2  </td><td>4  </td><td>3  </td><td>...</td><td>0  </td><td>0  </td><td>0  </td><td>1  </td><td>0  </td><td>0  </td><td>0  </td><td>0  </td><td>0  </td><td>0  </td></tr>\n",
       "\t<tr><td> 9 </td><td>1  </td><td>3  </td><td>3  </td><td> 3 </td><td>2  </td><td>3  </td><td>2  </td><td>4  </td><td>5  </td><td>...</td><td>0  </td><td>0  </td><td>0  </td><td>1  </td><td>0  </td><td>0  </td><td>0  </td><td>0  </td><td>0  </td><td>0  </td></tr>\n",
       "\t<tr><td>40 </td><td>1  </td><td>4  </td><td>2  </td><td>10 </td><td>1  </td><td>4  </td><td>1  </td><td>4  </td><td>7  </td><td>...</td><td>0  </td><td>0  </td><td>0  </td><td>1  </td><td>0  </td><td>0  </td><td>0  </td><td>0  </td><td>0  </td><td>0  </td></tr>\n",
       "\t<tr><td>23 </td><td>1  </td><td>2  </td><td>1  </td><td> 5 </td><td>0  </td><td>5  </td><td>0  </td><td>5  </td><td>0  </td><td>...</td><td>0  </td><td>0  </td><td>0  </td><td>0  </td><td>0  </td><td>0  </td><td>0  </td><td>0  </td><td>0  </td><td>0  </td></tr>\n",
       "</tbody>\n",
       "</table>\n"
      ],
      "text/latex": [
       "\\begin{tabular}{r|llllllllllllllllllllllllllllllllllllllllllllllllllllllllllllllllllllllllllllllllllllll}\n",
       " Customer\\_Subtype & Number\\_of\\_houses & Avg\\_size\\_household & Avg\\_age & Customer\\_main\\_type & Roman\\_catholic & Protestant & Other\\_religion & No\\_religion & Married & ... & Number\\_of\\_private\\_accident\\_insurance\\_policies & Number\\_of\\_family\\_accidents\\_insurance\\_policies & Number\\_of\\_disability\\_insurance\\_policies & Number\\_of\\_fire\\_policies & Number\\_of\\_surfboard\\_policies & Number\\_of\\_boat\\_policies & Number\\_of\\_bicycle\\_policies & Number\\_of\\_property\\_insurance\\_policies & Number\\_of\\_social\\_security\\_insurance\\_policies & Number\\_of\\_mobile\\_home\\_policies\\\\\n",
       "\\hline\n",
       "\t 33  & 1   & 3   & 2   &  8  & 0   & 5   & 1   & 3   & 7   & ... & 0   & 0   & 0   & 1   & 0   & 0   & 0   & 0   & 0   & 0  \\\\\n",
       "\t 37  & 1   & 2   & 2   &  8  & 1   & 4   & 1   & 4   & 6   & ... & 0   & 0   & 0   & 1   & 0   & 0   & 0   & 0   & 0   & 0  \\\\\n",
       "\t 37  & 1   & 2   & 2   &  8  & 0   & 4   & 2   & 4   & 3   & ... & 0   & 0   & 0   & 1   & 0   & 0   & 0   & 0   & 0   & 0  \\\\\n",
       "\t  9  & 1   & 3   & 3   &  3  & 2   & 3   & 2   & 4   & 5   & ... & 0   & 0   & 0   & 1   & 0   & 0   & 0   & 0   & 0   & 0  \\\\\n",
       "\t 40  & 1   & 4   & 2   & 10  & 1   & 4   & 1   & 4   & 7   & ... & 0   & 0   & 0   & 1   & 0   & 0   & 0   & 0   & 0   & 0  \\\\\n",
       "\t 23  & 1   & 2   & 1   &  5  & 0   & 5   & 0   & 5   & 0   & ... & 0   & 0   & 0   & 0   & 0   & 0   & 0   & 0   & 0   & 0  \\\\\n",
       "\\end{tabular}\n"
      ],
      "text/markdown": [
       "\n",
       "Customer_Subtype | Number_of_houses | Avg_size_household | Avg_age | Customer_main_type | Roman_catholic | Protestant | Other_religion | No_religion | Married | ... | Number_of_private_accident_insurance_policies | Number_of_family_accidents_insurance_policies | Number_of_disability_insurance_policies | Number_of_fire_policies | Number_of_surfboard_policies | Number_of_boat_policies | Number_of_bicycle_policies | Number_of_property_insurance_policies | Number_of_social_security_insurance_policies | Number_of_mobile_home_policies | \n",
       "|---|---|---|---|---|---|\n",
       "| 33  | 1   | 3   | 2   |  8  | 0   | 5   | 1   | 3   | 7   | ... | 0   | 0   | 0   | 1   | 0   | 0   | 0   | 0   | 0   | 0   | \n",
       "| 37  | 1   | 2   | 2   |  8  | 1   | 4   | 1   | 4   | 6   | ... | 0   | 0   | 0   | 1   | 0   | 0   | 0   | 0   | 0   | 0   | \n",
       "| 37  | 1   | 2   | 2   |  8  | 0   | 4   | 2   | 4   | 3   | ... | 0   | 0   | 0   | 1   | 0   | 0   | 0   | 0   | 0   | 0   | \n",
       "|  9  | 1   | 3   | 3   |  3  | 2   | 3   | 2   | 4   | 5   | ... | 0   | 0   | 0   | 1   | 0   | 0   | 0   | 0   | 0   | 0   | \n",
       "| 40  | 1   | 4   | 2   | 10  | 1   | 4   | 1   | 4   | 7   | ... | 0   | 0   | 0   | 1   | 0   | 0   | 0   | 0   | 0   | 0   | \n",
       "| 23  | 1   | 2   | 1   |  5  | 0   | 5   | 0   | 5   | 0   | ... | 0   | 0   | 0   | 0   | 0   | 0   | 0   | 0   | 0   | 0   | \n",
       "\n",
       "\n"
      ],
      "text/plain": [
       "  Customer_Subtype Number_of_houses Avg_size_household Avg_age\n",
       "1 33               1                3                  2      \n",
       "2 37               1                2                  2      \n",
       "3 37               1                2                  2      \n",
       "4  9               1                3                  3      \n",
       "5 40               1                4                  2      \n",
       "6 23               1                2                  1      \n",
       "  Customer_main_type Roman_catholic Protestant Other_religion No_religion\n",
       "1  8                 0              5          1              3          \n",
       "2  8                 1              4          1              4          \n",
       "3  8                 0              4          2              4          \n",
       "4  3                 2              3          2              4          \n",
       "5 10                 1              4          1              4          \n",
       "6  5                 0              5          0              5          \n",
       "  Married ... Number_of_private_accident_insurance_policies\n",
       "1 7       ... 0                                            \n",
       "2 6       ... 0                                            \n",
       "3 3       ... 0                                            \n",
       "4 5       ... 0                                            \n",
       "5 7       ... 0                                            \n",
       "6 0       ... 0                                            \n",
       "  Number_of_family_accidents_insurance_policies\n",
       "1 0                                            \n",
       "2 0                                            \n",
       "3 0                                            \n",
       "4 0                                            \n",
       "5 0                                            \n",
       "6 0                                            \n",
       "  Number_of_disability_insurance_policies Number_of_fire_policies\n",
       "1 0                                       1                      \n",
       "2 0                                       1                      \n",
       "3 0                                       1                      \n",
       "4 0                                       1                      \n",
       "5 0                                       1                      \n",
       "6 0                                       0                      \n",
       "  Number_of_surfboard_policies Number_of_boat_policies\n",
       "1 0                            0                      \n",
       "2 0                            0                      \n",
       "3 0                            0                      \n",
       "4 0                            0                      \n",
       "5 0                            0                      \n",
       "6 0                            0                      \n",
       "  Number_of_bicycle_policies Number_of_property_insurance_policies\n",
       "1 0                          0                                    \n",
       "2 0                          0                                    \n",
       "3 0                          0                                    \n",
       "4 0                          0                                    \n",
       "5 0                          0                                    \n",
       "6 0                          0                                    \n",
       "  Number_of_social_security_insurance_policies Number_of_mobile_home_policies\n",
       "1 0                                            0                             \n",
       "2 0                                            0                             \n",
       "3 0                                            0                             \n",
       "4 0                                            0                             \n",
       "5 0                                            0                             \n",
       "6 0                                            0                             "
      ]
     },
     "metadata": {},
     "output_type": "display_data"
    }
   ],
   "source": [
    "#Sample of the Data\n",
    "head(caravan_df_maindataset)"
   ]
  },
  {
   "cell_type": "code",
   "execution_count": 4,
   "metadata": {
    "collapsed": false
   },
   "outputs": [
    {
     "data": {
      "text/html": [
       "'Missing values: 0'"
      ],
      "text/latex": [
       "'Missing values: 0'"
      ],
      "text/markdown": [
       "'Missing values: 0'"
      ],
      "text/plain": [
       "[1] \"Missing values: 0\""
      ]
     },
     "metadata": {},
     "output_type": "display_data"
    }
   ],
   "source": [
    "# Ensure there are no missing values.\n",
    "paste0(\"Missing values: \", sum(is.na(caravan_df_maindataset)))"
   ]
  },
  {
   "cell_type": "code",
   "execution_count": 5,
   "metadata": {
    "collapsed": false
   },
   "outputs": [
    {
     "name": "stdout",
     "output_type": "stream",
     "text": [
      "'data.frame':\t9822 obs. of  86 variables:\n",
      " $ Customer_Subtype                             : int  33 37 37 9 40 23 39 33 33 11 ...\n",
      " $ Number_of_houses                             : int  1 1 1 1 1 1 2 1 1 2 ...\n",
      " $ Avg_size_household                           : int  3 2 2 3 4 2 3 2 2 3 ...\n",
      " $ Avg_age                                      : int  2 2 2 3 2 1 2 3 4 3 ...\n",
      " $ Customer_main_type                           : int  8 8 8 3 10 5 9 8 8 3 ...\n",
      " $ Roman_catholic                               : int  0 1 0 2 1 0 2 0 0 3 ...\n",
      " $ Protestant                                   : int  5 4 4 3 4 5 2 7 1 5 ...\n",
      " $ Other_religion                               : int  1 1 2 2 1 0 0 0 3 0 ...\n",
      " $ No_religion                                  : int  3 4 4 4 4 5 5 2 6 2 ...\n",
      " $ Married                                      : int  7 6 3 5 7 0 7 7 6 7 ...\n",
      " $ Living_together                              : int  0 2 2 2 1 6 2 2 0 0 ...\n",
      " $ Other_relation                               : int  2 2 4 2 2 3 0 0 3 2 ...\n",
      " $ Singles                                      : int  1 0 4 2 2 3 0 0 3 2 ...\n",
      " $ Household_without_children                   : int  2 4 4 3 4 5 3 5 3 2 ...\n",
      " $ Household_with_children                      : int  6 5 2 4 4 2 6 4 3 6 ...\n",
      " $ High_level_education                         : int  1 0 0 3 5 0 0 0 0 0 ...\n",
      " $ Medium_level_education                       : int  2 5 5 4 4 5 4 3 1 4 ...\n",
      " $ Lower_level_education                        : int  7 4 4 2 0 4 5 6 8 5 ...\n",
      " $ High_status                                  : int  1 0 0 4 0 2 0 2 1 2 ...\n",
      " $ Entrepreneur                                 : int  0 0 0 0 5 0 0 0 1 0 ...\n",
      " $ Farmer                                       : int  1 0 0 0 4 0 0 0 0 0 ...\n",
      " $ Middle_management                            : int  2 5 7 3 0 4 4 2 1 3 ...\n",
      " $ Skilled_labourers                            : int  5 0 0 1 0 2 1 5 8 3 ...\n",
      " $ Unskilled_labourers                          : int  2 4 2 2 0 2 5 2 1 3 ...\n",
      " $ Social_class_A                               : int  1 0 0 3 9 2 0 2 1 1 ...\n",
      " $ Social_class_B1                              : int  1 2 5 2 0 2 1 1 1 2 ...\n",
      " $ Social_class_B2                              : int  2 3 0 1 0 2 4 2 0 1 ...\n",
      " $ Social_class_C                               : int  6 5 4 4 0 4 5 5 8 4 ...\n",
      " $ Social_class_D                               : int  1 0 0 0 0 2 0 2 1 2 ...\n",
      " $ Rented_house                                 : int  1 2 7 5 4 9 6 0 9 0 ...\n",
      " $ Home_owners                                  : int  8 7 2 4 5 0 3 9 0 9 ...\n",
      " $ X1_car                                       : int  8 7 7 9 6 5 8 4 5 6 ...\n",
      " $ X2_cars                                      : int  0 1 0 0 2 3 0 4 2 1 ...\n",
      " $ No_car                                       : int  1 2 2 0 1 3 1 2 3 2 ...\n",
      " $ National_Health_Service                      : int  8 6 9 7 5 9 9 6 7 6 ...\n",
      " $ Private_health_insurance                     : int  1 3 0 2 4 0 0 3 2 3 ...\n",
      " $ Income_._30                                  : int  0 2 4 1 0 5 4 2 7 2 ...\n",
      " $ Income_30.45.000                             : int  4 0 5 5 0 2 3 5 2 3 ...\n",
      " $ Income_45.75.000                             : int  5 5 0 3 9 3 3 3 1 3 ...\n",
      " $ Income_75.122.000                            : int  0 2 0 0 0 0 0 0 0 1 ...\n",
      " $ Income_.123.000                              : int  0 0 0 0 0 0 0 0 0 0 ...\n",
      " $ Average_income                               : int  4 5 3 4 6 3 3 3 2 4 ...\n",
      " $ Purchasing_power                             : int  3 4 4 4 3 3 5 3 3 7 ...\n",
      " $ private_third_party_insurance                : int  0 2 2 0 0 0 0 0 0 2 ...\n",
      " $ third_party_insurance_firms                  : int  0 0 0 0 0 0 0 0 0 0 ...\n",
      " $ third_party_insurane_agriculture             : int  0 0 0 0 0 0 0 0 0 0 ...\n",
      " $ car_policies                                 : int  6 0 6 6 0 6 6 0 5 0 ...\n",
      " $ delivery_van_policies                        : int  0 0 0 0 0 0 0 0 0 0 ...\n",
      " $ Contribution_motorcycle.scooter              : int  0 0 0 0 0 0 0 0 0 0 ...\n",
      " $ lorry_policies                               : int  0 0 0 0 0 0 0 0 0 0 ...\n",
      " $ trailer_policies                             : int  0 0 0 0 0 0 0 0 0 0 ...\n",
      " $ tractor_policies                             : int  0 0 0 0 0 0 0 0 0 0 ...\n",
      " $ agricultural_machines_policies               : int  0 0 0 0 0 0 0 0 0 0 ...\n",
      " $ moped_policies                               : int  0 0 0 0 0 0 0 3 0 0 ...\n",
      " $ life_insurances                              : int  0 0 0 0 0 0 0 0 0 0 ...\n",
      " $ private_accident_insurance_policies          : int  0 0 0 0 0 0 0 0 0 0 ...\n",
      " $ family_accidents_insurance_policies          : int  0 0 0 0 0 0 0 0 0 0 ...\n",
      " $ disability_insurance_policies                : int  0 0 0 0 0 0 0 0 0 0 ...\n",
      " $ fire_policies                                : int  5 2 2 2 6 0 0 0 0 3 ...\n",
      " $ surfboard_policies                           : int  0 0 0 0 0 0 0 0 0 0 ...\n",
      " $ boat_policies                                : int  0 0 0 0 0 0 0 0 0 0 ...\n",
      " $ bicycle_policies                             : int  0 0 0 0 0 0 0 0 0 0 ...\n",
      " $ property_insurance_policies                  : int  0 0 0 0 0 0 0 0 0 0 ...\n",
      " $ social_security_insurance_policies           : int  0 0 0 0 0 0 0 0 0 0 ...\n",
      " $ Number_of_private_third_party_insurance      : int  0 2 1 0 0 0 0 0 0 1 ...\n",
      " $ Number_of_third_party_insurance_firms        : int  0 0 0 0 0 0 0 0 0 0 ...\n",
      " $ Number_of_third_party_insurane_agriculture   : int  0 0 0 0 0 0 0 0 0 0 ...\n",
      " $ Number_of_car_policies                       : int  1 0 1 1 0 1 1 0 1 0 ...\n",
      " $ Number_of_delivery_van_policies              : int  0 0 0 0 0 0 0 0 0 0 ...\n",
      " $ Number_of_motorcycle.scooter_policies        : int  0 0 0 0 0 0 0 0 0 0 ...\n",
      " $ Number_of_lorry_policies                     : int  0 0 0 0 0 0 0 0 0 0 ...\n",
      " $ Number_of_trailer_policies                   : int  0 0 0 0 0 0 0 0 0 0 ...\n",
      " $ Number_of_tractor_policies                   : int  0 0 0 0 0 0 0 0 0 0 ...\n",
      " $ Number_of_agricultural_machines_policies     : int  0 0 0 0 0 0 0 0 0 0 ...\n",
      " $ Number_of_moped_policies                     : int  0 0 0 0 0 0 0 1 0 0 ...\n",
      " $ Number_of_life_insurances                    : int  0 0 0 0 0 0 0 0 0 0 ...\n",
      " $ Number_of_private_accident_insurance_policies: int  0 0 0 0 0 0 0 0 0 0 ...\n",
      " $ Number_of_family_accidents_insurance_policies: int  0 0 0 0 0 0 0 0 0 0 ...\n",
      " $ Number_of_disability_insurance_policies      : int  0 0 0 0 0 0 0 0 0 0 ...\n",
      " $ Number_of_fire_policies                      : int  1 1 1 1 1 0 0 0 0 1 ...\n",
      " $ Number_of_surfboard_policies                 : int  0 0 0 0 0 0 0 0 0 0 ...\n",
      " $ Number_of_boat_policies                      : int  0 0 0 0 0 0 0 0 0 0 ...\n",
      " $ Number_of_bicycle_policies                   : int  0 0 0 0 0 0 0 0 0 0 ...\n",
      " $ Number_of_property_insurance_policies        : int  0 0 0 0 0 0 0 0 0 0 ...\n",
      " $ Number_of_social_security_insurance_policies : int  0 0 0 0 0 0 0 0 0 0 ...\n",
      " $ Number_of_mobile_home_policies               : int  0 0 0 0 0 0 0 0 0 0 ...\n"
     ]
    }
   ],
   "source": [
    "# Finding which features are numeric.\n",
    "numeric_caravan <- which(sapply(caravan_df_maindataset,is.numeric))\n",
    "str(caravan_df_maindataset[,numeric_caravan])"
   ]
  },
  {
   "cell_type": "markdown",
   "metadata": {
    "collapsed": true
   },
   "source": [
    "###### All features are numeric. Since, Number_of_mobile_home_policies is our dependent variable, let's make sure that it is binary by converting it to a factor"
   ]
  },
  {
   "cell_type": "code",
   "execution_count": 5,
   "metadata": {
    "collapsed": false
   },
   "outputs": [],
   "source": [
    "caravan_df_maindataset$Number_of_mobile_home_policies <- factor(caravan_df_maindataset$Number_of_mobile_home_policies, labels=c(0,1))"
   ]
  },
  {
   "cell_type": "markdown",
   "metadata": {},
   "source": [
    "###### Let's Check How Unbalanced Our Data Is By Counting The Number of 1s and 0s In The Feature Number_of_mobile_home_policies"
   ]
  },
  {
   "cell_type": "code",
   "execution_count": 6,
   "metadata": {
    "collapsed": false
   },
   "outputs": [
    {
     "data": {},
     "metadata": {},
     "output_type": "display_data"
    },
    {
     "data": {
      "image/png": "[encoded data removed]",
      "text/plain": [
       "plot without title"
      ]
     },
     "metadata": {},
     "output_type": "display_data"
    }
   ],
   "source": [
    "library(ggplot2)\n",
    "library(plyr)\n",
    "\n",
    "\n",
    "Not_Insured_with_caravan  <- sum(caravan_df_maindataset$Number_of_mobile_home_policies == 0)\n",
    "Insured_with_caravan <- sum(caravan_df_maindataset$Number_of_mobile_home_policies == 1)\n",
    "\n",
    "dat <- data.frame(\n",
    "  Policy_status = factor(c(\"Not_Insured_with_caravan\",\"Insured_with_caravan\"), levels=c(\"Not_Insured_with_caravan\",\"Insured_with_caravan\")),\n",
    "  Count = c( Not_Insured_with_caravan , Insured_with_caravan)\n",
    ")\n",
    "\n",
    "ggplot(data=dat, aes(x=Policy_status, y=Count, fill=Policy_status)) +\n",
    "  geom_bar(colour=\"black\", stat=\"identity\")"
   ]
  },
  {
   "cell_type": "code",
   "execution_count": 7,
   "metadata": {
    "collapsed": false
   },
   "outputs": [
    {
     "data": {
      "text/html": [
       "<table>\n",
       "<thead><tr><th scope=col>Number_of_mobile_home_policies</th><th scope=col>Count</th></tr></thead>\n",
       "<tbody>\n",
       "\t<tr><td>0   </td><td>9236</td></tr>\n",
       "\t<tr><td>1   </td><td> 586</td></tr>\n",
       "</tbody>\n",
       "</table>\n"
      ],
      "text/latex": [
       "\\begin{tabular}{r|ll}\n",
       " Number\\_of\\_mobile\\_home\\_policies & Count\\\\\n",
       "\\hline\n",
       "\t 0    & 9236\\\\\n",
       "\t 1    &  586\\\\\n",
       "\\end{tabular}\n"
      ],
      "text/markdown": [
       "\n",
       "Number_of_mobile_home_policies | Count | \n",
       "|---|---|\n",
       "| 0    | 9236 | \n",
       "| 1    |  586 | \n",
       "\n",
       "\n"
      ],
      "text/plain": [
       "  Number_of_mobile_home_policies Count\n",
       "1 0                              9236 \n",
       "2 1                               586 "
      ]
     },
     "metadata": {},
     "output_type": "display_data"
    }
   ],
   "source": [
    "Frequency.Number_of_mobile_home_policies <- data.frame(Number_of_mobile_home_policies = levels(caravan_df_maindataset$Number_of_mobile_home_policies), Count = as.numeric(table(caravan_df_maindataset$Number_of_mobile_home_policies)))\n",
    "Frequency.Number_of_mobile_home_policies"
   ]
  },
  {
   "cell_type": "markdown",
   "metadata": {},
   "source": [
    "###### It is clear that our dataset is highly unbalanced with only 5.9% of observations actually buying the insurance. Before we run our analysis and handle the unbalanced data, let's understand the characteristics of the observations that actually bought the 'mobile home insurance'. Since, it is a cross-selling problem, we will focus more on understanding which existing customers tend to also buy the 'mobile_home_insurance'. "
   ]
  },
  {
   "cell_type": "code",
   "execution_count": 313,
   "metadata": {
    "collapsed": false
   },
   "outputs": [
    {
     "data": {},
     "metadata": {},
     "output_type": "display_data"
    },
    {
     "data": {
      "image/png": "[encoded data removed]",
      "text/plain": [
       "plot without title"
      ]
     },
     "metadata": {},
     "output_type": "display_data"
    }
   ],
   "source": [
    "TrainDataset <- read.csv('C:\\\\Users\\\\Jayant\\\\Desktop\\\\DMPA\\\\Project\\\\Data_sets\\\\Data_sets\\\\Master_dataset.csv')\n",
    "\n",
    "car_policies <- sum(TrainDataset$Number_of_mobile_home_policies == 1 & TrainDataset$car_policies  != 0)\n",
    "Income_30K <- sum(TrainDataset$Number_of_mobile_home_policies == 1 & TrainDataset$Income_._30  != 0)\n",
    "moped_policies <- sum(TrainDataset$Number_of_mobile_home_policies == 1 & TrainDataset$moped_policies  != 0)\n",
    "fire_policies <- sum(TrainDataset$Number_of_mobile_home_policies == 1 & TrainDataset$fire_policies  != 0)\n",
    "Lower_level_education <- sum(TrainDataset$Number_of_mobile_home_policies == 1 & TrainDataset$Lower_level_education  != 0)\n",
    "\n",
    "\n",
    "dat <- data.frame(\n",
    "  Selected_Features = factor(c(\"car_policies\" , \"Income_30K \" , \"moped_policies\" , \"fire_policies\"  , \"Lower_level_education\" ), levels=c(\"car_policies\" , \"Income_30K \" , \"moped_policies\" , \"fire_policies\"  , \"Lower_level_education\")),\n",
    "  Count = c( car_policies  ,  Income_30K  , moped_policies , fire_policies  , Lower_level_education )\n",
    ")\n",
    "\n",
    "ggplot(data=dat, aes(x=Selected_Features, y=Count, fill=Selected_Features)) +\n",
    "  geom_bar(colour=\"black\", stat=\"identity\")"
   ]
  },
  {
   "cell_type": "markdown",
   "metadata": {},
   "source": [
    "###### The above visualization shows characteristics of only the observations that actually bought the 'mobile home insurance'. It can be observed that existing customers of car_policies and fire_policies tend to also buy the 'mobile home insurance'. Moreover, the success class population is generally lower_level_education and Income_30K. Let's look at more features of the success class."
   ]
  },
  {
   "cell_type": "code",
   "execution_count": 315,
   "metadata": {
    "collapsed": false
   },
   "outputs": [
    {
     "data": {},
     "metadata": {},
     "output_type": "display_data"
    },
    {
     "data": {
      "image/png": "[encoded data removed]",
      "text/plain": [
       "plot without title"
      ]
     },
     "metadata": {},
     "output_type": "display_data"
    }
   ],
   "source": [
    "No_of_boat_policies <- sum(TrainDataset$Number_of_mobile_home_policies == 1 & TrainDataset$Number_of_boat_policies != 0)\n",
    "Married <- sum(TrainDataset$Number_of_mobile_home_policies == 1 & TrainDataset$Married  != 0)\n",
    "Other_relation <- sum(TrainDataset$Number_of_mobile_home_policies == 1 & TrainDataset$Other_relation  != 0)\n",
    "boat_policies <- sum(TrainDataset$Number_of_mobile_home_policies == 1 & TrainDataset$boat_policies  != 0)\n",
    "Skilled_labourers <- sum(TrainDataset$Number_of_mobile_home_policies == 1 & TrainDataset$Skilled_labourers  != 0)\n",
    "\n",
    "Lower_level_education <- sum(TrainDataset$Number_of_mobile_home_policies == 1 & TrainDataset$Lower_level_education  != 0)\n",
    "\n",
    "\n",
    "dat <- data.frame(\n",
    "  Selected_Features = factor(c(\"No_of_boat_policies\",\"Married\" , \"Other_relation\" , \"boat_policies\" , \"Skilled_labourers\"  , \"Lower_level_education\" ), levels=c(\"No_of_boat_policies\",\"Married\" , \"Other_relation\" , \"boat_policies\" , \"Skilled_labourers\"  , \"Lower_level_education\")),\n",
    "  Count = c(No_of_boat_policies, Married , Other_relation , boat_policies , Skilled_labourers, Lower_level_education)\n",
    ")\n",
    "\n",
    "ggplot(data=dat, aes(x=Selected_Features, y=Count, fill=Selected_Features)) +\n",
    "  geom_bar(colour=\"black\", stat=\"identity\")\n"
   ]
  },
  {
   "cell_type": "markdown",
   "metadata": {
    "collapsed": true
   },
   "source": [
    "###### Both the above plots are based on the features that were indicated as important predictors from our analysis of bagging and random forest."
   ]
  },
  {
   "cell_type": "markdown",
   "metadata": {},
   "source": [
    "###### 2. Association Rule Mining For Understanding Cross Selling"
   ]
  },
  {
   "cell_type": "markdown",
   "metadata": {},
   "source": [
    "###### Since, Caravan had released this data to understand how to cross-sell its 'Mobile Home Policies' to its existing customers, one of the first approaches we took was to devise association rules to understand customers of which existing policies tend to also buy the 'mobile home policy' ."
   ]
  },
  {
   "cell_type": "code",
   "execution_count": 10,
   "metadata": {
    "collapsed": false
   },
   "outputs": [
    {
     "name": "stdout",
     "output_type": "stream",
     "text": [
      "Apriori\n",
      "\n",
      "Parameter specification:\n",
      " confidence minval smax arem  aval originalSupport maxtime support minlen\n",
      "        0.7    0.1    1 none FALSE            TRUE       5   0.001      1\n",
      " maxlen target   ext\n",
      "     10  rules FALSE\n",
      "\n",
      "Algorithmic control:\n",
      " filter tree heap memopt load sort verbose\n",
      "    0.1 TRUE TRUE  FALSE TRUE    2    TRUE\n",
      "\n",
      "Absolute minimum support count: 5 \n",
      "\n",
      "set item appearances ...[1 item(s)] done [0.00s].\n",
      "set transactions ...[630 item(s), 5822 transaction(s)] done [0.03s].\n",
      "sorting and recoding items ... [542 item(s)] done [0.02s].\n",
      "creating transaction tree ... done [0.01s].\n",
      "checking subsets of size 1 2 3 4"
     ]
    },
    {
     "name": "stderr",
     "output_type": "stream",
     "text": [
      "Warning message in apriori(data = train, parameter = list(supp = 0.001, conf = 0.7), :\n",
      "\"Mining stopped (time limit reached). Only patterns up to a length of 4 returned!\""
     ]
    },
    {
     "name": "stdout",
     "output_type": "stream",
     "text": [
      " done [61.08s].\n",
      "writing ... [82 rule(s)] done [4.60s].\n",
      "creating S4 object  ... done [0.86s].\n",
      "     lhs                                                  rhs                                    support confidence     lift\n",
      "[1]  {Social_class_B2=3,                                                                                                    \n",
      "      Number_of_car_policies=1,                                                                                             \n",
      "      Number_of_boat_policies=1}                       => {Number_of_mobile_home_policies=1} 0.001030574  1.0000000 16.72989\n",
      "[2]  {Avg_age=3,                                                                                                            \n",
      "      Social_class_B2=3,                                                                                                    \n",
      "      Number_of_boat_policies=1}                       => {Number_of_mobile_home_policies=1} 0.001202336  1.0000000 16.72989\n",
      "[3]  {Social_class_B2=3,                                                                                                    \n",
      "      life_insurances=0,                                                                                                    \n",
      "      Number_of_boat_policies=1}                       => {Number_of_mobile_home_policies=1} 0.001202336  0.8750000 14.63865\n",
      "[4]  {Social_class_B2=3,                                                                                                    \n",
      "      Number_of_life_insurances=0,                                                                                          \n",
      "      Number_of_boat_policies=1}                       => {Number_of_mobile_home_policies=1} 0.001202336  0.8750000 14.63865\n",
      "[5]  {Social_class_B2=3,                                                                                                    \n",
      "      Number_of_private_third_party_insurance=0,                                                                            \n",
      "      Number_of_boat_policies=1}                       => {Number_of_mobile_home_policies=1} 0.001030574  0.8571429 14.33990\n",
      "[6]  {Social_class_B2=3,                                                                                                    \n",
      "      private_third_party_insurance=0,                                                                                      \n",
      "      Number_of_boat_policies=1}                       => {Number_of_mobile_home_policies=1} 0.001030574  0.8571429 14.33990\n",
      "[7]  {Number_of_houses=1,                                                                                                   \n",
      "      Social_class_B2=3,                                                                                                    \n",
      "      Number_of_boat_policies=1}                       => {Number_of_mobile_home_policies=1} 0.001030574  0.8571429 14.33990\n",
      "[8]  {Social_class_B2=3,                                                                                                    \n",
      "      Number_of_boat_policies=1}                       => {Number_of_mobile_home_policies=1} 0.001202336  0.7777778 13.01213\n",
      "[9]  {Social_class_B2=3,                                                                                                    \n",
      "      moped_policies=0,                                                                                                     \n",
      "      Number_of_boat_policies=1}                       => {Number_of_mobile_home_policies=1} 0.001202336  0.7777778 13.01213\n",
      "[10] {Social_class_B2=3,                                                                                                    \n",
      "      Number_of_moped_policies=0,                                                                                           \n",
      "      Number_of_boat_policies=1}                       => {Number_of_mobile_home_policies=1} 0.001202336  0.7777778 13.01213\n",
      "[11] {Social_class_B2=3,                                                                                                    \n",
      "      Contribution_motorcycle.scooter=0,                                                                                    \n",
      "      Number_of_boat_policies=1}                       => {Number_of_mobile_home_policies=1} 0.001202336  0.7777778 13.01213\n",
      "[12] {Social_class_B2=3,                                                                                                    \n",
      "      Number_of_motorcycle.scooter_policies=0,                                                                              \n",
      "      Number_of_boat_policies=1}                       => {Number_of_mobile_home_policies=1} 0.001202336  0.7777778 13.01213\n",
      "[13] {Social_class_B2=3,                                                                                                    \n",
      "      Number_of_boat_policies=1,                                                                                            \n",
      "      Number_of_bicycle_policies=0}                    => {Number_of_mobile_home_policies=1} 0.001202336  0.7777778 13.01213\n",
      "[14] {Social_class_B2=3,                                                                                                    \n",
      "      bicycle_policies=0,                                                                                                   \n",
      "      Number_of_boat_policies=1}                       => {Number_of_mobile_home_policies=1} 0.001202336  0.7777778 13.01213\n",
      "[15] {Social_class_B2=3,                                                                                                    \n",
      "      Number_of_tractor_policies=0,                                                                                         \n",
      "      Number_of_boat_policies=1}                       => {Number_of_mobile_home_policies=1} 0.001202336  0.7777778 13.01213\n",
      "[16] {Social_class_B2=3,                                                                                                    \n",
      "      tractor_policies=0,                                                                                                   \n",
      "      Number_of_boat_policies=1}                       => {Number_of_mobile_home_policies=1} 0.001202336  0.7777778 13.01213\n",
      "[17] {Social_class_B2=3,                                                                                                    \n",
      "      third_party_insurance_firms=0,                                                                                        \n",
      "      Number_of_boat_policies=1}                       => {Number_of_mobile_home_policies=1} 0.001202336  0.7777778 13.01213\n",
      "[18] {Social_class_B2=3,                                                                                                    \n",
      "      Number_of_boat_policies=1,                                                                                            \n",
      "      Number_of_social_security_insurance_policies=0}  => {Number_of_mobile_home_policies=1} 0.001202336  0.7777778 13.01213\n",
      "[19] {Social_class_B2=3,                                                                                                    \n",
      "      social_security_insurance_policies=0,                                                                                 \n",
      "      Number_of_boat_policies=1}                       => {Number_of_mobile_home_policies=1} 0.001202336  0.7777778 13.01213\n",
      "[20] {Social_class_B2=3,                                                                                                    \n",
      "      Number_of_third_party_insurance_firms=0,                                                                              \n",
      "      Number_of_boat_policies=1}                       => {Number_of_mobile_home_policies=1} 0.001202336  0.7777778 13.01213\n",
      "[21] {Social_class_B2=3,                                                                                                    \n",
      "      trailer_policies=0,                                                                                                   \n",
      "      Number_of_boat_policies=1}                       => {Number_of_mobile_home_policies=1} 0.001202336  0.7777778 13.01213\n",
      "[22] {Social_class_B2=3,                                                                                                    \n",
      "      Number_of_trailer_policies=0,                                                                                         \n",
      "      Number_of_boat_policies=1}                       => {Number_of_mobile_home_policies=1} 0.001202336  0.7777778 13.01213\n",
      "[23] {Social_class_B2=3,                                                                                                    \n",
      "      Number_of_delivery_van_policies=0,                                                                                    \n",
      "      Number_of_boat_policies=1}                       => {Number_of_mobile_home_policies=1} 0.001202336  0.7777778 13.01213\n",
      "[24] {Social_class_B2=3,                                                                                                    \n",
      "      delivery_van_policies=0,                                                                                              \n",
      "      Number_of_boat_policies=1}                       => {Number_of_mobile_home_policies=1} 0.001202336  0.7777778 13.01213\n",
      "[25] {Social_class_B2=3,                                                                                                    \n",
      "      property_insurance_policies=0,                                                                                        \n",
      "      Number_of_boat_policies=1}                       => {Number_of_mobile_home_policies=1} 0.001202336  0.7777778 13.01213\n",
      "[26] {Social_class_B2=3,                                                                                                    \n",
      "      Number_of_boat_policies=1,                                                                                            \n",
      "      Number_of_property_insurance_policies=0}         => {Number_of_mobile_home_policies=1} 0.001202336  0.7777778 13.01213\n",
      "[27] {Social_class_B2=3,                                                                                                    \n",
      "      family_accidents_insurance_policies=0,                                                                                \n",
      "      Number_of_boat_policies=1}                       => {Number_of_mobile_home_policies=1} 0.001202336  0.7777778 13.01213\n",
      "[28] {Social_class_B2=3,                                                                                                    \n",
      "      Number_of_family_accidents_insurance_policies=0,                                                                      \n",
      "      Number_of_boat_policies=1}                       => {Number_of_mobile_home_policies=1} 0.001202336  0.7777778 13.01213\n",
      "[29] {Social_class_B2=3,                                                                                                    \n",
      "      Number_of_private_accident_insurance_policies=0,                                                                      \n",
      "      Number_of_boat_policies=1}                       => {Number_of_mobile_home_policies=1} 0.001202336  0.7777778 13.01213\n",
      "[30] {Social_class_B2=3,                                                                                                    \n",
      "      private_accident_insurance_policies=0,                                                                                \n",
      "      Number_of_boat_policies=1}                       => {Number_of_mobile_home_policies=1} 0.001202336  0.7777778 13.01213\n",
      "[31] {Social_class_B2=3,                                                                                                    \n",
      "      Number_of_disability_insurance_policies=0,                                                                            \n",
      "      Number_of_boat_policies=1}                       => {Number_of_mobile_home_policies=1} 0.001202336  0.7777778 13.01213\n",
      "[32] {Social_class_B2=3,                                                                                                    \n",
      "      disability_insurance_policies=0,                                                                                      \n",
      "      Number_of_boat_policies=1}                       => {Number_of_mobile_home_policies=1} 0.001202336  0.7777778 13.01213\n",
      "[33] {Social_class_B2=3,                                                                                                    \n",
      "      Number_of_agricultural_machines_policies=0,                                                                           \n",
      "      Number_of_boat_policies=1}                       => {Number_of_mobile_home_policies=1} 0.001202336  0.7777778 13.01213\n",
      "[34] {Social_class_B2=3,                                                                                                    \n",
      "      agricultural_machines_policies=0,                                                                                     \n",
      "      Number_of_boat_policies=1}                       => {Number_of_mobile_home_policies=1} 0.001202336  0.7777778 13.01213\n",
      "[35] {Social_class_B2=3,                                                                                                    \n",
      "      lorry_policies=0,                                                                                                     \n",
      "      Number_of_boat_policies=1}                       => {Number_of_mobile_home_policies=1} 0.001202336  0.7777778 13.01213\n",
      "[36] {Social_class_B2=3,                                                                                                    \n",
      "      Number_of_lorry_policies=0,                                                                                           \n",
      "      Number_of_boat_policies=1}                       => {Number_of_mobile_home_policies=1} 0.001202336  0.7777778 13.01213\n",
      "[37] {Social_class_B2=3,                                                                                                    \n",
      "      Number_of_surfboard_policies=0,                                                                                       \n",
      "      Number_of_boat_policies=1}                       => {Number_of_mobile_home_policies=1} 0.001202336  0.7777778 13.01213\n",
      "[38] {Social_class_B2=3,                                                                                                    \n",
      "      surfboard_policies=0,                                                                                                 \n",
      "      Number_of_boat_policies=1}                       => {Number_of_mobile_home_policies=1} 0.001202336  0.7777778 13.01213\n",
      "[39] {Middle_management=3,                                                                                                  \n",
      "      Number_of_tractor_policies=0,                                                                                         \n",
      "      Number_of_boat_policies=1}                       => {Number_of_mobile_home_policies=1} 0.001202336  0.7777778 13.01213\n",
      "[40] {Middle_management=3,                                                                                                  \n",
      "      tractor_policies=0,                                                                                                   \n",
      "      Number_of_boat_policies=1}                       => {Number_of_mobile_home_policies=1} 0.001202336  0.7777778 13.01213\n",
      "[41] {Other_religion=2,                                                                                                     \n",
      "      fire_policies=4,                                                                                                      \n",
      "      Number_of_social_security_insurance_policies=1}  => {Number_of_mobile_home_policies=1} 0.001202336  0.7777778 13.01213\n",
      "[42] {Skilled_labourers=3,                                                                                                  \n",
      "      Number_of_private_third_party_insurance=0,                                                                            \n",
      "      Number_of_boat_policies=1}                       => {Number_of_mobile_home_policies=1} 0.001030574  0.7500000 12.54741\n",
      "[43] {Skilled_labourers=3,                                                                                                  \n",
      "      private_third_party_insurance=0,                                                                                      \n",
      "      Number_of_boat_policies=1}                       => {Number_of_mobile_home_policies=1} 0.001030574  0.7500000 12.54741\n",
      "[44] {Social_class_B2=3,                                                                                                    \n",
      "      third_party_insurane_agriculture=0,                                                                                   \n",
      "      Number_of_boat_policies=1}                       => {Number_of_mobile_home_policies=1} 0.001030574  0.7500000 12.54741\n",
      "[45] {Social_class_B2=3,                                                                                                    \n",
      "      Number_of_third_party_insurane_agriculture=0,                                                                         \n",
      "      Number_of_boat_policies=1}                       => {Number_of_mobile_home_policies=1} 0.001030574  0.7500000 12.54741\n",
      "[46] {Avg_age=3,                                                                                                            \n",
      "      Middle_management=3,                                                                                                  \n",
      "      Number_of_boat_policies=1}                       => {Number_of_mobile_home_policies=1} 0.001030574  0.7500000 12.54741\n",
      "[47] {Social_class_B1=1,                                                                                                    \n",
      "      car_policies=6,                                                                                                       \n",
      "      Number_of_boat_policies=1}                       => {Number_of_mobile_home_policies=1} 0.001030574  0.7500000 12.54741\n",
      "[48] {Social_class_B1=1,                                                                                                    \n",
      "      Number_of_car_policies=1,                                                                                             \n",
      "      Number_of_boat_policies=1}                       => {Number_of_mobile_home_policies=1} 0.001030574  0.7500000 12.54741\n",
      "[49] {Avg_age=3,                                                                                                            \n",
      "      Other_relation=2,                                                                                                     \n",
      "      Number_of_boat_policies=1}                       => {Number_of_mobile_home_policies=1} 0.001030574  0.7500000 12.54741\n",
      "[50] {Other_relation=2,                                                                                                     \n",
      "      Number_of_private_third_party_insurance=0,                                                                            \n",
      "      Number_of_boat_policies=1}                       => {Number_of_mobile_home_policies=1} 0.001030574  0.7500000 12.54741\n",
      "[51] {Other_relation=2,                                                                                                     \n",
      "      private_third_party_insurance=0,                                                                                      \n",
      "      Number_of_boat_policies=1}                       => {Number_of_mobile_home_policies=1} 0.001030574  0.7500000 12.54741\n",
      "[52] {Living_together=1,                                                                                                    \n",
      "      car_policies=6,                                                                                                       \n",
      "      Number_of_boat_policies=1}                       => {Number_of_mobile_home_policies=1} 0.001030574  0.7500000 12.54741\n",
      "[53] {car_policies=6,                                                                                                       \n",
      "      Number_of_private_third_party_insurance=0,                                                                            \n",
      "      Number_of_boat_policies=1}                       => {Number_of_mobile_home_policies=1} 0.001545861  0.7500000 12.54741\n",
      "[54] {private_third_party_insurance=0,                                                                                      \n",
      "      car_policies=6,                                                                                                       \n",
      "      Number_of_boat_policies=1}                       => {Number_of_mobile_home_policies=1} 0.001545861  0.7500000 12.54741\n",
      "[55] {Middle_management=3,                                                                                                  \n",
      "      Number_of_boat_policies=1}                       => {Number_of_mobile_home_policies=1} 0.001202336  0.7000000 11.71092\n",
      "[56] {Skilled_labourers=3,                                                                                                  \n",
      "      Number_of_car_policies=1,                                                                                             \n",
      "      Number_of_boat_policies=1}                       => {Number_of_mobile_home_policies=1} 0.001202336  0.7000000 11.71092\n",
      "[57] {Avg_age=3,                                                                                                            \n",
      "      Skilled_labourers=3,                                                                                                  \n",
      "      Number_of_boat_policies=1}                       => {Number_of_mobile_home_policies=1} 0.001202336  0.7000000 11.71092\n",
      "[58] {Number_of_houses=1,                                                                                                   \n",
      "      Middle_management=3,                                                                                                  \n",
      "      Number_of_boat_policies=1}                       => {Number_of_mobile_home_policies=1} 0.001202336  0.7000000 11.71092\n",
      "[59] {Middle_management=3,                                                                                                  \n",
      "      moped_policies=0,                                                                                                     \n",
      "      Number_of_boat_policies=1}                       => {Number_of_mobile_home_policies=1} 0.001202336  0.7000000 11.71092\n",
      "[60] {Middle_management=3,                                                                                                  \n",
      "      Number_of_moped_policies=0,                                                                                           \n",
      "      Number_of_boat_policies=1}                       => {Number_of_mobile_home_policies=1} 0.001202336  0.7000000 11.71092\n",
      "[61] {Middle_management=3,                                                                                                  \n",
      "      life_insurances=0,                                                                                                    \n",
      "      Number_of_boat_policies=1}                       => {Number_of_mobile_home_policies=1} 0.001202336  0.7000000 11.71092\n",
      "[62] {Middle_management=3,                                                                                                  \n",
      "      Number_of_life_insurances=0,                                                                                          \n",
      "      Number_of_boat_policies=1}                       => {Number_of_mobile_home_policies=1} 0.001202336  0.7000000 11.71092\n",
      "[63] {Middle_management=3,                                                                                                  \n",
      "      Contribution_motorcycle.scooter=0,                                                                                    \n",
      "      Number_of_boat_policies=1}                       => {Number_of_mobile_home_policies=1} 0.001202336  0.7000000 11.71092\n",
      "[64] {Middle_management=3,                                                                                                  \n",
      "      Number_of_motorcycle.scooter_policies=0,                                                                              \n",
      "      Number_of_boat_policies=1}                       => {Number_of_mobile_home_policies=1} 0.001202336  0.7000000 11.71092\n",
      "[65] {Middle_management=3,                                                                                                  \n",
      "      Number_of_boat_policies=1,                                                                                            \n",
      "      Number_of_bicycle_policies=0}                    => {Number_of_mobile_home_policies=1} 0.001202336  0.7000000 11.71092\n",
      "[66] {Middle_management=3,                                                                                                  \n",
      "      bicycle_policies=0,                                                                                                   \n",
      "      Number_of_boat_policies=1}                       => {Number_of_mobile_home_policies=1} 0.001202336  0.7000000 11.71092\n",
      "[67] {Middle_management=3,                                                                                                  \n",
      "      third_party_insurane_agriculture=0,                                                                                   \n",
      "      Number_of_boat_policies=1}                       => {Number_of_mobile_home_policies=1} 0.001202336  0.7000000 11.71092\n",
      "[68] {Middle_management=3,                                                                                                  \n",
      "      Number_of_third_party_insurane_agriculture=0,                                                                         \n",
      "      Number_of_boat_policies=1}                       => {Number_of_mobile_home_policies=1} 0.001202336  0.7000000 11.71092\n",
      "[69] {Middle_management=3,                                                                                                  \n",
      "      third_party_insurance_firms=0,                                                                                        \n",
      "      Number_of_boat_policies=1}                       => {Number_of_mobile_home_policies=1} 0.001202336  0.7000000 11.71092\n",
      "[70] {Middle_management=3,                                                                                                  \n",
      "      Number_of_boat_policies=1,                                                                                            \n",
      "      Number_of_social_security_insurance_policies=0}  => {Number_of_mobile_home_policies=1} 0.001202336  0.7000000 11.71092\n",
      "[71] {Middle_management=3,                                                                                                  \n",
      "      social_security_insurance_policies=0,                                                                                 \n",
      "      Number_of_boat_policies=1}                       => {Number_of_mobile_home_policies=1} 0.001202336  0.7000000 11.71092\n",
      "[72] {Middle_management=3,                                                                                                  \n",
      "      Number_of_third_party_insurance_firms=0,                                                                              \n",
      "      Number_of_boat_policies=1}                       => {Number_of_mobile_home_policies=1} 0.001202336  0.7000000 11.71092\n",
      "[73] {Middle_management=3,                                                                                                  \n",
      "      Number_of_delivery_van_policies=0,                                                                                    \n",
      "      Number_of_boat_policies=1}                       => {Number_of_mobile_home_policies=1} 0.001202336  0.7000000 11.71092\n",
      "[74] {Middle_management=3,                                                                                                  \n",
      "      delivery_van_policies=0,                                                                                              \n",
      "      Number_of_boat_policies=1}                       => {Number_of_mobile_home_policies=1} 0.001202336  0.7000000 11.71092\n",
      "[75] {Middle_management=3,                                                                                                  \n",
      "      family_accidents_insurance_policies=0,                                                                                \n",
      "      Number_of_boat_policies=1}                       => {Number_of_mobile_home_policies=1} 0.001202336  0.7000000 11.71092\n",
      "[76] {Middle_management=3,                                                                                                  \n",
      "      Number_of_family_accidents_insurance_policies=0,                                                                      \n",
      "      Number_of_boat_policies=1}                       => {Number_of_mobile_home_policies=1} 0.001202336  0.7000000 11.71092\n",
      "[77] {Middle_management=3,                                                                                                  \n",
      "      Number_of_disability_insurance_policies=0,                                                                            \n",
      "      Number_of_boat_policies=1}                       => {Number_of_mobile_home_policies=1} 0.001202336  0.7000000 11.71092\n",
      "[78] {Middle_management=3,                                                                                                  \n",
      "      disability_insurance_policies=0,                                                                                      \n",
      "      Number_of_boat_policies=1}                       => {Number_of_mobile_home_policies=1} 0.001202336  0.7000000 11.71092\n",
      "[79] {Middle_management=3,                                                                                                  \n",
      "      Number_of_agricultural_machines_policies=0,                                                                           \n",
      "      Number_of_boat_policies=1}                       => {Number_of_mobile_home_policies=1} 0.001202336  0.7000000 11.71092\n",
      "[80] {Middle_management=3,                                                                                                  \n",
      "      agricultural_machines_policies=0,                                                                                     \n",
      "      Number_of_boat_policies=1}                       => {Number_of_mobile_home_policies=1} 0.001202336  0.7000000 11.71092\n",
      "[81] {Middle_management=3,                                                                                                  \n",
      "      lorry_policies=0,                                                                                                     \n",
      "      Number_of_boat_policies=1}                       => {Number_of_mobile_home_policies=1} 0.001202336  0.7000000 11.71092\n",
      "[82] {Middle_management=3,                                                                                                  \n",
      "      Number_of_lorry_policies=0,                                                                                           \n",
      "      Number_of_boat_policies=1}                       => {Number_of_mobile_home_policies=1} 0.001202336  0.7000000 11.71092\n"
     ]
    }
   ],
   "source": [
    "#Association Rule Mining\n",
    "library(arules)\n",
    "library(arulesViz)\n",
    "\n",
    "train <- read.csv('C:\\\\Users\\\\Jayant\\\\Desktop\\\\DMPA\\\\Project\\\\Data_sets\\\\Data_sets\\\\Train.csv', colClasses=c(rep('factor' , 86)))\n",
    "\n",
    "## Association rule generation\n",
    "rules <- apriori(data = train , parameter = list( supp = 0.001 , conf = 0.7) , appearance = list(default = \"lhs\" , rhs = \"Number_of_mobile_home_policies=1\") )\n",
    "\n",
    "## Sorting rules based on confidence\n",
    "rules <- sort(rules , decreasing = TRUE , by = 'confidence')\n",
    "\n",
    "## Printing the rules\n",
    "inspect(rules)"
   ]
  },
  {
   "cell_type": "markdown",
   "metadata": {},
   "source": [
    "###### As seen above, there exist rules with very high confidence, however, the support of these rules is very less. Since these metrics are data-dependent, lets look at the plot of confidence vs support to adjust them accordingly"
   ]
  },
  {
   "cell_type": "code",
   "execution_count": 11,
   "metadata": {
    "collapsed": false
   },
   "outputs": [
    {
     "data": {
      "image/png": "[encoded data removed]",
      "text/plain": [
       "plot without title"
      ]
     },
     "metadata": {},
     "output_type": "display_data"
    }
   ],
   "source": [
    "## Ploting the generated rules\n",
    "plot(rules)"
   ]
  },
  {
   "cell_type": "markdown",
   "metadata": {},
   "source": [
    "###### As seen in the above plot, if we take a support of greater than 0.0012, we would not get a rule with a confidence higher than 0.8. This is because our dataset is highly unbalanced and there are only few observations out of almost 6000 training observations that contribute to these rules. Having said that, the best rules we can obtain from this data will have a support of around 0.0012 and a confidence as high as 1."
   ]
  },
  {
   "cell_type": "code",
   "execution_count": 12,
   "metadata": {
    "collapsed": false
   },
   "outputs": [
    {
     "name": "stdout",
     "output_type": "stream",
     "text": [
      "Apriori\n",
      "\n",
      "Parameter specification:\n",
      " confidence minval smax arem  aval originalSupport maxtime support minlen\n",
      "        0.9    0.1    1 none FALSE            TRUE       5  0.0012      1\n",
      " maxlen target   ext\n",
      "     10  rules FALSE\n",
      "\n",
      "Algorithmic control:\n",
      " filter tree heap memopt load sort verbose\n",
      "    0.1 TRUE TRUE  FALSE TRUE    2    TRUE\n",
      "\n",
      "Absolute minimum support count: 6 \n",
      "\n",
      "set item appearances ...[1 item(s)] done [0.00s].\n",
      "set transactions ...[630 item(s), 5822 transaction(s)] done [0.04s].\n",
      "sorting and recoding items ... [533 item(s)] done [0.01s].\n",
      "creating transaction tree ... done [0.01s].\n",
      "checking subsets of size 1 2 3 4"
     ]
    },
    {
     "name": "stderr",
     "output_type": "stream",
     "text": [
      "Warning message in apriori(data = train, parameter = list(supp = 0.0012, conf = 0.9), :\n",
      "\"Mining stopped (time limit reached). Only patterns up to a length of 4 returned!\""
     ]
    },
    {
     "name": "stdout",
     "output_type": "stream",
     "text": [
      " done [66.13s].\n",
      "writing ... [1 rule(s)] done [4.60s].\n",
      "creating S4 object  ... done [0.97s].\n",
      "    lhs                            rhs                                    support confidence     lift\n",
      "[1] {Avg_age=3,                                                                                      \n",
      "     Social_class_B2=3,                                                                              \n",
      "     Number_of_boat_policies=1} => {Number_of_mobile_home_policies=1} 0.001202336          1 16.72989\n"
     ]
    }
   ],
   "source": [
    "#Re-running association rules with support = 0.0012 and confidence = 0.9\n",
    "## Association rule generation\n",
    "rules <- apriori(data = train , parameter = list( supp = 0.0012 , conf = 0.9) , appearance = list(default = \"lhs\" , rhs = \"Number_of_mobile_home_policies=1\") )\n",
    "\n",
    "## Sorting rules based on confidence\n",
    "rules <- sort(rules , decreasing = TRUE , by = 'confidence')\n",
    "\n",
    "## Printing the rules\n",
    "inspect(rules)"
   ]
  },
  {
   "cell_type": "markdown",
   "metadata": {},
   "source": [
    "###### The above rule is associated with the best tradeoff we could get given our data. This rule has a very confidence and hence, can be considered a reliable rule. However, we must keep in mind that the support of this rule is low and it might just occur due to a chance factor.\n",
    "###### This rule indicates that the Caravan's existing customers of boat policies also tend to have Caravan's mobile home policies. This might be a useful insight for Caravan to implement cross selling. However, since this rule has a low support, we decided to dig deep into each of the characteristics of the observations that buy caravan's mobile home policies. We have built classification models that are aimed at understanding who will buy the caravan's mobile home insurance and who will not. Since our dataset is highly imbalanced, we have run each of our classification model using techniques such as oversampling and undersampling"
   ]
  },
  {
   "cell_type": "markdown",
   "metadata": {},
   "source": [
    "###### 3. Classification using Logistic Regression - Unbalanced Data, Undersampled Data, Oversampled Data - Including Business Cost For Each Model "
   ]
  },
  {
   "cell_type": "markdown",
   "metadata": {},
   "source": [
    "###### Logistic Using Unbalanced Data"
   ]
  },
  {
   "cell_type": "code",
   "execution_count": 209,
   "metadata": {
    "collapsed": false
   },
   "outputs": [],
   "source": [
    "probabilityDF <- data.frame(matrix(ncol = 20, nrow = 4000))"
   ]
  },
  {
   "cell_type": "code",
   "execution_count": 199,
   "metadata": {
    "collapsed": false
   },
   "outputs": [],
   "source": [
    "\n",
    "\n",
    "#LR Pre-Processing\n",
    "caravan_df_trainLR <- caravan_df_train\n",
    "caravan_df_testLR <- caravan_df_test\n",
    "caravan_df_trainLR$Number_of_mobile_home_policies <- factor(caravan_df_trainLR$Number_of_mobile_home_policies, labels = c(0,1))\n",
    "library(dummies)\n",
    "caravan_df_trainLR <- dummy.data.frame(caravan_df_trainLR, sep = \".\", names = c(\"Customer_main_type\",\"Customer_Subtype\"))\n",
    "caravan_df_testLR <- dummy.data.frame(caravan_df_testLR, sep = \".\", names = c(\"Customer_main_type\",\"Customer_Subtype\"))"
   ]
  },
  {
   "cell_type": "code",
   "execution_count": 200,
   "metadata": {
    "collapsed": false
   },
   "outputs": [
    {
     "name": "stderr",
     "output_type": "stream",
     "text": [
      "Warning message:\n",
      "\"glm.fit: fitted probabilities numerically 0 or 1 occurred\""
     ]
    },
    {
     "data": {
      "text/plain": [
       "\n",
       "Call:  glm(formula = Number_of_mobile_home_policies ~ ., family = \"binomial\", \n",
       "    data = caravan_df_trainLR)\n",
       "\n",
       "Coefficients:\n",
       "                                  (Intercept)  \n",
       "                                   255.779835  \n",
       "                           Customer_Subtype.1  \n",
       "                                     0.298357  \n",
       "                           Customer_Subtype.2  \n",
       "                                     0.626285  \n",
       "                           Customer_Subtype.3  \n",
       "                                     0.775459  \n",
       "                           Customer_Subtype.4  \n",
       "                                    -0.483366  \n",
       "                           Customer_Subtype.5  \n",
       "                                     0.403773  \n",
       "                           Customer_Subtype.6  \n",
       "                                     0.603530  \n",
       "                           Customer_Subtype.7  \n",
       "                                    -0.218449  \n",
       "                           Customer_Subtype.8  \n",
       "                                     0.752301  \n",
       "                           Customer_Subtype.9  \n",
       "                                     0.336168  \n",
       "                          Customer_Subtype.10  \n",
       "                                    -0.292822  \n",
       "                          Customer_Subtype.11  \n",
       "                                     0.263270  \n",
       "                          Customer_Subtype.12  \n",
       "                                     1.084364  \n",
       "                          Customer_Subtype.13  \n",
       "                                     0.269408  \n",
       "                          Customer_Subtype.15  \n",
       "                                   -13.212560  \n",
       "                          Customer_Subtype.16  \n",
       "                                   -14.385494  \n",
       "                          Customer_Subtype.17  \n",
       "                                   -16.008856  \n",
       "                          Customer_Subtype.18  \n",
       "                                   -14.447273  \n",
       "                          Customer_Subtype.19  \n",
       "                                   -15.059721  \n",
       "                          Customer_Subtype.20  \n",
       "                                     1.240721  \n",
       "                          Customer_Subtype.21  \n",
       "                                   -14.007891  \n",
       "                          Customer_Subtype.22  \n",
       "                                     0.474294  \n",
       "                          Customer_Subtype.23  \n",
       "                                    -0.387975  \n",
       "                          Customer_Subtype.24  \n",
       "                                     0.469392  \n",
       "                          Customer_Subtype.25  \n",
       "                                     0.031868  \n",
       "                          Customer_Subtype.26  \n",
       "                                     0.704459  \n",
       "                          Customer_Subtype.27  \n",
       "                                     0.257646  \n",
       "                          Customer_Subtype.28  \n",
       "                                   -14.331670  \n",
       "                          Customer_Subtype.29  \n",
       "                                     0.088167  \n",
       "                          Customer_Subtype.30  \n",
       "                                     0.799390  \n",
       "                          Customer_Subtype.31  \n",
       "                                     0.603076  \n",
       "                          Customer_Subtype.32  \n",
       "                                     0.971908  \n",
       "                          Customer_Subtype.33  \n",
       "                                     0.754069  \n",
       "                          Customer_Subtype.34  \n",
       "                                     0.425013  \n",
       "                          Customer_Subtype.35  \n",
       "                                     0.224519  \n",
       "                          Customer_Subtype.36  \n",
       "                                     0.927485  \n",
       "                          Customer_Subtype.37  \n",
       "                                     1.036779  \n",
       "                          Customer_Subtype.38  \n",
       "                                     0.940528  \n",
       "                          Customer_Subtype.39  \n",
       "                                     0.600708  \n",
       "                          Customer_Subtype.40  \n",
       "                                   -14.246329  \n",
       "                          Customer_Subtype.41  \n",
       "                                           NA  \n",
       "                             Number_of_houses  \n",
       "                                    -0.079240  \n",
       "                           Avg_size_household  \n",
       "                                    -0.033481  \n",
       "                                      Avg_age  \n",
       "                                     0.190077  \n",
       "                         Customer_main_type.1  \n",
       "                                           NA  \n",
       "                         Customer_main_type.2  \n",
       "                                           NA  \n",
       "                         Customer_main_type.3  \n",
       "                                           NA  \n",
       "                         Customer_main_type.4  \n",
       "                                           NA  \n",
       "                         Customer_main_type.5  \n",
       "                                           NA  \n",
       "                         Customer_main_type.6  \n",
       "                                           NA  \n",
       "                         Customer_main_type.7  \n",
       "                                           NA  \n",
       "                         Customer_main_type.8  \n",
       "                                           NA  \n",
       "                         Customer_main_type.9  \n",
       "                                           NA  \n",
       "                        Customer_main_type.10  \n",
       "                                           NA  \n",
       "                               Roman_catholic  \n",
       "                                    -0.095381  \n",
       "                                   Protestant  \n",
       "                                     0.008046  \n",
       "                               Other_religion  \n",
       "                                     0.010400  \n",
       "                                  No_religion  \n",
       "                                    -0.048281  \n",
       "                                      Married  \n",
       "                                     0.253760  \n",
       "                              Living_together  \n",
       "                                     0.150091  \n",
       "                               Other_relation  \n",
       "                                     0.173822  \n",
       "                                      Singles  \n",
       "                                    -0.063262  \n",
       "                   Household_without_children  \n",
       "                                    -0.122386  \n",
       "                      Household_with_children  \n",
       "                                    -0.091298  \n",
       "                         High_level_education  \n",
       "                                     0.006776  \n",
       "                       Medium_level_education  \n",
       "                                    -0.105271  \n",
       "                        Lower_level_education  \n",
       "                                    -0.238215  \n",
       "                                  High_status  \n",
       "                                     0.089426  \n",
       "                                 Entrepreneur  \n",
       "                                     0.016853  \n",
       "                                       Farmer  \n",
       "                                    -0.046193  \n",
       "                            Middle_management  \n",
       "                                     0.118589  \n",
       "                            Skilled_labourers  \n",
       "                                     0.032230  \n",
       "                          Unskilled_labourers  \n",
       "                                     0.097689  \n",
       "                               Social_class_A  \n",
       "                                    -0.002523  \n",
       "                              Social_class_B1  \n",
       "                                    -0.018820  \n",
       "                              Social_class_B2  \n",
       "                                     0.019203  \n",
       "                               Social_class_C  \n",
       "                                     0.081814  \n",
       "                               Social_class_D  \n",
       "                                    -0.053007  \n",
       "                                 Rented_house  \n",
       "                                   -14.748144  \n",
       "                                  Home_owners  \n",
       "                                   -14.726939  \n",
       "                                       X1_car  \n",
       "                                     0.151550  \n",
       "                                      X2_cars  \n",
       "                                     0.127871  \n",
       "                                       No_car  \n",
       "                                     0.075850  \n",
       "                      National_Health_Service  \n",
       "                                   -14.617326  \n",
       "                     Private_health_insurance  \n",
       "                                   -14.674899  \n",
       "                                  Income_._30  \n",
       "                                     0.104669  \n",
       "                             Income_30.45.000  \n",
       "                                     0.131024  \n",
       "                             Income_45.75.000  \n",
       "                                     0.105565  \n",
       "                            Income_75.122.000  \n",
       "                                     0.114998  \n",
       "                              Income_.123.000  \n",
       "                                    -0.177658  \n",
       "                               Average_income  \n",
       "                                     0.054570  \n",
       "                             Purchasing_power  \n",
       "                                     0.074645  \n",
       "                private_third_party_insurance  \n",
       "                                     0.694217  \n",
       "                  third_party_insurance_firms  \n",
       "                                    -0.197197  \n",
       "             third_party_insurane_agriculture  \n",
       "                                    -0.608277  \n",
       "                                 car_policies  \n",
       "                                     0.222972  \n",
       "                        delivery_van_policies  \n",
       "                                    12.392454  \n",
       "              Contribution_motorcycle.scooter  \n",
       "                                    -0.127699  \n",
       "                               lorry_policies  \n",
       "                                    -2.033866  \n",
       "                             trailer_policies  \n",
       "                                     1.317891  \n",
       "                             tractor_policies  \n",
       "                                     0.749037  \n",
       "               agricultural_machines_policies  \n",
       "                                    -6.008076  \n",
       "                               moped_policies  \n",
       "                                     0.262304  \n",
       "                              life_insurances  \n",
       "                                    -0.251409  \n",
       "          private_accident_insurance_policies  \n",
       "                                    -0.554243  \n",
       "          family_accidents_insurance_policies  \n",
       "                                     1.510621  \n",
       "                disability_insurance_policies  \n",
       "                                     0.761072  \n",
       "                                fire_policies  \n",
       "                                     0.205090  \n",
       "                           surfboard_policies  \n",
       "                                    -8.470268  \n",
       "                                boat_policies  \n",
       "                                    -0.194273  \n",
       "                             bicycle_policies  \n",
       "                                     0.404949  \n",
       "                  property_insurance_policies  \n",
       "                                    -1.025409  \n",
       "           social_security_insurance_policies  \n",
       "                                    -0.163979  \n",
       "      Number_of_private_third_party_insurance  \n",
       "                                    -1.092999  \n",
       "        Number_of_third_party_insurance_firms  \n",
       "                                     0.287025  \n",
       "   Number_of_third_party_insurane_agriculture  \n",
       "                                     1.019005  \n",
       "                       Number_of_car_policies  \n",
       "                                    -0.009499  \n",
       "              Number_of_delivery_van_policies  \n",
       "                                   -74.316981  \n",
       "        Number_of_motorcycle.scooter_policies  \n",
       "                                     0.390978  \n",
       "                     Number_of_lorry_policies  \n",
       "                                    -5.128840  \n",
       "                   Number_of_trailer_policies  \n",
       "                                    -1.772590  \n",
       "                   Number_of_tractor_policies  \n",
       "                                    -2.497866  \n",
       "     Number_of_agricultural_machines_policies  \n",
       "                                     0.450817  \n",
       "                     Number_of_moped_policies  \n",
       "                                    -1.269353  \n",
       "                    Number_of_life_insurances  \n",
       "                                     0.516435  \n",
       "Number_of_private_accident_insurance_policies  \n",
       "                                     0.606855  \n",
       "Number_of_family_accidents_insurance_policies  \n",
       "                                    -3.326548  \n",
       "      Number_of_disability_insurance_policies  \n",
       "                                    -2.977123  \n",
       "                      Number_of_fire_policies  \n",
       "                                    -0.319787  \n",
       "                 Number_of_surfboard_policies  \n",
       "                                    10.340019  \n",
       "                      Number_of_boat_policies  \n",
       "                                     2.510073  \n",
       "                   Number_of_bicycle_policies  \n",
       "                                     0.167198  \n",
       "        Number_of_property_insurance_policies  \n",
       "                                     1.966078  \n",
       " Number_of_social_security_insurance_policies  \n",
       "                                     1.016541  \n",
       "\n",
       "Degrees of Freedom: 5821 Total (i.e. Null);  5699 Residual\n",
       "Null Deviance:\t    2636 \n",
       "Residual Deviance: 2204 \tAIC: 2450"
      ]
     },
     "metadata": {},
     "output_type": "display_data"
    }
   ],
   "source": [
    "#Classify Using Logistic Regression\n",
    "logisticTrainingFit <- glm(Number_of_mobile_home_policies ~ ., family = \"binomial\", data = caravan_df_trainLR)\n",
    "logisticTrainingFit"
   ]
  },
  {
   "cell_type": "code",
   "execution_count": 217,
   "metadata": {
    "collapsed": false
   },
   "outputs": [
    {
     "name": "stderr",
     "output_type": "stream",
     "text": [
      "Warning message in predict.lm(object, newdata, se.fit, scale = 1, type = ifelse(type == :\n",
      "\"prediction from a rank-deficient fit may be misleading\""
     ]
    },
    {
     "data": {
      "text/plain": [
       "          LOutPredictedClass\n",
       "LOutActual    0    1\n",
       "         0 3757    5\n",
       "         1  235    3"
      ]
     },
     "metadata": {},
     "output_type": "display_data"
    }
   ],
   "source": [
    "#Predict Class And Display Confusion Matrix\n",
    "LOutPredicted <- predict(logisticTrainingFit, caravan_df_testLR, type = \"response\")\n",
    "LOutPredictedClass <- ifelse(LOutPredicted>0.5, 1, 0)\n",
    "LOutActual <- caravan_df_testLR$Number_of_mobile_home_policies\n",
    "LConfusionOutPredicted <- table(LOutActual, LOutPredictedClass)\n",
    "rownames(LConfusionOutPredicted) <- c(\"0\",\"1\")\n",
    "colnames(LConfusionOutPredicted) <- c(\"0\",\"1\")\n",
    "LConfusionOutPredicted\n",
    "for (i in 1:4000){\n",
    "    probabilityDF$LR[i] <- LOutPredicted[i]\n",
    "    }"
   ]
  },
  {
   "cell_type": "code",
   "execution_count": 202,
   "metadata": {
    "collapsed": false
   },
   "outputs": [
    {
     "data": {
      "image/png": "[encoded data removed]",
      "text/plain": [
       "plot without title"
      ]
     },
     "metadata": {},
     "output_type": "display_data"
    }
   ],
   "source": [
    "# Plot ROC and AUC for LR\n",
    "probs <- LOutPredicted\n",
    "library(ROCR)\n",
    "LRPred <- prediction(probs, caravan_df_testLR$Number_of_mobile_home_policies)\n",
    "LRPerf <- performance(LRPred, \"tpr\", \"fpr\")\n",
    "plot(LRPerf, colorize=TRUE)\n",
    "abline(a=0, b=1, lty=2, lwd=3, col=\"black\")"
   ]
  },
  {
   "cell_type": "code",
   "execution_count": 203,
   "metadata": {
    "collapsed": false
   },
   "outputs": [
    {
     "data": {
      "text/plain": [
       "An object of class \"performance\"\n",
       "Slot \"x.name\":\n",
       "[1] \"None\"\n",
       "\n",
       "Slot \"y.name\":\n",
       "[1] \"Area under the ROC curve\"\n",
       "\n",
       "Slot \"alpha.name\":\n",
       "[1] \"none\"\n",
       "\n",
       "Slot \"x.values\":\n",
       "list()\n",
       "\n",
       "Slot \"y.values\":\n",
       "[[1]]\n",
       "[1] 0.7209613\n",
       "\n",
       "\n",
       "Slot \"alpha.values\":\n",
       "list()\n"
      ]
     },
     "metadata": {},
     "output_type": "display_data"
    }
   ],
   "source": [
    "#AUC\n",
    "performance(LRPred, \"auc\")"
   ]
  },
  {
   "cell_type": "code",
   "execution_count": 204,
   "metadata": {
    "collapsed": false
   },
   "outputs": [
    {
     "data": {
      "text/html": [
       "<dl class=dl-horizontal>\n",
       "\t<dt>acc</dt>\n",
       "\t\t<dd>0.94</dd>\n",
       "\t<dt>sens</dt>\n",
       "\t\t<dd>0.0126050420168067</dd>\n",
       "\t<dt>spec</dt>\n",
       "\t\t<dd>0.998670919723551</dd>\n",
       "\t<dt>ppv</dt>\n",
       "\t\t<dd>0.375</dd>\n",
       "\t<dt>npv</dt>\n",
       "\t\t<dd>0.941132264529058</dd>\n",
       "\t<dt>lor</dt>\n",
       "\t\t<dd>2.26096490766382</dd>\n",
       "</dl>\n"
      ],
      "text/latex": [
       "\\begin{description*}\n",
       "\\item[acc] 0.94\n",
       "\\item[sens] 0.0126050420168067\n",
       "\\item[spec] 0.998670919723551\n",
       "\\item[ppv] 0.375\n",
       "\\item[npv] 0.941132264529058\n",
       "\\item[lor] 2.26096490766382\n",
       "\\end{description*}\n"
      ],
      "text/markdown": [
       "acc\n",
       ":   0.94sens\n",
       ":   0.0126050420168067spec\n",
       ":   0.998670919723551ppv\n",
       ":   0.375npv\n",
       ":   0.941132264529058lor\n",
       ":   2.26096490766382\n",
       "\n"
      ],
      "text/plain": [
       "       acc       sens       spec        ppv        npv        lor \n",
       "0.94000000 0.01260504 0.99867092 0.37500000 0.94113226 2.26096491 \n",
       "attr(,\"negative\")\n",
       "[1] \"Not Purchased\""
      ]
     },
     "metadata": {},
     "output_type": "display_data"
    }
   ],
   "source": [
    "#Corresponding Performance Measures\n",
    "LRPrediction <- factor(as.factor(LOutPredictedClass), c(0, 1), labels = c(\"Not Purchased\", \"Purchased\"))\n",
    "LRActual <- factor(as.factor(caravan_df_testLR$Number_of_mobile_home_policies), c(0, 1), labels = c(\"Not Purchased\", \"Purchased\"))\n",
    "library(crossval)\n",
    "CMLR <- confusionMatrix(LRActual, LRPrediction, negative = \"Not Purchased\" )\n",
    "diagnosticErrors(CMLR)"
   ]
  },
  {
   "cell_type": "markdown",
   "metadata": {},
   "source": [
    "###### Logistic Regression Using Undersampled Data"
   ]
  },
  {
   "cell_type": "code",
   "execution_count": 221,
   "metadata": {
    "collapsed": false
   },
   "outputs": [
    {
     "data": {
      "text/html": [
       "<table>\n",
       "<thead><tr><th scope=col>Number_of_mobile_home_policies</th><th scope=col>Count</th></tr></thead>\n",
       "<tbody>\n",
       "\t<tr><td>0  </td><td>348</td></tr>\n",
       "\t<tr><td>1  </td><td>348</td></tr>\n",
       "</tbody>\n",
       "</table>\n"
      ],
      "text/latex": [
       "\\begin{tabular}{r|ll}\n",
       " Number\\_of\\_mobile\\_home\\_policies & Count\\\\\n",
       "\\hline\n",
       "\t 0   & 348\\\\\n",
       "\t 1   & 348\\\\\n",
       "\\end{tabular}\n"
      ],
      "text/markdown": [
       "\n",
       "Number_of_mobile_home_policies | Count | \n",
       "|---|---|\n",
       "| 0   | 348 | \n",
       "| 1   | 348 | \n",
       "\n",
       "\n"
      ],
      "text/plain": [
       "  Number_of_mobile_home_policies Count\n",
       "1 0                              348  \n",
       "2 1                              348  "
      ]
     },
     "metadata": {},
     "output_type": "display_data"
    }
   ],
   "source": [
    "#Under Sampling Data\n",
    "#Taking all the observations with dependent variable = 1\n",
    "caravan_df_train_LR_Under <- caravan_df_trainLR[caravan_df_trainLR$Number_of_mobile_home_policies==1,]\n",
    "\n",
    "#Randomly select observations with dependent variable = 0\n",
    "zeroObs <- caravan_df_trainLR[caravan_df_trainLR$Number_of_mobile_home_policies==0,]\n",
    "set.seed(123457)\n",
    "rearrangedZeroObs <-  zeroObs[sample(nrow(zeroObs), length(caravan_df_train_LR_Under$Number_of_mobile_home_policies)),]\n",
    "\n",
    "#Appending rows of randomly selected 0s in our undersampled data frame\n",
    "caravan_df_train_LR_Under <- rbind(caravan_df_train_LR_Under, rearrangedZeroObs)\n",
    "\n",
    "#Let's verify that number of 1s and 0s in our undersampled data are equal\n",
    "undersampled.Frequency.Number_of_mobile_home_policies <- data.frame(Number_of_mobile_home_policies = levels(as.factor(caravan_df_train_LR_Under$Number_of_mobile_home_policies)), Count = as.numeric(table(caravan_df_train_LR_Under$Number_of_mobile_home_policies)))\n",
    "undersampled.Frequency.Number_of_mobile_home_policies"
   ]
  },
  {
   "cell_type": "code",
   "execution_count": 222,
   "metadata": {
    "collapsed": false
   },
   "outputs": [
    {
     "name": "stderr",
     "output_type": "stream",
     "text": [
      "Warning message:\n",
      "\"glm.fit: fitted probabilities numerically 0 or 1 occurred\""
     ]
    },
    {
     "data": {
      "text/plain": [
       "\n",
       "Call:  glm(formula = Number_of_mobile_home_policies ~ ., family = \"binomial\", \n",
       "    data = caravan_df_train_LR_Under)\n",
       "\n",
       "Coefficients:\n",
       "                                  (Intercept)  \n",
       "                                    2.845e+02  \n",
       "                           Customer_Subtype.1  \n",
       "                                    1.154e+00  \n",
       "                           Customer_Subtype.2  \n",
       "                                    1.533e+00  \n",
       "                           Customer_Subtype.3  \n",
       "                                    1.563e+00  \n",
       "                           Customer_Subtype.4  \n",
       "                                    8.962e-01  \n",
       "                           Customer_Subtype.5  \n",
       "                                   -6.599e-02  \n",
       "                           Customer_Subtype.6  \n",
       "                                    1.983e+00  \n",
       "                           Customer_Subtype.7  \n",
       "                                    1.793e+01  \n",
       "                           Customer_Subtype.8  \n",
       "                                    1.612e+00  \n",
       "                           Customer_Subtype.9  \n",
       "                                    7.786e-01  \n",
       "                          Customer_Subtype.10  \n",
       "                                    8.128e-01  \n",
       "                          Customer_Subtype.11  \n",
       "                                    1.136e+00  \n",
       "                          Customer_Subtype.12  \n",
       "                                    2.481e+00  \n",
       "                          Customer_Subtype.13  \n",
       "                                    5.320e-01  \n",
       "                          Customer_Subtype.15  \n",
       "                                           NA  \n",
       "                          Customer_Subtype.16  \n",
       "                                   -1.430e+01  \n",
       "                          Customer_Subtype.17  \n",
       "                                           NA  \n",
       "                          Customer_Subtype.18  \n",
       "                                   -1.634e+01  \n",
       "                          Customer_Subtype.19  \n",
       "                                           NA  \n",
       "                          Customer_Subtype.20  \n",
       "                                    1.729e+01  \n",
       "                          Customer_Subtype.21  \n",
       "                                   -1.507e+01  \n",
       "                          Customer_Subtype.22  \n",
       "                                    6.193e-01  \n",
       "                          Customer_Subtype.23  \n",
       "                                    4.956e-02  \n",
       "                          Customer_Subtype.24  \n",
       "                                    4.829e-02  \n",
       "                          Customer_Subtype.25  \n",
       "                                    3.287e+00  \n",
       "                          Customer_Subtype.26  \n",
       "                                    2.479e+00  \n",
       "                          Customer_Subtype.27  \n",
       "                                   -8.775e-01  \n",
       "                          Customer_Subtype.28  \n",
       "                                           NA  \n",
       "                          Customer_Subtype.29  \n",
       "                                    1.145e-01  \n",
       "                          Customer_Subtype.30  \n",
       "                                    6.002e-01  \n",
       "                          Customer_Subtype.31  \n",
       "                                    1.122e+00  \n",
       "                          Customer_Subtype.32  \n",
       "                                    9.893e-01  \n",
       "                          Customer_Subtype.33  \n",
       "                                    8.015e-01  \n",
       "                          Customer_Subtype.34  \n",
       "                                    1.389e-01  \n",
       "                          Customer_Subtype.35  \n",
       "                                    4.939e-01  \n",
       "                          Customer_Subtype.36  \n",
       "                                    1.380e+00  \n",
       "                          Customer_Subtype.37  \n",
       "                                    1.545e+00  \n",
       "                          Customer_Subtype.38  \n",
       "                                    9.188e-01  \n",
       "                          Customer_Subtype.39  \n",
       "                                    9.092e-01  \n",
       "                          Customer_Subtype.40  \n",
       "                                   -1.425e+01  \n",
       "                          Customer_Subtype.41  \n",
       "                                           NA  \n",
       "                             Number_of_houses  \n",
       "                                   -4.991e-01  \n",
       "                           Avg_size_household  \n",
       "                                   -1.013e-01  \n",
       "                                      Avg_age  \n",
       "                                    2.632e-01  \n",
       "                         Customer_main_type.1  \n",
       "                                           NA  \n",
       "                         Customer_main_type.2  \n",
       "                                           NA  \n",
       "                         Customer_main_type.3  \n",
       "                                           NA  \n",
       "                         Customer_main_type.4  \n",
       "                                           NA  \n",
       "                         Customer_main_type.5  \n",
       "                                           NA  \n",
       "                         Customer_main_type.6  \n",
       "                                           NA  \n",
       "                         Customer_main_type.7  \n",
       "                                           NA  \n",
       "                         Customer_main_type.8  \n",
       "                                           NA  \n",
       "                         Customer_main_type.9  \n",
       "                                           NA  \n",
       "                        Customer_main_type.10  \n",
       "                                           NA  \n",
       "                               Roman_catholic  \n",
       "                                   -2.849e-01  \n",
       "                                   Protestant  \n",
       "                                   -9.688e-02  \n",
       "                               Other_religion  \n",
       "                                   -1.309e-01  \n",
       "                                  No_religion  \n",
       "                                   -2.402e-01  \n",
       "                                      Married  \n",
       "                                    1.802e-01  \n",
       "                              Living_together  \n",
       "                                    2.085e-01  \n",
       "                               Other_relation  \n",
       "                                    4.010e-02  \n",
       "                                      Singles  \n",
       "                                    1.417e-01  \n",
       "                   Household_without_children  \n",
       "                                    9.639e-02  \n",
       "                      Household_with_children  \n",
       "                                    1.056e-01  \n",
       "                         High_level_education  \n",
       "                                    5.254e-01  \n",
       "                       Medium_level_education  \n",
       "                                    2.203e-01  \n",
       "                        Lower_level_education  \n",
       "                                    6.661e-02  \n",
       "                                  High_status  \n",
       "                                    9.755e-02  \n",
       "                                 Entrepreneur  \n",
       "                                   -1.624e-01  \n",
       "                                       Farmer  \n",
       "                                   -1.568e-01  \n",
       "                            Middle_management  \n",
       "                                    1.995e-01  \n",
       "                            Skilled_labourers  \n",
       "                                    3.077e-02  \n",
       "                          Unskilled_labourers  \n",
       "                                   -4.224e-03  \n",
       "                               Social_class_A  \n",
       "                                   -2.346e-02  \n",
       "                              Social_class_B1  \n",
       "                                   -4.219e-04  \n",
       "                              Social_class_B2  \n",
       "                                    7.517e-02  \n",
       "                               Social_class_C  \n",
       "                                    2.555e-01  \n",
       "                               Social_class_D  \n",
       "                                    1.964e-01  \n",
       "                                 Rented_house  \n",
       "                                   -1.632e+01  \n",
       "                                  Home_owners  \n",
       "                                   -1.631e+01  \n",
       "                                       X1_car  \n",
       "                                    5.120e-01  \n",
       "                                      X2_cars  \n",
       "                                    4.484e-01  \n",
       "                                       No_car  \n",
       "                                    2.646e-01  \n",
       "                      National_Health_Service  \n",
       "                                   -1.649e+01  \n",
       "                     Private_health_insurance  \n",
       "                                   -1.669e+01  \n",
       "                                  Income_._30  \n",
       "                                   -3.182e-02  \n",
       "                             Income_30.45.000  \n",
       "                                   -3.259e-03  \n",
       "                             Income_45.75.000  \n",
       "                                   -1.252e-01  \n",
       "                            Income_75.122.000  \n",
       "                                   -1.453e-01  \n",
       "                              Income_.123.000  \n",
       "                                   -2.222e-01  \n",
       "                               Average_income  \n",
       "                                    2.684e-01  \n",
       "                             Purchasing_power  \n",
       "                                   -3.437e-02  \n",
       "                private_third_party_insurance  \n",
       "                                    4.143e-01  \n",
       "                  third_party_insurance_firms  \n",
       "                                   -1.299e+00  \n",
       "             third_party_insurane_agriculture  \n",
       "                                   -1.595e+00  \n",
       "                                 car_policies  \n",
       "                                    1.479e-01  \n",
       "                        delivery_van_policies  \n",
       "                                    7.585e+00  \n",
       "              Contribution_motorcycle.scooter  \n",
       "                                   -6.894e-01  \n",
       "                               lorry_policies  \n",
       "                                   -5.666e+00  \n",
       "                             trailer_policies  \n",
       "                                   -2.474e+00  \n",
       "                             tractor_policies  \n",
       "                                    1.133e+00  \n",
       "               agricultural_machines_policies  \n",
       "                                   -5.446e+00  \n",
       "                               moped_policies  \n",
       "                                    4.381e-01  \n",
       "                              life_insurances  \n",
       "                                   -1.204e-01  \n",
       "          private_accident_insurance_policies  \n",
       "                                   -1.127e+01  \n",
       "          family_accidents_insurance_policies  \n",
       "                                   -2.346e-01  \n",
       "                disability_insurance_policies  \n",
       "                                    2.939e+00  \n",
       "                                fire_policies  \n",
       "                                    2.887e-01  \n",
       "                           surfboard_policies  \n",
       "                                   -5.329e-02  \n",
       "                                boat_policies  \n",
       "                                    1.232e-01  \n",
       "                             bicycle_policies  \n",
       "                                   -2.584e-01  \n",
       "                  property_insurance_policies  \n",
       "                                    4.802e-01  \n",
       "           social_security_insurance_policies  \n",
       "                                    3.700e-01  \n",
       "      Number_of_private_third_party_insurance  \n",
       "                                   -7.178e-01  \n",
       "        Number_of_third_party_insurance_firms  \n",
       "                                    3.196e+00  \n",
       "   Number_of_third_party_insurane_agriculture  \n",
       "                                    5.201e+00  \n",
       "                       Number_of_car_policies  \n",
       "                                    4.627e-01  \n",
       "              Number_of_delivery_van_policies  \n",
       "                                   -2.836e+01  \n",
       "        Number_of_motorcycle.scooter_policies  \n",
       "                                    2.794e+00  \n",
       "                     Number_of_lorry_policies  \n",
       "                                           NA  \n",
       "                   Number_of_trailer_policies  \n",
       "                                    4.774e+00  \n",
       "                   Number_of_tractor_policies  \n",
       "                                   -3.827e+00  \n",
       "     Number_of_agricultural_machines_policies  \n",
       "                                           NA  \n",
       "                     Number_of_moped_policies  \n",
       "                                   -2.113e+00  \n",
       "                    Number_of_life_insurances  \n",
       "                                    2.260e-01  \n",
       "Number_of_private_accident_insurance_policies  \n",
       "                                    2.077e+01  \n",
       "Number_of_family_accidents_insurance_policies  \n",
       "                                    3.517e-01  \n",
       "      Number_of_disability_insurance_policies  \n",
       "                                           NA  \n",
       "                      Number_of_fire_policies  \n",
       "                                   -6.915e-01  \n",
       "                 Number_of_surfboard_policies  \n",
       "                                           NA  \n",
       "                      Number_of_boat_policies  \n",
       "                                    2.133e+00  \n",
       "                   Number_of_bicycle_policies  \n",
       "                                    1.153e+00  \n",
       "        Number_of_property_insurance_policies  \n",
       "                                    1.539e+01  \n",
       " Number_of_social_security_insurance_policies  \n",
       "                                   -1.199e-01  \n",
       "\n",
       "Degrees of Freedom: 695 Total (i.e. Null);  581 Residual\n",
       "Null Deviance:\t    964.9 \n",
       "Residual Deviance: 684.9 \tAIC: 914.9"
      ]
     },
     "metadata": {},
     "output_type": "display_data"
    }
   ],
   "source": [
    "#Classify Using Logistic Regression with Undersampling\n",
    "logisticTrainingFit <- glm(Number_of_mobile_home_policies ~ ., family = \"binomial\", data = caravan_df_train_LR_Under)\n",
    "logisticTrainingFit"
   ]
  },
  {
   "cell_type": "code",
   "execution_count": 223,
   "metadata": {
    "collapsed": false
   },
   "outputs": [
    {
     "name": "stderr",
     "output_type": "stream",
     "text": [
      "Warning message in predict.lm(object, newdata, se.fit, scale = 1, type = ifelse(type == :\n",
      "\"prediction from a rank-deficient fit may be misleading\""
     ]
    },
    {
     "data": {
      "text/plain": [
       "          LOutPredictedClass\n",
       "LOutActual    0    1\n",
       "         0 2405 1357\n",
       "         1   83  155"
      ]
     },
     "metadata": {},
     "output_type": "display_data"
    }
   ],
   "source": [
    "#Predict Class And Display Confusion Matrix\n",
    "LOutPredicted <- predict(logisticTrainingFit, caravan_df_testLR, type = \"response\")\n",
    "LOutPredictedClass <- ifelse(LOutPredicted>0.5, 1, 0)\n",
    "LOutActual <- caravan_df_testLR$Number_of_mobile_home_policies\n",
    "LConfusionOutPredicted <- table(LOutActual, LOutPredictedClass)\n",
    "rownames(LConfusionOutPredicted) <- c(\"0\",\"1\")\n",
    "colnames(LConfusionOutPredicted) <- c(\"0\",\"1\")\n",
    "LConfusionOutPredicted\n",
    "for (i in 1:4000){\n",
    "    probabilityDF$LRU[i] <- LOutPredicted[i]\n",
    "    }"
   ]
  },
  {
   "cell_type": "code",
   "execution_count": 35,
   "metadata": {
    "collapsed": false
   },
   "outputs": [
    {
     "data": {
      "image/png": "[encoded data removed]",
      "text/plain": [
       "plot without title"
      ]
     },
     "metadata": {},
     "output_type": "display_data"
    }
   ],
   "source": [
    "# Plot ROC and AUC for LR\n",
    "probs <- LOutPredicted\n",
    "library(ROCR)\n",
    "LRPred <- prediction(probs, caravan_df_testLR$Number_of_mobile_home_policies)\n",
    "LRPerf <- performance(LRPred, \"tpr\", \"fpr\")\n",
    "plot(LRPerf, colorize=TRUE)\n",
    "abline(a=0, b=1, lty=2, lwd=3, col=\"black\")"
   ]
  },
  {
   "cell_type": "code",
   "execution_count": 36,
   "metadata": {
    "collapsed": false
   },
   "outputs": [
    {
     "data": {
      "text/plain": [
       "An object of class \"performance\"\n",
       "Slot \"x.name\":\n",
       "[1] \"None\"\n",
       "\n",
       "Slot \"y.name\":\n",
       "[1] \"Area under the ROC curve\"\n",
       "\n",
       "Slot \"alpha.name\":\n",
       "[1] \"none\"\n",
       "\n",
       "Slot \"x.values\":\n",
       "list()\n",
       "\n",
       "Slot \"y.values\":\n",
       "[[1]]\n",
       "[1] 0.6820203\n",
       "\n",
       "\n",
       "Slot \"alpha.values\":\n",
       "list()\n"
      ]
     },
     "metadata": {},
     "output_type": "display_data"
    }
   ],
   "source": [
    "#AUC\n",
    "performance(LRPred, \"auc\")"
   ]
  },
  {
   "cell_type": "code",
   "execution_count": 37,
   "metadata": {
    "collapsed": false
   },
   "outputs": [
    {
     "data": {
      "text/html": [
       "<dl class=dl-horizontal>\n",
       "\t<dt>acc</dt>\n",
       "\t\t<dd>0.64</dd>\n",
       "\t<dt>sens</dt>\n",
       "\t\t<dd>0.651260504201681</dd>\n",
       "\t<dt>spec</dt>\n",
       "\t\t<dd>0.639287612971823</dd>\n",
       "\t<dt>ppv</dt>\n",
       "\t\t<dd>0.102513227513228</dd>\n",
       "\t<dt>npv</dt>\n",
       "\t\t<dd>0.966639871382637</dd>\n",
       "\t<dt>lor</dt>\n",
       "\t\t<dd>1.19685803182764</dd>\n",
       "</dl>\n"
      ],
      "text/latex": [
       "\\begin{description*}\n",
       "\\item[acc] 0.64\n",
       "\\item[sens] 0.651260504201681\n",
       "\\item[spec] 0.639287612971823\n",
       "\\item[ppv] 0.102513227513228\n",
       "\\item[npv] 0.966639871382637\n",
       "\\item[lor] 1.19685803182764\n",
       "\\end{description*}\n"
      ],
      "text/markdown": [
       "acc\n",
       ":   0.64sens\n",
       ":   0.651260504201681spec\n",
       ":   0.639287612971823ppv\n",
       ":   0.102513227513228npv\n",
       ":   0.966639871382637lor\n",
       ":   1.19685803182764\n",
       "\n"
      ],
      "text/plain": [
       "      acc      sens      spec       ppv       npv       lor \n",
       "0.6400000 0.6512605 0.6392876 0.1025132 0.9666399 1.1968580 \n",
       "attr(,\"negative\")\n",
       "[1] \"Not Purchased\""
      ]
     },
     "metadata": {},
     "output_type": "display_data"
    }
   ],
   "source": [
    "#Corresponding Performance Measures\n",
    "LRPrediction <- factor(as.factor(LOutPredictedClass), c(0, 1), labels = c(\"Not Purchased\", \"Purchased\"))\n",
    "LRActual <- factor(as.factor(caravan_df_testLR$Number_of_mobile_home_policies), c(0, 1), labels = c(\"Not Purchased\", \"Purchased\"))\n",
    "library(crossval)\n",
    "CMLR <- confusionMatrix(LRActual, LRPrediction, negative = \"Not Purchased\" )\n",
    "diagnosticErrors(CMLR)"
   ]
  },
  {
   "cell_type": "markdown",
   "metadata": {},
   "source": [
    "###### Logistic Regression Using Oversampling"
   ]
  },
  {
   "cell_type": "code",
   "execution_count": 224,
   "metadata": {
    "collapsed": false
   },
   "outputs": [
    {
     "data": {
      "text/html": [
       "'Ratio of 1s to 0s- 1:15.7298850574713'"
      ],
      "text/latex": [
       "'Ratio of 1s to 0s- 1:15.7298850574713'"
      ],
      "text/markdown": [
       "'Ratio of 1s to 0s- 1:15.7298850574713'"
      ],
      "text/plain": [
       "[1] \"Ratio of 1s to 0s- 1:15.7298850574713\""
      ]
     },
     "metadata": {},
     "output_type": "display_data"
    }
   ],
   "source": [
    "#First let's recall the ratio of 1s and 0s in our original training dataset\n",
    "paste0(\"Ratio of 1s to 0s- 1:\", as.numeric(table(caravan_df_trainLR$Number_of_mobile_home_policies))[1]/as.numeric(table(caravan_df_trainLR$Number_of_mobile_home_policies))[2])"
   ]
  },
  {
   "cell_type": "code",
   "execution_count": 225,
   "metadata": {
    "collapsed": false
   },
   "outputs": [
    {
     "data": {
      "text/html": [
       "<table>\n",
       "<thead><tr><th scope=col>Number_of_mobile_home_policies</th><th scope=col>Count</th></tr></thead>\n",
       "<tbody>\n",
       "\t<tr><td>0   </td><td>5474</td></tr>\n",
       "\t<tr><td>1   </td><td>2436</td></tr>\n",
       "</tbody>\n",
       "</table>\n"
      ],
      "text/latex": [
       "\\begin{tabular}{r|ll}\n",
       " Number\\_of\\_mobile\\_home\\_policies & Count\\\\\n",
       "\\hline\n",
       "\t 0    & 5474\\\\\n",
       "\t 1    & 2436\\\\\n",
       "\\end{tabular}\n"
      ],
      "text/markdown": [
       "\n",
       "Number_of_mobile_home_policies | Count | \n",
       "|---|---|\n",
       "| 0    | 5474 | \n",
       "| 1    | 2436 | \n",
       "\n",
       "\n"
      ],
      "text/plain": [
       "  Number_of_mobile_home_policies Count\n",
       "1 0                              5474 \n",
       "2 1                              2436 "
      ]
     },
     "metadata": {},
     "output_type": "display_data"
    }
   ],
   "source": [
    "#Now let's duplicate the observations with dependent variable = 1 to make the ratio approximately 1:2\n",
    "caravan_df_train_LR_OverDummy <- caravan_df_trainLR[caravan_df_trainLR$Number_of_mobile_home_policies==1,]\n",
    "caravan_df_train_LR_Over <- NULL\n",
    "for (i in 1:7){\n",
    "    caravan_df_train_LR_Over <- rbind(caravan_df_train_LR_Over, caravan_df_train_LR_OverDummy)\n",
    "}\n",
    "caravan_df_train_LR_Over <- rbind(caravan_df_train_LR_Over, caravan_df_trainLR[caravan_df_trainLR$Number_of_mobile_home_policies==0,])\n",
    "#Let's verify the number of 1s and 0s in our oversampled data\n",
    "oversampled.Frequency.Number_of_mobile_home_policies <- data.frame(Number_of_mobile_home_policies = levels(as.factor(caravan_df_train_LR_Over$Number_of_mobile_home_policies)), Count = as.numeric(table(caravan_df_train_LR_Over$Number_of_mobile_home_policies)))\n",
    "oversampled.Frequency.Number_of_mobile_home_policies"
   ]
  },
  {
   "cell_type": "code",
   "execution_count": 226,
   "metadata": {
    "collapsed": false
   },
   "outputs": [
    {
     "data": {
      "text/html": [
       "'Ratio of 1s to 0s After Oversampling- 1:2.24712643678161'"
      ],
      "text/latex": [
       "'Ratio of 1s to 0s After Oversampling- 1:2.24712643678161'"
      ],
      "text/markdown": [
       "'Ratio of 1s to 0s After Oversampling- 1:2.24712643678161'"
      ],
      "text/plain": [
       "[1] \"Ratio of 1s to 0s After Oversampling- 1:2.24712643678161\""
      ]
     },
     "metadata": {},
     "output_type": "display_data"
    }
   ],
   "source": [
    "#Let's verify the ratio of 1s to 0s after over sampling\n",
    "paste0(\"Ratio of 1s to 0s After Oversampling- 1:\", as.numeric(table(caravan_df_train_LR_Over$Number_of_mobile_home_policies))[1]/as.numeric(table(caravan_df_train_LR_Over$Number_of_mobile_home_policies))[2])"
   ]
  },
  {
   "cell_type": "code",
   "execution_count": 227,
   "metadata": {
    "collapsed": false
   },
   "outputs": [
    {
     "name": "stderr",
     "output_type": "stream",
     "text": [
      "Warning message:\n",
      "\"glm.fit: fitted probabilities numerically 0 or 1 occurred\""
     ]
    },
    {
     "data": {
      "text/plain": [
       "\n",
       "Call:  glm(formula = Number_of_mobile_home_policies ~ ., family = \"binomial\", \n",
       "    data = caravan_df_train_LR_Over)\n",
       "\n",
       "Coefficients:\n",
       "                                  (Intercept)  \n",
       "                                   271.983944  \n",
       "                           Customer_Subtype.1  \n",
       "                                     0.188433  \n",
       "                           Customer_Subtype.2  \n",
       "                                     0.471638  \n",
       "                           Customer_Subtype.3  \n",
       "                                     0.782514  \n",
       "                           Customer_Subtype.4  \n",
       "                                    -0.327808  \n",
       "                           Customer_Subtype.5  \n",
       "                                     0.657871  \n",
       "                           Customer_Subtype.6  \n",
       "                                     0.363745  \n",
       "                           Customer_Subtype.7  \n",
       "                                     0.029915  \n",
       "                           Customer_Subtype.8  \n",
       "                                     0.808550  \n",
       "                           Customer_Subtype.9  \n",
       "                                     0.440991  \n",
       "                          Customer_Subtype.10  \n",
       "                                    -0.334054  \n",
       "                          Customer_Subtype.11  \n",
       "                                     0.370786  \n",
       "                          Customer_Subtype.12  \n",
       "                                     0.933006  \n",
       "                          Customer_Subtype.13  \n",
       "                                     0.256710  \n",
       "                          Customer_Subtype.15  \n",
       "                                   -13.674826  \n",
       "                          Customer_Subtype.16  \n",
       "                                   -14.939199  \n",
       "                          Customer_Subtype.17  \n",
       "                                   -16.964669  \n",
       "                          Customer_Subtype.18  \n",
       "                                   -15.062066  \n",
       "                          Customer_Subtype.19  \n",
       "                                   -15.916252  \n",
       "                          Customer_Subtype.20  \n",
       "                                     1.080937  \n",
       "                          Customer_Subtype.21  \n",
       "                                   -14.779102  \n",
       "                          Customer_Subtype.22  \n",
       "                                     0.716716  \n",
       "                          Customer_Subtype.23  \n",
       "                                    -0.343226  \n",
       "                          Customer_Subtype.24  \n",
       "                                     0.356492  \n",
       "                          Customer_Subtype.25  \n",
       "                                     0.312662  \n",
       "                          Customer_Subtype.26  \n",
       "                                     0.947308  \n",
       "                          Customer_Subtype.27  \n",
       "                                     0.243666  \n",
       "                          Customer_Subtype.28  \n",
       "                                   -14.926236  \n",
       "                          Customer_Subtype.29  \n",
       "                                     0.159922  \n",
       "                          Customer_Subtype.30  \n",
       "                                     0.864254  \n",
       "                          Customer_Subtype.31  \n",
       "                                     0.953216  \n",
       "                          Customer_Subtype.32  \n",
       "                                     1.285804  \n",
       "                          Customer_Subtype.33  \n",
       "                                     0.859242  \n",
       "                          Customer_Subtype.34  \n",
       "                                     0.406664  \n",
       "                          Customer_Subtype.35  \n",
       "                                     0.045833  \n",
       "                          Customer_Subtype.36  \n",
       "                                     1.194953  \n",
       "                          Customer_Subtype.37  \n",
       "                                     1.047054  \n",
       "                          Customer_Subtype.38  \n",
       "                                     1.087663  \n",
       "                          Customer_Subtype.39  \n",
       "                                     0.676084  \n",
       "                          Customer_Subtype.40  \n",
       "                                   -14.904161  \n",
       "                          Customer_Subtype.41  \n",
       "                                           NA  \n",
       "                             Number_of_houses  \n",
       "                                    -0.180631  \n",
       "                           Avg_size_household  \n",
       "                                    -0.029992  \n",
       "                                      Avg_age  \n",
       "                                     0.193919  \n",
       "                         Customer_main_type.1  \n",
       "                                           NA  \n",
       "                         Customer_main_type.2  \n",
       "                                           NA  \n",
       "                         Customer_main_type.3  \n",
       "                                           NA  \n",
       "                         Customer_main_type.4  \n",
       "                                           NA  \n",
       "                         Customer_main_type.5  \n",
       "                                           NA  \n",
       "                         Customer_main_type.6  \n",
       "                                           NA  \n",
       "                         Customer_main_type.7  \n",
       "                                           NA  \n",
       "                         Customer_main_type.8  \n",
       "                                           NA  \n",
       "                         Customer_main_type.9  \n",
       "                                           NA  \n",
       "                        Customer_main_type.10  \n",
       "                                           NA  \n",
       "                               Roman_catholic  \n",
       "                                    -0.047251  \n",
       "                                   Protestant  \n",
       "                                     0.056095  \n",
       "                               Other_religion  \n",
       "                                     0.067429  \n",
       "                                  No_religion  \n",
       "                                    -0.002044  \n",
       "                                      Married  \n",
       "                                     0.241859  \n",
       "                              Living_together  \n",
       "                                     0.170279  \n",
       "                               Other_relation  \n",
       "                                     0.133098  \n",
       "                                      Singles  \n",
       "                                    -0.030952  \n",
       "                   Household_without_children  \n",
       "                                    -0.117416  \n",
       "                      Household_with_children  \n",
       "                                    -0.079265  \n",
       "                         High_level_education  \n",
       "                                     0.022175  \n",
       "                       Medium_level_education  \n",
       "                                    -0.084494  \n",
       "                        Lower_level_education  \n",
       "                                    -0.222939  \n",
       "                                  High_status  \n",
       "                                     0.122539  \n",
       "                                 Entrepreneur  \n",
       "                                     0.046054  \n",
       "                                       Farmer  \n",
       "                                    -0.042243  \n",
       "                            Middle_management  \n",
       "                                     0.116425  \n",
       "                            Skilled_labourers  \n",
       "                                     0.022335  \n",
       "                          Unskilled_labourers  \n",
       "                                     0.085407  \n",
       "                               Social_class_A  \n",
       "                                    -0.005715  \n",
       "                              Social_class_B1  \n",
       "                                    -0.027602  \n",
       "                              Social_class_B2  \n",
       "                                     0.008061  \n",
       "                               Social_class_C  \n",
       "                                     0.132007  \n",
       "                               Social_class_D  \n",
       "                                    -0.052836  \n",
       "                                 Rented_house  \n",
       "                                   -15.623346  \n",
       "                                  Home_owners  \n",
       "                                   -15.605815  \n",
       "                                       X1_car  \n",
       "                                     0.201651  \n",
       "                                      X2_cars  \n",
       "                                     0.136822  \n",
       "                                       No_car  \n",
       "                                     0.123143  \n",
       "                      National_Health_Service  \n",
       "                                   -15.447528  \n",
       "                     Private_health_insurance  \n",
       "                                   -15.498660  \n",
       "                                  Income_._30  \n",
       "                                     0.072746  \n",
       "                             Income_30.45.000  \n",
       "                                     0.100949  \n",
       "                             Income_45.75.000  \n",
       "                                     0.059630  \n",
       "                            Income_75.122.000  \n",
       "                                     0.070916  \n",
       "                              Income_.123.000  \n",
       "                                    -0.248372  \n",
       "                               Average_income  \n",
       "                                     0.090805  \n",
       "                             Purchasing_power  \n",
       "                                     0.112506  \n",
       "                private_third_party_insurance  \n",
       "                                     0.606498  \n",
       "                  third_party_insurance_firms  \n",
       "                                    -0.323572  \n",
       "             third_party_insurane_agriculture  \n",
       "                                    -0.468062  \n",
       "                                 car_policies  \n",
       "                                     0.201491  \n",
       "                        delivery_van_policies  \n",
       "                                    13.574296  \n",
       "              Contribution_motorcycle.scooter  \n",
       "                                    -0.141111  \n",
       "                               lorry_policies  \n",
       "                                    -2.082615  \n",
       "                             trailer_policies  \n",
       "                                     1.146329  \n",
       "                             tractor_policies  \n",
       "                                     0.741338  \n",
       "               agricultural_machines_policies  \n",
       "                                    -4.938477  \n",
       "                               moped_policies  \n",
       "                                     0.184188  \n",
       "                              life_insurances  \n",
       "                                    -0.213984  \n",
       "          private_accident_insurance_policies  \n",
       "                                    -0.625009  \n",
       "          family_accidents_insurance_policies  \n",
       "                                     1.067929  \n",
       "                disability_insurance_policies  \n",
       "                                     1.252419  \n",
       "                                fire_policies  \n",
       "                                     0.278646  \n",
       "                           surfboard_policies  \n",
       "                                    -8.078434  \n",
       "                                boat_policies  \n",
       "                                    -0.132402  \n",
       "                             bicycle_policies  \n",
       "                                     0.476115  \n",
       "                  property_insurance_policies  \n",
       "                                    -0.946242  \n",
       "           social_security_insurance_policies  \n",
       "                                    -0.144246  \n",
       "      Number_of_private_third_party_insurance  \n",
       "                                    -0.924381  \n",
       "        Number_of_third_party_insurance_firms  \n",
       "                                     0.586345  \n",
       "   Number_of_third_party_insurane_agriculture  \n",
       "                                     0.300524  \n",
       "                       Number_of_car_policies  \n",
       "                                     0.079586  \n",
       "              Number_of_delivery_van_policies  \n",
       "                                   -80.995850  \n",
       "        Number_of_motorcycle.scooter_policies  \n",
       "                                     0.339577  \n",
       "                     Number_of_lorry_policies  \n",
       "                                    -6.022607  \n",
       "                   Number_of_trailer_policies  \n",
       "                                    -1.430297  \n",
       "                   Number_of_tractor_policies  \n",
       "                                    -2.456457  \n",
       "     Number_of_agricultural_machines_policies  \n",
       "                                    -2.355871  \n",
       "                     Number_of_moped_policies  \n",
       "                                    -1.301124  \n",
       "                    Number_of_life_insurances  \n",
       "                                     0.405107  \n",
       "Number_of_private_accident_insurance_policies  \n",
       "                                     0.395737  \n",
       "Number_of_family_accidents_insurance_policies  \n",
       "                                    -2.246126  \n",
       "      Number_of_disability_insurance_policies  \n",
       "                                    -5.624873  \n",
       "                      Number_of_fire_policies  \n",
       "                                    -0.565400  \n",
       "                 Number_of_surfboard_policies  \n",
       "                                     8.529587  \n",
       "                      Number_of_boat_policies  \n",
       "                                     3.208989  \n",
       "                   Number_of_bicycle_policies  \n",
       "                                     0.156314  \n",
       "        Number_of_property_insurance_policies  \n",
       "                                     1.634689  \n",
       " Number_of_social_security_insurance_policies  \n",
       "                                     1.047642  \n",
       "\n",
       "Degrees of Freedom: 7909 Total (i.e. Null);  7787 Residual\n",
       "Null Deviance:\t    9768 \n",
       "Residual Deviance: 7627 \tAIC: 7873"
      ]
     },
     "metadata": {},
     "output_type": "display_data"
    }
   ],
   "source": [
    "#Classify Using Logistic Regression with Oversampling\n",
    "logisticTrainingFit <- glm(Number_of_mobile_home_policies ~ ., family = \"binomial\", data = caravan_df_train_LR_Over)\n",
    "logisticTrainingFit"
   ]
  },
  {
   "cell_type": "code",
   "execution_count": 242,
   "metadata": {
    "collapsed": false
   },
   "outputs": [
    {
     "name": "stderr",
     "output_type": "stream",
     "text": [
      "Warning message in predict.lm(object, newdata, se.fit, scale = 1, type = ifelse(type == :\n",
      "\"prediction from a rank-deficient fit may be misleading\""
     ]
    },
    {
     "data": {
      "text/plain": [
       "          LOutPredictedClass\n",
       "LOutActual    0    1\n",
       "         0 3348  414\n",
       "         1  154   84"
      ]
     },
     "metadata": {},
     "output_type": "display_data"
    }
   ],
   "source": [
    "#Predict Class And Display Confusion Matrix\n",
    "LOutPredicted <- predict(logisticTrainingFit, caravan_df_testLR, type = \"response\")\n",
    "LOutPredictedClass <- ifelse(LOutPredicted>0.5, 1, 0)\n",
    "LOutActual <- caravan_df_testLR$Number_of_mobile_home_policies\n",
    "LConfusionOutPredicted <- table(LOutActual, LOutPredictedClass)\n",
    "rownames(LConfusionOutPredicted) <- c(\"0\",\"1\")\n",
    "colnames(LConfusionOutPredicted) <- c(\"0\",\"1\")\n",
    "LConfusionOutPredicted\n",
    "for (i in 1:4000){\n",
    "    probabilityDF$LRO[i] <- LOutPredicted[i]\n",
    "    }\n",
    "for (i in 1:4000){\n",
    "    probabilityDF$Actual[i] <- LOutActual[i]\n",
    "    }"
   ]
  },
  {
   "cell_type": "code",
   "execution_count": 43,
   "metadata": {
    "collapsed": false
   },
   "outputs": [
    {
     "data": {
      "image/png": "[encoded data removed]",
      "text/plain": [
       "plot without title"
      ]
     },
     "metadata": {},
     "output_type": "display_data"
    }
   ],
   "source": [
    "# Plot ROC and AUC for LR\n",
    "probs <- LOutPredicted\n",
    "library(ROCR)\n",
    "LRPred <- prediction(probs, caravan_df_testLR$Number_of_mobile_home_policies)\n",
    "LRPerf <- performance(LRPred, \"tpr\", \"fpr\")\n",
    "plot(LRPerf, colorize=TRUE)\n",
    "abline(a=0, b=1, lty=2, lwd=3, col=\"black\")"
   ]
  },
  {
   "cell_type": "code",
   "execution_count": 44,
   "metadata": {
    "collapsed": false
   },
   "outputs": [
    {
     "data": {
      "text/plain": [
       "An object of class \"performance\"\n",
       "Slot \"x.name\":\n",
       "[1] \"None\"\n",
       "\n",
       "Slot \"y.name\":\n",
       "[1] \"Area under the ROC curve\"\n",
       "\n",
       "Slot \"alpha.name\":\n",
       "[1] \"none\"\n",
       "\n",
       "Slot \"x.values\":\n",
       "list()\n",
       "\n",
       "Slot \"y.values\":\n",
       "[[1]]\n",
       "[1] 0.7209925\n",
       "\n",
       "\n",
       "Slot \"alpha.values\":\n",
       "list()\n"
      ]
     },
     "metadata": {},
     "output_type": "display_data"
    }
   ],
   "source": [
    "#AUC\n",
    "performance(LRPred, \"auc\")"
   ]
  },
  {
   "cell_type": "code",
   "execution_count": 45,
   "metadata": {
    "collapsed": false
   },
   "outputs": [
    {
     "data": {
      "text/html": [
       "<dl class=dl-horizontal>\n",
       "\t<dt>acc</dt>\n",
       "\t\t<dd>0.858</dd>\n",
       "\t<dt>sens</dt>\n",
       "\t\t<dd>0.352941176470588</dd>\n",
       "\t<dt>spec</dt>\n",
       "\t\t<dd>0.889952153110048</dd>\n",
       "\t<dt>ppv</dt>\n",
       "\t\t<dd>0.168674698795181</dd>\n",
       "\t<dt>npv</dt>\n",
       "\t\t<dd>0.956025128498001</dd>\n",
       "\t<dt>lor</dt>\n",
       "\t\t<dd>1.48411665421373</dd>\n",
       "</dl>\n"
      ],
      "text/latex": [
       "\\begin{description*}\n",
       "\\item[acc] 0.858\n",
       "\\item[sens] 0.352941176470588\n",
       "\\item[spec] 0.889952153110048\n",
       "\\item[ppv] 0.168674698795181\n",
       "\\item[npv] 0.956025128498001\n",
       "\\item[lor] 1.48411665421373\n",
       "\\end{description*}\n"
      ],
      "text/markdown": [
       "acc\n",
       ":   0.858sens\n",
       ":   0.352941176470588spec\n",
       ":   0.889952153110048ppv\n",
       ":   0.168674698795181npv\n",
       ":   0.956025128498001lor\n",
       ":   1.48411665421373\n",
       "\n"
      ],
      "text/plain": [
       "      acc      sens      spec       ppv       npv       lor \n",
       "0.8580000 0.3529412 0.8899522 0.1686747 0.9560251 1.4841167 \n",
       "attr(,\"negative\")\n",
       "[1] \"Not Purchased\""
      ]
     },
     "metadata": {},
     "output_type": "display_data"
    }
   ],
   "source": [
    "#Corresponding Performance Measures\n",
    "LRPrediction <- factor(as.factor(LOutPredictedClass), c(0, 1), labels = c(\"Not Purchased\", \"Purchased\"))\n",
    "LRActual <- factor(as.factor(caravan_df_testLR$Number_of_mobile_home_policies), c(0, 1), labels = c(\"Not Purchased\", \"Purchased\"))\n",
    "library(crossval)\n",
    "CMLR <- confusionMatrix(LRActual, LRPrediction, negative = \"Not Purchased\" )\n",
    "diagnosticErrors(CMLR)"
   ]
  },
  {
   "cell_type": "markdown",
   "metadata": {},
   "source": [
    "###### 4. Classification using KNN - Unbalanced Data, Undersampled Data, Oversampled Data - Including Business Cost For Each Model "
   ]
  },
  {
   "cell_type": "markdown",
   "metadata": {},
   "source": [
    "###### KNN Using Unbalanced Data"
   ]
  },
  {
   "cell_type": "code",
   "execution_count": 300,
   "metadata": {
    "collapsed": false
   },
   "outputs": [],
   "source": [
    "#Classify Using KNN\n",
    "#Normalizing each variable\n",
    "fun <- function(x)\n",
    "{    \n",
    "    a <- mean(x)    \n",
    "    b <- sd(x)    \n",
    "    (x - a)/(b)\n",
    "}\n",
    "library(class)\n",
    "\n",
    "caravan_df_train_normalized <- apply(caravan_df_train, 2, fun)\n",
    "caravan_df_test_normalized <- apply(caravan_df_test, 2, fun)\n",
    "\n",
    "train_input <- as.matrix(caravan_df_train_normalized[,-86])\n",
    "train_output <- as.vector(caravan_df_train_normalized[,86])\n",
    "test_input <- as.matrix(caravan_df_test_normalized[,-86])\n",
    "\n",
    "kmax <- 15\n",
    "ER1 <- rep(0,kmax)\n",
    "ER2 <- rep(0,kmax)\n",
    "\n",
    "for (i in 1:kmax){\n",
    "    prediction <- knn(train_input, train_input,train_output, k=i)\n",
    "    prediction2 <- knn(train_input, test_input, train_output, k=i)\n",
    "\n",
    "#Confusion Matrix For Test Data\n",
    "CM2 <- table(prediction2, caravan_df_test_normalized[,'Number_of_mobile_home_policies'])\n",
    "\n",
    "#Error Rate on the test sample\n",
    "ER2[i] <- (CM2[1,2]+CM2[2,1])/sum(CM2)\n",
    "}"
   ]
  },
  {
   "cell_type": "code",
   "execution_count": 301,
   "metadata": {
    "collapsed": false
   },
   "outputs": [
    {
     "data": {
      "image/png": "[encoded data removed]",
      "text/plain": [
       "plot without title"
      ]
     },
     "metadata": {},
     "output_type": "display_data"
    }
   ],
   "source": [
    "#Plotting the %Error on the test sample\n",
    "plot(c(1,kmax),c(0,0.2),type=\"n\", xlab=\"k\",ylab=\"Error Rate\")\n",
    "lines(ER2,col=\"blue\")\n",
    "legend(12, 0.2, c(\"Test\"),lty=c(1,1), col=c(\"blue\"))"
   ]
  },
  {
   "cell_type": "code",
   "execution_count": 302,
   "metadata": {
    "collapsed": false
   },
   "outputs": [
    {
     "name": "stdout",
     "output_type": "stream",
     "text": [
      "Minimum Validation Error k: 14"
     ]
    }
   ],
   "source": [
    "# Minimum Validation Error k\n",
    "z <- which.min(ER2)\n",
    "cat(\"Minimum Validation Error k:\", z)"
   ]
  },
  {
   "cell_type": "code",
   "execution_count": 303,
   "metadata": {
    "collapsed": false
   },
   "outputs": [
    {
     "data": {
      "text/plain": [
       "      predicted\n",
       "actual    0    1\n",
       "     0 3758    4\n",
       "     1  237    1"
      ]
     },
     "metadata": {},
     "output_type": "display_data"
    }
   ],
   "source": [
    "#Running knn for Minimum Validation Error k\n",
    "prediction2 <- knn(train_input, test_input, train_output, k=z)\n",
    "actual <- ifelse(caravan_df_test_normalized[,'Number_of_mobile_home_policies']>0,1,0)\n",
    "predicted <- ifelse(as.numeric(prediction2)==1,0,1)\n",
    "table(actual, predicted)"
   ]
  },
  {
   "cell_type": "code",
   "execution_count": 307,
   "metadata": {
    "collapsed": false
   },
   "outputs": [
    {
     "data": {
      "image/png": "[encoded data removed]",
      "text/plain": [
       "plot without title"
      ]
     },
     "metadata": {},
     "output_type": "display_data"
    }
   ],
   "source": [
    "#Running knn for Minimum Validation Error k with prob=TRUE\n",
    "prediction2 <- knn(train_input, test_input, train_output, k=15, prob = TRUE)\n",
    "prob <- attr(prediction2, \"prob\")\n",
    "# Plot ROC and AUC for KNN\n",
    "library(ROCR)\n",
    "KNNPred <- prediction(prob, caravan_df_test_normalized[,'Number_of_mobile_home_policies'])\n",
    "KNNPerf <- performance(KNNPred, \"tpr\", \"fpr\")\n",
    "plot(KNNPerf, colorize=TRUE)\n",
    "abline(a=0, b=1, lty=2, lwd=3, col=\"black\")\n",
    "for (i in 1:4000){\n",
    "    probabilityDF$KNN[i] <- prob[i]\n",
    "    }"
   ]
  },
  {
   "cell_type": "code",
   "execution_count": 181,
   "metadata": {
    "collapsed": false
   },
   "outputs": [
    {
     "data": {
      "text/plain": [
       "An object of class \"performance\"\n",
       "Slot \"x.name\":\n",
       "[1] \"None\"\n",
       "\n",
       "Slot \"y.name\":\n",
       "[1] \"Area under the ROC curve\"\n",
       "\n",
       "Slot \"alpha.name\":\n",
       "[1] \"none\"\n",
       "\n",
       "Slot \"x.values\":\n",
       "list()\n",
       "\n",
       "Slot \"y.values\":\n",
       "[[1]]\n",
       "[1] 0.3485306\n",
       "\n",
       "\n",
       "Slot \"alpha.values\":\n",
       "list()\n"
      ]
     },
     "metadata": {},
     "output_type": "display_data"
    }
   ],
   "source": [
    "#AUC\n",
    "performance(KNNPred, \"auc\")"
   ]
  },
  {
   "cell_type": "code",
   "execution_count": 182,
   "metadata": {
    "collapsed": false
   },
   "outputs": [
    {
     "data": {
      "text/html": [
       "<dl class=dl-horizontal>\n",
       "\t<dt>acc</dt>\n",
       "\t\t<dd>0.94</dd>\n",
       "\t<dt>sens</dt>\n",
       "\t\t<dd>0</dd>\n",
       "\t<dt>spec</dt>\n",
       "\t\t<dd>0.999468367889421</dd>\n",
       "\t<dt>ppv</dt>\n",
       "\t\t<dd>0</dd>\n",
       "\t<dt>npv</dt>\n",
       "\t\t<dd>0.940470235117559</dd>\n",
       "\t<dt>lor</dt>\n",
       "\t\t<dd>-Inf</dd>\n",
       "</dl>\n"
      ],
      "text/latex": [
       "\\begin{description*}\n",
       "\\item[acc] 0.94\n",
       "\\item[sens] 0\n",
       "\\item[spec] 0.999468367889421\n",
       "\\item[ppv] 0\n",
       "\\item[npv] 0.940470235117559\n",
       "\\item[lor] -Inf\n",
       "\\end{description*}\n"
      ],
      "text/markdown": [
       "acc\n",
       ":   0.94sens\n",
       ":   0spec\n",
       ":   0.999468367889421ppv\n",
       ":   0npv\n",
       ":   0.940470235117559lor\n",
       ":   -Inf\n",
       "\n"
      ],
      "text/plain": [
       "      acc      sens      spec       ppv       npv       lor \n",
       "0.9400000 0.0000000 0.9994684 0.0000000 0.9404702      -Inf \n",
       "attr(,\"negative\")\n",
       "[1] \"Not Purchased\""
      ]
     },
     "metadata": {},
     "output_type": "display_data"
    }
   ],
   "source": [
    "#Corresponding Performance Measures\n",
    "KNNPrediction <- factor(as.factor(prediction2), labels = c(\"Not Purchased\", \"Purchased\"))\n",
    "KNNActual <- factor(as.factor(caravan_df_test_normalized[,'Number_of_mobile_home_policies']), labels = c(\"Not Purchased\", \"Purchased\"))\n",
    "library(crossval)\n",
    "CMNB <- confusionMatrix(KNNActual, KNNPrediction, negative = \"Not Purchased\" )\n",
    "diagnosticErrors(CMNB)"
   ]
  },
  {
   "cell_type": "markdown",
   "metadata": {},
   "source": [
    "###### KNN Using Undersampled Data"
   ]
  },
  {
   "cell_type": "code",
   "execution_count": 249,
   "metadata": {
    "collapsed": false
   },
   "outputs": [
    {
     "data": {
      "text/html": [
       "<table>\n",
       "<thead><tr><th scope=col>Number_of_mobile_home_policies</th><th scope=col>Count</th></tr></thead>\n",
       "<tbody>\n",
       "\t<tr><td>0  </td><td>348</td></tr>\n",
       "\t<tr><td>1  </td><td>348</td></tr>\n",
       "</tbody>\n",
       "</table>\n"
      ],
      "text/latex": [
       "\\begin{tabular}{r|ll}\n",
       " Number\\_of\\_mobile\\_home\\_policies & Count\\\\\n",
       "\\hline\n",
       "\t 0   & 348\\\\\n",
       "\t 1   & 348\\\\\n",
       "\\end{tabular}\n"
      ],
      "text/markdown": [
       "\n",
       "Number_of_mobile_home_policies | Count | \n",
       "|---|---|\n",
       "| 0   | 348 | \n",
       "| 1   | 348 | \n",
       "\n",
       "\n"
      ],
      "text/plain": [
       "  Number_of_mobile_home_policies Count\n",
       "1 0                              348  \n",
       "2 1                              348  "
      ]
     },
     "metadata": {},
     "output_type": "display_data"
    }
   ],
   "source": [
    "#Under Sampling Data\n",
    "#Taking all the observations with dependent variable = 1\n",
    "caravan_df_train_KNN_Under <- caravan_df_train[caravan_df_train$Number_of_mobile_home_policies==1,]\n",
    "\n",
    "#Randomly select observations with dependent variable = 0\n",
    "zeroObs <- caravan_df_train[caravan_df_train$Number_of_mobile_home_policies==0,]\n",
    "set.seed(123457)\n",
    "rearrangedZeroObs <-  zeroObs[sample(nrow(zeroObs), length(caravan_df_train_KNN_Under$Customer_Subtype)),]\n",
    "\n",
    "#Appending rows of randomly selected 0s in our undersampled data frame\n",
    "caravan_df_train_KNN_Under <- rbind(caravan_df_train_KNN_Under, rearrangedZeroObs)\n",
    "\n",
    "#Let's verify that number of 1s and 0s in our undersampled data are equal\n",
    "undersampled.Frequency.Number_of_mobile_home_policies <- data.frame(Number_of_mobile_home_policies = levels(as.factor(caravan_df_train_KNN_Under$Number_of_mobile_home_policies)), Count = as.numeric(table(caravan_df_train_KNN_Under$Number_of_mobile_home_policies)))\n",
    "undersampled.Frequency.Number_of_mobile_home_policies"
   ]
  },
  {
   "cell_type": "code",
   "execution_count": 250,
   "metadata": {
    "collapsed": false
   },
   "outputs": [
    {
     "data": {
      "image/png": "[encoded data removed]",
      "text/plain": [
       "plot without title"
      ]
     },
     "metadata": {},
     "output_type": "display_data"
    }
   ],
   "source": [
    "#Classify Using KNN\n",
    "#Normalizing each variable\n",
    "fun <- function(x)\n",
    "{    \n",
    "    a <- mean(x)    \n",
    "    b <- sd(x)    \n",
    "    (x - a)/(b)\n",
    "}\n",
    "library(class)\n",
    "\n",
    "caravan_df_train_normalized <- apply(caravan_df_train_KNN_Under, 2, fun)\n",
    "caravan_df_test_normalized <- apply(caravan_df_test, 2, fun)\n",
    "\n",
    "train_input <- as.matrix(caravan_df_train_normalized[,-86])\n",
    "train_output <- as.vector(caravan_df_train_normalized[,86])\n",
    "test_input <- as.matrix(caravan_df_test_normalized[,-86])\n",
    "\n",
    "kmax <- 15\n",
    "ER1 <- rep(0,kmax)\n",
    "ER2 <- rep(0,kmax)\n",
    "\n",
    "for (i in 1:kmax){\n",
    "    prediction <- knn(train_input, train_input,train_output, k=i)\n",
    "    prediction2 <- knn(train_input, test_input, train_output, k=i)\n",
    "\n",
    "#Confusion Matrix For Test Data\n",
    "CM2 <- table(prediction2, caravan_df_test_normalized[,'Number_of_mobile_home_policies'])\n",
    "\n",
    "#Error Rate on the test sample\n",
    "ER2[i] <- (CM2[1,2]+CM2[2,1])/sum(CM2)\n",
    "}\n",
    "#Plotting the %Error on the test sample\n",
    "plot(c(1,kmax),c(0.15,0.8),type=\"n\", xlab=\"k\",ylab=\"Error Rate\")\n",
    "lines(ER2, col=\"blue\")\n",
    "legend(12, 0.75, c(\"Test\"),lty=c(1,1), col=c(\"blue\"))"
   ]
  },
  {
   "cell_type": "code",
   "execution_count": 251,
   "metadata": {
    "collapsed": false
   },
   "outputs": [
    {
     "name": "stdout",
     "output_type": "stream",
     "text": [
      "Minimum Validation Error k: 11"
     ]
    }
   ],
   "source": [
    "# Minimum Validation Error k\n",
    "z <- which.min(ER2)\n",
    "cat(\"Minimum Validation Error k:\", z)"
   ]
  },
  {
   "cell_type": "code",
   "execution_count": 252,
   "metadata": {
    "collapsed": false
   },
   "outputs": [
    {
     "data": {
      "text/plain": [
       "      predicted\n",
       "actual    0    1\n",
       "     0 2104 1658\n",
       "     1   73  165"
      ]
     },
     "metadata": {},
     "output_type": "display_data"
    }
   ],
   "source": [
    "#Running knn for Minimum Validation Error k\n",
    "prediction2 <- knn(train_input, test_input, train_output, k=z)\n",
    "actual <- ifelse(caravan_df_test_normalized[,'Number_of_mobile_home_policies']>0,1,0)\n",
    "predicted <- ifelse(as.numeric(prediction2)==1,0,1)\n",
    "table(actual, predicted)"
   ]
  },
  {
   "cell_type": "code",
   "execution_count": 253,
   "metadata": {
    "collapsed": false
   },
   "outputs": [
    {
     "data": {
      "image/png": "[encoded data removed]",
      "text/plain": [
       "plot without title"
      ]
     },
     "metadata": {},
     "output_type": "display_data"
    }
   ],
   "source": [
    "#Running knn for Minimum Validation Error k with prob=TRUE\n",
    "prediction2 <- knn(train_input, test_input, train_output, k=15, prob = TRUE)\n",
    "prob <- attr(prediction2, \"prob\")\n",
    "# Plot ROC and AUC for KNN\n",
    "library(ROCR)\n",
    "KNNPred <- prediction(prob, caravan_df_test$Number_of_mobile_home_policies)\n",
    "KNNPerf <- performance(KNNPred, \"tpr\", \"fpr\")\n",
    "plot(KNNPerf, colorize=TRUE)\n",
    "abline(a=0, b=1, lty=2, lwd=3, col=\"black\")\n",
    "for (i in 1:4000){\n",
    "    probabilityDF$KNNU[i] <- prob[i]\n",
    "    }"
   ]
  },
  {
   "cell_type": "code",
   "execution_count": 190,
   "metadata": {
    "collapsed": false
   },
   "outputs": [
    {
     "data": {
      "text/plain": [
       "An object of class \"performance\"\n",
       "Slot \"x.name\":\n",
       "[1] \"None\"\n",
       "\n",
       "Slot \"y.name\":\n",
       "[1] \"Area under the ROC curve\"\n",
       "\n",
       "Slot \"alpha.name\":\n",
       "[1] \"none\"\n",
       "\n",
       "Slot \"x.values\":\n",
       "list()\n",
       "\n",
       "Slot \"y.values\":\n",
       "[[1]]\n",
       "[1] 0.5304873\n",
       "\n",
       "\n",
       "Slot \"alpha.values\":\n",
       "list()\n"
      ]
     },
     "metadata": {},
     "output_type": "display_data"
    }
   ],
   "source": [
    "#AUC\n",
    "performance(KNNPred, \"auc\")"
   ]
  },
  {
   "cell_type": "code",
   "execution_count": 191,
   "metadata": {
    "collapsed": false
   },
   "outputs": [
    {
     "data": {
      "text/html": [
       "<dl class=dl-horizontal>\n",
       "\t<dt>acc</dt>\n",
       "\t\t<dd>0.566</dd>\n",
       "\t<dt>sens</dt>\n",
       "\t\t<dd>0.642857142857143</dd>\n",
       "\t<dt>spec</dt>\n",
       "\t\t<dd>0.56113769271664</dd>\n",
       "\t<dt>ppv</dt>\n",
       "\t\t<dd>0.0848115299334812</dd>\n",
       "\t<dt>npv</dt>\n",
       "\t\t<dd>0.961293260473588</dd>\n",
       "\t<dt>lor</dt>\n",
       "\t\t<dd>0.83356726883031</dd>\n",
       "</dl>\n"
      ],
      "text/latex": [
       "\\begin{description*}\n",
       "\\item[acc] 0.566\n",
       "\\item[sens] 0.642857142857143\n",
       "\\item[spec] 0.56113769271664\n",
       "\\item[ppv] 0.0848115299334812\n",
       "\\item[npv] 0.961293260473588\n",
       "\\item[lor] 0.83356726883031\n",
       "\\end{description*}\n"
      ],
      "text/markdown": [
       "acc\n",
       ":   0.566sens\n",
       ":   0.642857142857143spec\n",
       ":   0.56113769271664ppv\n",
       ":   0.0848115299334812npv\n",
       ":   0.961293260473588lor\n",
       ":   0.83356726883031\n",
       "\n"
      ],
      "text/plain": [
       "       acc       sens       spec        ppv        npv        lor \n",
       "0.56600000 0.64285714 0.56113769 0.08481153 0.96129326 0.83356727 \n",
       "attr(,\"negative\")\n",
       "[1] \"Not Purchased\""
      ]
     },
     "metadata": {},
     "output_type": "display_data"
    }
   ],
   "source": [
    "#Corresponding Performance Measures\n",
    "KNNPrediction <- factor(as.factor(prediction2), labels = c(\"Not Purchased\", \"Purchased\"))\n",
    "KNNActual <- factor(as.factor(caravan_df_test_normalized[,'Number_of_mobile_home_policies']), labels = c(\"Not Purchased\", \"Purchased\"))\n",
    "library(crossval)\n",
    "CMNB <- confusionMatrix(KNNActual, KNNPrediction, negative = \"Not Purchased\" )\n",
    "diagnosticErrors(CMNB)"
   ]
  },
  {
   "cell_type": "markdown",
   "metadata": {},
   "source": [
    "###### KNN Using Oversampled Data"
   ]
  },
  {
   "cell_type": "code",
   "execution_count": 254,
   "metadata": {
    "collapsed": false
   },
   "outputs": [
    {
     "data": {
      "text/html": [
       "'Ratio of 1s to 0s- 1:15.7298850574713'"
      ],
      "text/latex": [
       "'Ratio of 1s to 0s- 1:15.7298850574713'"
      ],
      "text/markdown": [
       "'Ratio of 1s to 0s- 1:15.7298850574713'"
      ],
      "text/plain": [
       "[1] \"Ratio of 1s to 0s- 1:15.7298850574713\""
      ]
     },
     "metadata": {},
     "output_type": "display_data"
    }
   ],
   "source": [
    "#First let's recall the ratio of 1s and 0s in our original training dataset\n",
    "paste0(\"Ratio of 1s to 0s- 1:\", as.numeric(table(caravan_df_train$Number_of_mobile_home_policies))[1]/as.numeric(table(caravan_df_train$Number_of_mobile_home_policies))[2])"
   ]
  },
  {
   "cell_type": "code",
   "execution_count": 256,
   "metadata": {
    "collapsed": false
   },
   "outputs": [
    {
     "data": {
      "text/html": [
       "<table>\n",
       "<thead><tr><th scope=col>Number_of_mobile_home_policies</th><th scope=col>Count</th></tr></thead>\n",
       "<tbody>\n",
       "\t<tr><td>0   </td><td>5474</td></tr>\n",
       "\t<tr><td>1   </td><td>2436</td></tr>\n",
       "</tbody>\n",
       "</table>\n"
      ],
      "text/latex": [
       "\\begin{tabular}{r|ll}\n",
       " Number\\_of\\_mobile\\_home\\_policies & Count\\\\\n",
       "\\hline\n",
       "\t 0    & 5474\\\\\n",
       "\t 1    & 2436\\\\\n",
       "\\end{tabular}\n"
      ],
      "text/markdown": [
       "\n",
       "Number_of_mobile_home_policies | Count | \n",
       "|---|---|\n",
       "| 0    | 5474 | \n",
       "| 1    | 2436 | \n",
       "\n",
       "\n"
      ],
      "text/plain": [
       "  Number_of_mobile_home_policies Count\n",
       "1 0                              5474 \n",
       "2 1                              2436 "
      ]
     },
     "metadata": {},
     "output_type": "display_data"
    }
   ],
   "source": [
    "#Now let's duplicate the observations with dependent variable = 1 to make the ratio approximately 1:2\n",
    "caravan_df_train_KNN_OverDummy <- caravan_df_train[caravan_df_train$Number_of_mobile_home_policies==1,]\n",
    "caravan_df_train_KNN_Over <- NULL\n",
    "for (i in 1:7){\n",
    "    caravan_df_train_KNN_Over <- rbind(caravan_df_train_KNN_Over, caravan_df_train_KNN_OverDummy)\n",
    "}\n",
    "caravan_df_train_KNN_Over <- rbind(caravan_df_train_KNN_Over, caravan_df_train[caravan_df_train$Number_of_mobile_home_policies==0,])\n",
    "\n",
    "#Let's verify the number of 1s and 0s in our oversampled data\n",
    "oversampled.Frequency.Number_of_mobile_home_policies <- data.frame(Number_of_mobile_home_policies = levels(as.factor(caravan_df_train_KNN_Over$Number_of_mobile_home_policies)), Count = as.numeric(table(caravan_df_train_KNN_Over$Number_of_mobile_home_policies)))\n",
    "oversampled.Frequency.Number_of_mobile_home_policies"
   ]
  },
  {
   "cell_type": "code",
   "execution_count": 257,
   "metadata": {
    "collapsed": false
   },
   "outputs": [
    {
     "data": {
      "text/html": [
       "'Ratio of 1s to 0s After Oversampling- 1:2.24712643678161'"
      ],
      "text/latex": [
       "'Ratio of 1s to 0s After Oversampling- 1:2.24712643678161'"
      ],
      "text/markdown": [
       "'Ratio of 1s to 0s After Oversampling- 1:2.24712643678161'"
      ],
      "text/plain": [
       "[1] \"Ratio of 1s to 0s After Oversampling- 1:2.24712643678161\""
      ]
     },
     "metadata": {},
     "output_type": "display_data"
    }
   ],
   "source": [
    "#Let's verify the ratio of 1s to 0s after over sampling\n",
    "paste0(\"Ratio of 1s to 0s After Oversampling- 1:\", as.numeric(table(caravan_df_train_KNN_Over$Number_of_mobile_home_policies))[1]/as.numeric(table(caravan_df_train_KNN_Over$Number_of_mobile_home_policies))[2])"
   ]
  },
  {
   "cell_type": "code",
   "execution_count": 258,
   "metadata": {
    "collapsed": false
   },
   "outputs": [
    {
     "data": {
      "image/png": "[encoded data removed]",
      "text/plain": [
       "plot without title"
      ]
     },
     "metadata": {},
     "output_type": "display_data"
    }
   ],
   "source": [
    "#Classify Using KNN\n",
    "#Normalizing each variable\n",
    "fun <- function(x)\n",
    "{    \n",
    "    a <- mean(x)    \n",
    "    b <- sd(x)    \n",
    "    (x - a)/(b)\n",
    "}\n",
    "library(class)\n",
    "\n",
    "caravan_df_train_normalized <- apply(caravan_df_train_KNN_Over, 2, fun)\n",
    "caravan_df_test_normalized <- apply(caravan_df_test, 2, fun)\n",
    "\n",
    "train_input <- as.matrix(caravan_df_train_normalized[,-86])\n",
    "train_output <- as.vector(caravan_df_train_normalized[,86])\n",
    "test_input <- as.matrix(caravan_df_test_normalized[,-86])\n",
    "\n",
    "kmax <- 15\n",
    "ER1 <- rep(0,kmax)\n",
    "ER2 <- rep(0,kmax)\n",
    "\n",
    "for (i in 1:kmax){\n",
    "    prediction <- knn(train_input, train_input,train_output, k=i)\n",
    "    prediction2 <- knn(train_input, test_input, train_output, k=i)\n",
    "\n",
    "#Confusion Matrix For Test Data\n",
    "CM2 <- table(prediction2, caravan_df_test_normalized[,'Number_of_mobile_home_policies'])\n",
    "\n",
    "#Error Rate on the test sample\n",
    "ER2[i] <- (CM2[1,2]+CM2[2,1])/sum(CM2)\n",
    "}\n",
    "#Plotting the %Error on the test sample\n",
    "plot(c(1,kmax),c(0.15,0.8),type=\"n\", xlab=\"k\",ylab=\"Error Rate\")\n",
    "lines(ER2, col=\"blue\")\n",
    "legend(12, 0.75, c(\"Test\"),lty=c(1,1), col=c(\"blue\"))"
   ]
  },
  {
   "cell_type": "code",
   "execution_count": 259,
   "metadata": {
    "collapsed": false
   },
   "outputs": [
    {
     "name": "stdout",
     "output_type": "stream",
     "text": [
      "Minimum Validation Error k: 1"
     ]
    }
   ],
   "source": [
    "# Minimum Validation Error k\n",
    "z <- which.min(ER2)\n",
    "cat(\"Minimum Validation Error k:\", z)"
   ]
  },
  {
   "cell_type": "code",
   "execution_count": 260,
   "metadata": {
    "collapsed": false
   },
   "outputs": [
    {
     "data": {
      "text/plain": [
       "      predicted\n",
       "actual    0    1\n",
       "     0 3513  249\n",
       "     1  196   42"
      ]
     },
     "metadata": {},
     "output_type": "display_data"
    }
   ],
   "source": [
    "#Running knn for Minimum Validation Error k\n",
    "prediction2 <- knn(train_input, test_input, train_output, k=z)\n",
    "actual <- ifelse(caravan_df_test_normalized[,'Number_of_mobile_home_policies']>0,1,0)\n",
    "predicted <- ifelse(as.numeric(prediction2)==1,0,1)\n",
    "table(actual, predicted)"
   ]
  },
  {
   "cell_type": "code",
   "execution_count": 268,
   "metadata": {
    "collapsed": false
   },
   "outputs": [
    {
     "data": {
      "image/png": "[encoded data removed]",
      "text/plain": [
       "plot without title"
      ]
     },
     "metadata": {},
     "output_type": "display_data"
    }
   ],
   "source": [
    "#Running knn for Minimum Validation Error k with prob=TRUE\n",
    "prediction2 <- knn(train_input, test_input, train_output, k=15, prob = TRUE)\n",
    "prob <- attr(prediction2, \"prob\")\n",
    "# Plot ROC and AUC for KNN\n",
    "library(ROCR)\n",
    "KNNPred <- prediction(prob, caravan_df_test$Number_of_mobile_home_policies)\n",
    "KNNPerf <- performance(KNNPred, \"tpr\", \"fpr\")\n",
    "plot(KNNPerf, colorize=TRUE)\n",
    "abline(a=0, b=1, lty=2, lwd=3, col=\"black\")\n",
    "for (i in 1:4000){\n",
    "    probabilityDF$KNNO[i] <- prob[i]\n",
    "    }"
   ]
  },
  {
   "cell_type": "code",
   "execution_count": 269,
   "metadata": {
    "collapsed": false
   },
   "outputs": [
    {
     "data": {
      "text/plain": [
       "An object of class \"performance\"\n",
       "Slot \"x.name\":\n",
       "[1] \"None\"\n",
       "\n",
       "Slot \"y.name\":\n",
       "[1] \"Area under the ROC curve\"\n",
       "\n",
       "Slot \"alpha.name\":\n",
       "[1] \"none\"\n",
       "\n",
       "Slot \"x.values\":\n",
       "list()\n",
       "\n",
       "Slot \"y.values\":\n",
       "[[1]]\n",
       "[1] 0.4286675\n",
       "\n",
       "\n",
       "Slot \"alpha.values\":\n",
       "list()\n"
      ]
     },
     "metadata": {},
     "output_type": "display_data"
    }
   ],
   "source": [
    "#AUC\n",
    "performance(KNNPred, \"auc\")"
   ]
  },
  {
   "cell_type": "code",
   "execution_count": 270,
   "metadata": {
    "collapsed": false
   },
   "outputs": [
    {
     "data": {
      "text/html": [
       "<dl class=dl-horizontal>\n",
       "\t<dt>acc</dt>\n",
       "\t\t<dd>0.83675</dd>\n",
       "\t<dt>sens</dt>\n",
       "\t\t<dd>0.30672268907563</dd>\n",
       "\t<dt>spec</dt>\n",
       "\t\t<dd>0.870281765018607</dd>\n",
       "\t<dt>ppv</dt>\n",
       "\t\t<dd>0.130124777183601</dd>\n",
       "\t<dt>npv</dt>\n",
       "\t\t<dd>0.952020936318697</dd>\n",
       "\t<dt>lor</dt>\n",
       "\t\t<dd>1.08796631932574</dd>\n",
       "</dl>\n"
      ],
      "text/latex": [
       "\\begin{description*}\n",
       "\\item[acc] 0.83675\n",
       "\\item[sens] 0.30672268907563\n",
       "\\item[spec] 0.870281765018607\n",
       "\\item[ppv] 0.130124777183601\n",
       "\\item[npv] 0.952020936318697\n",
       "\\item[lor] 1.08796631932574\n",
       "\\end{description*}\n"
      ],
      "text/markdown": [
       "acc\n",
       ":   0.83675sens\n",
       ":   0.30672268907563spec\n",
       ":   0.870281765018607ppv\n",
       ":   0.130124777183601npv\n",
       ":   0.952020936318697lor\n",
       ":   1.08796631932574\n",
       "\n"
      ],
      "text/plain": [
       "      acc      sens      spec       ppv       npv       lor \n",
       "0.8367500 0.3067227 0.8702818 0.1301248 0.9520209 1.0879663 \n",
       "attr(,\"negative\")\n",
       "[1] \"Not Purchased\""
      ]
     },
     "metadata": {},
     "output_type": "display_data"
    }
   ],
   "source": [
    "#Corresponding Performance Measures\n",
    "KNNPrediction <- factor(as.factor(prediction2), labels = c(\"Not Purchased\", \"Purchased\"))\n",
    "KNNActual <- factor(as.factor(caravan_df_test_normalized[,'Number_of_mobile_home_policies']), labels = c(\"Not Purchased\", \"Purchased\"))\n",
    "library(crossval)\n",
    "CMNB <- confusionMatrix(KNNActual, KNNPrediction, negative = \"Not Purchased\" )\n",
    "diagnosticErrors(CMNB)"
   ]
  },
  {
   "cell_type": "markdown",
   "metadata": {},
   "source": [
    "###### 5. Classification using Naive Bayes - Unbalanced Data, Undersampled Data, Oversampled Data, SMOTE"
   ]
  },
  {
   "cell_type": "code",
   "execution_count": 271,
   "metadata": {
    "collapsed": false
   },
   "outputs": [],
   "source": [
    "#NB Pre-Processing\n",
    "caravan_df_trainNB <- caravan_df_train\n",
    "caravan_df_testNB <- caravan_df_test\n",
    "\n",
    "caravan_df_trainNB$Customer_Subtype <- as.factor(caravan_df_trainNB$Customer_Subtype)\n",
    "caravan_df_testNB$Customer_Subtype <- as.factor(caravan_df_testNB$Customer_Subtype)\n",
    "caravan_df_trainNB$Customer_main_type <- as.factor(caravan_df_trainNB$Customer_main_type)\n",
    "caravan_df_testNB$Customer_main_type <- as.factor(caravan_df_testNB$Customer_main_type)"
   ]
  },
  {
   "cell_type": "code",
   "execution_count": 272,
   "metadata": {
    "collapsed": false
   },
   "outputs": [
    {
     "name": "stderr",
     "output_type": "stream",
     "text": [
      "Warning message:\n",
      "\"package 'e1071' was built under R version 3.3.3\""
     ]
    },
    {
     "data": {
      "text/plain": [
       "\n",
       "Naive Bayes Classifier for Discrete Predictors\n",
       "\n",
       "Call:\n",
       "naiveBayes.default(x = X, y = Y, laplace = laplace)\n",
       "\n",
       "A-priori probabilities:\n",
       "Y\n",
       "         0          1 \n",
       "0.94022673 0.05977327 \n",
       "\n",
       "Conditional probabilities:\n",
       "   Customer_Subtype\n",
       "Y              1            2            3            4            5\n",
       "  0 0.0202776763 0.0138838144 0.0409207161 0.0091340884 0.0078553160\n",
       "  1 0.0373563218 0.0172413793 0.0718390805 0.0057471264 0.0057471264\n",
       "   Customer_Subtype\n",
       "Y              6            7            8            9           10\n",
       "  0 0.0195469492 0.0074899525 0.0526123493 0.0485933504 0.0284983559\n",
       "  1 0.0344827586 0.0086206897 0.1465517241 0.0344827586 0.0258620690\n",
       "   Customer_Subtype\n",
       "Y             11           12           13           15           16\n",
       "  0 0.0263061746 0.0173547680 0.0303251735 0.0009134088 0.0029229083\n",
       "  1 0.0258620690 0.0459770115 0.0373563218 0.0000000000 0.0000000000\n",
       "   Customer_Subtype\n",
       "Y             17           18           19           20           21\n",
       "  0 0.0016441359 0.0034709536 0.0005480453 0.0042016807 0.0027402265\n",
       "  1 0.0000000000 0.0000000000 0.0000000000 0.0057471264 0.0000000000\n",
       "   Customer_Subtype\n",
       "Y             22           23           24           25           26\n",
       "  0 0.0171720862 0.0451223968 0.0319693095 0.0146145415 0.0085860431\n",
       "  1 0.0114942529 0.0114942529 0.0143678161 0.0057471264 0.0028735632\n",
       "   Customer_Subtype\n",
       "Y             27           28           29           30           31\n",
       "  0 0.0089514066 0.0045670442 0.0153452685 0.0208257216 0.0363536719\n",
       "  1 0.0028735632 0.0000000000 0.0057471264 0.0114942529 0.0172413793\n",
       "   Customer_Subtype\n",
       "Y             32           33           34           35           36\n",
       "  0 0.0242966752 0.1395688710 0.0316039459 0.0376324443 0.0381804896\n",
       "  1 0.0229885057 0.1321839080 0.0258620690 0.0229885057 0.0459770115\n",
       "   Customer_Subtype\n",
       "Y             37           38           39           40           41\n",
       "  0 0.0222871757 0.0577274388 0.0564486664 0.0129704056 0.0365363537\n",
       "  1 0.0287356322 0.0660919540 0.0545977011 0.0000000000 0.0143678161\n",
       "\n",
       "   Number_of_houses\n",
       "Y       [,1]      [,2]\n",
       "  0 1.111619 0.4119539\n",
       "  1 1.094828 0.2933985\n",
       "\n",
       "   Avg_size_household\n",
       "Y       [,1]      [,2]\n",
       "  0 2.671721 0.7915461\n",
       "  1 2.790230 0.7547864\n",
       "\n",
       "   Avg_age\n",
       "Y       [,1]      [,2]\n",
       "  0 2.990318 0.8167002\n",
       "  1 3.005747 0.7816124\n",
       "\n",
       "   Customer_main_type\n",
       "Y             1           2           3           4           5           6\n",
       "  0 0.092071611 0.079649251 0.151077822 0.009499452 0.101205700 0.036719035\n",
       "  1 0.137931034 0.189655172 0.169540230 0.000000000 0.043103448 0.011494253\n",
       "   Customer_main_type\n",
       "Y             7           8           9          10\n",
       "  0 0.096821337 0.269272927 0.114176105 0.049506759\n",
       "  1 0.057471264 0.255747126 0.120689655 0.014367816\n",
       "\n",
       "   Roman_catholic\n",
       "Y        [,1]     [,2]\n",
       "  0 0.6949214 1.009413\n",
       "  1 0.7212644 0.901428\n",
       "\n",
       "   Protestant\n",
       "Y       [,1]     [,2]\n",
       "  0 4.612715 1.719874\n",
       "  1 4.850575 1.637308\n",
       "\n",
       "   Other_religion\n",
       "Y       [,1]     [,2]\n",
       "  0 1.068871 1.015955\n",
       "  1 1.086207 1.042904\n",
       "\n",
       "   No_religion\n",
       "Y       [,1]     [,2]\n",
       "  0 3.275301 1.593205\n",
       "  1 2.994253 1.645874\n",
       "\n",
       "   Married\n",
       "Y       [,1]    [,2]\n",
       "  0 6.149616 1.92118\n",
       "  1 6.715517 1.62725\n",
       "\n",
       "   Living_together\n",
       "Y        [,1]      [,2]\n",
       "  0 0.8916697 0.9736863\n",
       "  1 0.7557471 0.8251076\n",
       "\n",
       "   Other_relation\n",
       "Y       [,1]     [,2]\n",
       "  0 2.317501 1.733062\n",
       "  1 1.864943 1.488333\n",
       "\n",
       "   Singles\n",
       "Y       [,1]     [,2]\n",
       "  0 1.911765 1.810822\n",
       "  1 1.508621 1.573350\n",
       "\n",
       "   Household_without_children\n",
       "Y       [,1]     [,2]\n",
       "  0 3.227073 1.616579\n",
       "  1 3.281609 1.674011\n",
       "\n",
       "   Household_with_children\n",
       "Y       [,1]     [,2]\n",
       "  0 4.283887 2.003963\n",
       "  1 4.557471 2.011387\n",
       "\n",
       "   High_level_education\n",
       "Y       [,1]     [,2]\n",
       "  0 1.426379 1.599997\n",
       "  1 2.005747 1.868893\n",
       "\n",
       "   Medium_level_education\n",
       "Y       [,1]     [,2]\n",
       "  0 3.331933 1.758583\n",
       "  1 3.655172 1.774475\n",
       "\n",
       "   Lower_level_education\n",
       "Y       [,1]     [,2]\n",
       "  0 4.624954 2.288806\n",
       "  1 3.747126 2.290028\n",
       "\n",
       "   High_status\n",
       "Y       [,1]     [,2]\n",
       "  0 1.865546 1.777452\n",
       "  1 2.359195 2.047069\n",
       "\n",
       "   Entrepreneur\n",
       "Y        [,1]      [,2]\n",
       "  0 0.3936792 0.7725679\n",
       "  1 0.4655172 0.8116341\n",
       "\n",
       "   Farmer\n",
       "Y       [,1]      [,2]\n",
       "  0 0.536719 1.0731614\n",
       "  1 0.295977 0.7212588\n",
       "\n",
       "   Middle_management\n",
       "Y       [,1]     [,2]\n",
       "  0 2.876872 1.824324\n",
       "  1 3.247126 2.037648\n",
       "\n",
       "   Skilled_labourers\n",
       "Y       [,1]     [,2]\n",
       "  0 2.238400 1.729670\n",
       "  1 1.928161 1.725553\n",
       "\n",
       "   Unskilled_labourers\n",
       "Y       [,1]     [,2]\n",
       "  0 2.329741 1.695094\n",
       "  1 1.939655 1.615605\n",
       "\n",
       "   Social_class_A\n",
       "Y       [,1]     [,2]\n",
       "  0 1.593168 1.707187\n",
       "  1 2.054598 1.904010\n",
       "\n",
       "   Social_class_B1\n",
       "Y       [,1]     [,2]\n",
       "  0 1.597187 1.328323\n",
       "  1 1.758621 1.359908\n",
       "\n",
       "   Social_class_B2\n",
       "Y       [,1]     [,2]\n",
       "  0 2.200950 1.531862\n",
       "  1 2.227011 1.490668\n",
       "\n",
       "   Social_class_C\n",
       "Y       [,1]     [,2]\n",
       "  0 3.779320 1.927586\n",
       "  1 3.433908 2.032502\n",
       "\n",
       "   Social_class_D\n",
       "Y        [,1]     [,2]\n",
       "  0 1.0880526 1.314966\n",
       "  1 0.7413793 1.050215\n",
       "\n",
       "   Rented_house\n",
       "Y       [,1]     [,2]\n",
       "  0 4.298502 3.083770\n",
       "  1 3.267241 3.017789\n",
       "\n",
       "   Home_owners\n",
       "Y       [,1]     [,2]\n",
       "  0 4.710632 3.084522\n",
       "  1 5.732759 3.017789\n",
       "\n",
       "   X1_car\n",
       "Y       [,1]     [,2]\n",
       "  0 6.012970 1.559355\n",
       "  1 6.471264 1.377791\n",
       "\n",
       "   X2_cars\n",
       "Y       [,1]     [,2]\n",
       "  0 1.314030 1.202742\n",
       "  1 1.353448 1.209384\n",
       "\n",
       "   No_car\n",
       "Y       [,1]     [,2]\n",
       "  0 1.990318 1.608292\n",
       "  1 1.474138 1.371559\n",
       "\n",
       "   National_Health_Service\n",
       "Y       [,1]     [,2]\n",
       "  0 6.306175 1.966783\n",
       "  1 5.818966 2.107756\n",
       "\n",
       "   Private_health_insurance\n",
       "Y       [,1]     [,2]\n",
       "  0 2.700219 1.970320\n",
       "  1 3.181034 2.107756\n",
       "\n",
       "   Income_._30\n",
       "Y       [,1]     [,2]\n",
       "  0 2.615638 2.097796\n",
       "  1 1.913793 1.768613\n",
       "\n",
       "   Income_30.45.000\n",
       "Y       [,1]     [,2]\n",
       "  0 3.536536 1.880069\n",
       "  1 3.528736 1.925644\n",
       "\n",
       "   Income_45.75.000\n",
       "Y       [,1]     [,2]\n",
       "  0 2.703325 1.930749\n",
       "  1 3.172414 1.826522\n",
       "\n",
       "   Income_75.122.000\n",
       "Y        [,1]     [,2]\n",
       "  0 0.7791377 1.151583\n",
       "  1 1.0632184 1.300199\n",
       "\n",
       "   Income_.123.000\n",
       "Y        [,1]      [,2]\n",
       "  0 0.2029594 0.5562646\n",
       "  1 0.1982759 0.4720394\n",
       "\n",
       "   Average_income\n",
       "Y       [,1]     [,2]\n",
       "  0 3.754476 1.313607\n",
       "  1 4.255747 1.295346\n",
       "\n",
       "   Purchasing_power\n",
       "Y       [,1]     [,2]\n",
       "  0 4.187797 1.997301\n",
       "  1 5.000000 2.010061\n",
       "\n",
       "   private_third_party_insurance\n",
       "Y        [,1]      [,2]\n",
       "  0 0.7478992 0.9519903\n",
       "  1 1.1379310 0.9889582\n",
       "\n",
       "   third_party_insurance_firms\n",
       "Y         [,1]      [,2]\n",
       "  0 0.04018999 0.3655047\n",
       "  1 0.03735632 0.3153808\n",
       "\n",
       "   third_party_insurane_agriculture\n",
       "Y         [,1]      [,2]\n",
       "  0 0.07435148 0.5095003\n",
       "  1 0.02873563 0.3116963\n",
       "\n",
       "   car_policies\n",
       "Y       [,1]     [,2]\n",
       "  0 2.859335 2.914510\n",
       "  1 4.718391 2.421328\n",
       "\n",
       "   delivery_van_policies\n",
       "Y         [,1]      [,2]\n",
       "  0 0.04914140 0.5358994\n",
       "  1 0.03448276 0.4542029\n",
       "\n",
       "   Contribution_motorcycle.scooter\n",
       "Y        [,1]      [,2]\n",
       "  0 0.1740957 0.8967414\n",
       "  1 0.1954023 0.9058132\n",
       "\n",
       "   lorry_policies\n",
       "Y        [,1]      [,2]\n",
       "  0 0.0100475 0.2523224\n",
       "  1 0.0000000 0.0000000\n",
       "\n",
       "   trailer_policies\n",
       "Y         [,1]      [,2]\n",
       "  0 0.02027768 0.2106038\n",
       "  1 0.03160920 0.2439605\n",
       "\n",
       "   tractor_policies\n",
       "Y         [,1]      [,2]\n",
       "  0 0.09444647 0.6066462\n",
       "  1 0.06321839 0.5437865\n",
       "\n",
       "   agricultural_machines_policies\n",
       "Y         [,1]      [,2]\n",
       "  0 0.01388381 0.2360467\n",
       "  1 0.00000000 0.0000000\n",
       "\n",
       "   moped_policies\n",
       "Y         [,1]      [,2]\n",
       "  0 0.22415053 0.8288564\n",
       "  1 0.07183908 0.4837534\n",
       "\n",
       "   life_insurances\n",
       "Y        [,1]      [,2]\n",
       "  0 0.1899890 0.8880731\n",
       "  1 0.2701149 1.0417913\n",
       "\n",
       "   private_accident_insurance_policies\n",
       "Y          [,1]      [,2]\n",
       "  0 0.014249178 0.2141054\n",
       "  1 0.005747126 0.1072113\n",
       "\n",
       "   family_accidents_insurance_policies\n",
       "Y         [,1]      [,2]\n",
       "  0 0.01333577 0.1772903\n",
       "  1 0.04597701 0.3531022\n",
       "\n",
       "   disability_insurance_policies\n",
       "Y         [,1]      [,2]\n",
       "  0 0.02064304 0.3516211\n",
       "  1 0.06896552 0.6404808\n",
       "\n",
       "   fire_policies\n",
       "Y       [,1]     [,2]\n",
       "  0 1.782974 1.875056\n",
       "  1 2.531609 1.806690\n",
       "\n",
       "   surfboard_policies\n",
       "Y           [,1]       [,2]\n",
       "  0 0.0007307271 0.04273894\n",
       "  1 0.0028735632 0.05360563\n",
       "\n",
       "   boat_policies\n",
       "Y         [,1]      [,2]\n",
       "  0 0.01260504 0.2221641\n",
       "  1 0.11781609 0.6793995\n",
       "\n",
       "   bicycle_policies\n",
       "Y         [,1]      [,2]\n",
       "  0 0.02411399 0.1534171\n",
       "  1 0.04310345 0.2033824\n",
       "\n",
       "   property_insurance_policies\n",
       "Y         [,1]      [,2]\n",
       "  0 0.01534527 0.2062034\n",
       "  1 0.02011494 0.1769025\n",
       "\n",
       "   social_security_insurance_policies\n",
       "Y        [,1]      [,2]\n",
       "  0 0.0411034 0.3817870\n",
       "  1 0.1494253 0.7045138\n",
       "\n",
       "   Number_of_private_third_party_insurance\n",
       "Y        [,1]      [,2]\n",
       "  0 0.3918524 0.4904490\n",
       "  1 0.5775862 0.4946549\n",
       "\n",
       "   Number_of_third_party_insurance_firms\n",
       "Y         [,1]      [,2]\n",
       "  0 0.01479722 0.1350379\n",
       "  1 0.01436782 0.1191730\n",
       "\n",
       "   Number_of_third_party_insurane_agriculture\n",
       "Y         [,1]       [,2]\n",
       "  0 0.02137377 0.14464007\n",
       "  1 0.00862069 0.09257971\n",
       "\n",
       "   Number_of_car_policies\n",
       "Y       [,1]      [,2]\n",
       "  0 0.540190 0.6005142\n",
       "  1 0.908046 0.5657299\n",
       "\n",
       "   Number_of_delivery_van_policies\n",
       "Y          [,1]       [,2]\n",
       "  0 0.010778224 0.13269204\n",
       "  1 0.005747126 0.07570049\n",
       "\n",
       "   Number_of_motorcycle.scooter_policies\n",
       "Y         [,1]      [,2]\n",
       "  0 0.04055535 0.2289949\n",
       "  1 0.04885057 0.2288270\n",
       "\n",
       "   Number_of_lorry_policies\n",
       "Y          [,1]       [,2]\n",
       "  0 0.002374863 0.06478277\n",
       "  1 0.000000000 0.00000000\n",
       "\n",
       "   Number_of_trailer_policies\n",
       "Y         [,1]      [,2]\n",
       "  0 0.01223968 0.1254846\n",
       "  1 0.01724138 0.1303570\n",
       "\n",
       "   Number_of_tractor_policies\n",
       "Y         [,1]     [,2]\n",
       "  0 0.03470954 0.245331\n",
       "  1 0.01724138 0.150853\n",
       "\n",
       "   Number_of_agricultural_machines_policies\n",
       "Y          [,1]      [,2]\n",
       "  0 0.006576544 0.1280668\n",
       "  1 0.000000000 0.0000000\n",
       "\n",
       "   Number_of_moped_policies\n",
       "Y         [,1]      [,2]\n",
       "  0 0.07343807 0.2705058\n",
       "  1 0.02298851 0.1500825\n",
       "\n",
       "   Number_of_life_insurances\n",
       "Y         [,1]      [,2]\n",
       "  0 0.07307271 0.3628991\n",
       "  1 0.13218391 0.5576803\n",
       "\n",
       "   Number_of_private_accident_insurance_policies\n",
       "Y          [,1]       [,2]\n",
       "  0 0.005480453 0.07383369\n",
       "  1 0.002873563 0.05360563\n",
       "\n",
       "   Number_of_family_accidents_insurance_policies\n",
       "Y          [,1]      [,2]\n",
       "  0 0.005845817 0.0762411\n",
       "  1 0.017241379 0.1303570\n",
       "\n",
       "   Number_of_disability_insurance_policies\n",
       "Y          [,1]       [,2]\n",
       "  0 0.004201681 0.07514328\n",
       "  1 0.011494253 0.10674680\n",
       "\n",
       "   Number_of_fire_policies\n",
       "Y        [,1]      [,2]\n",
       "  0 0.5613811 0.5647991\n",
       "  1 0.7068966 0.4981333\n",
       "\n",
       "   Number_of_surfboard_policies\n",
       "Y           [,1]       [,2]\n",
       "  0 0.0003653635 0.01911274\n",
       "  1 0.0028735632 0.05360563\n",
       "\n",
       "   Number_of_boat_policies\n",
       "Y          [,1]       [,2]\n",
       "  0 0.003836317 0.06471266\n",
       "  1 0.040229885 0.21091800\n",
       "\n",
       "   Number_of_bicycle_policies\n",
       "Y         [,1]      [,2]\n",
       "  0 0.02995981 0.2027973\n",
       "  1 0.06034483 0.3117893\n",
       "\n",
       "   Number_of_property_insurance_policies\n",
       "Y          [,1]       [,2]\n",
       "  0 0.007489953 0.08832124\n",
       "  1 0.014367816 0.11917295\n",
       "\n",
       "   Number_of_social_security_insurance_policies\n",
       "Y         [,1]      [,2]\n",
       "  0 0.01223968 0.1116132\n",
       "  1 0.04597701 0.2097368\n"
      ]
     },
     "metadata": {},
     "output_type": "display_data"
    }
   ],
   "source": [
    "#Classification Using Naive Bayes\n",
    "library(e1071)\n",
    "# Can handle both categorical and numeric input,\n",
    "# but output must be categorical\n",
    "caravan_df_trainNB$Number_of_mobile_home_policies <- factor(caravan_df_trainNB$Number_of_mobile_home_policies, labels = c(0,1))\n",
    "model <- naiveBayes(as.factor(Number_of_mobile_home_policies)~., data=caravan_df_trainNB)\n",
    "model"
   ]
  },
  {
   "cell_type": "code",
   "execution_count": 273,
   "metadata": {
    "collapsed": false
   },
   "outputs": [
    {
     "data": {
      "text/plain": [
       "      predicted\n",
       "actual    0    1\n",
       "     0  660 3102\n",
       "     1   16  222"
      ]
     },
     "metadata": {},
     "output_type": "display_data"
    }
   ],
   "source": [
    "#NB Prediction\n",
    "tst <- caravan_df_testNB[,-86]\n",
    "prediction <- predict(model, newdata = tst)\n",
    "table(caravan_df_testNB$Number_of_mobile_home_policies, prediction, dnn=list('actual','predicted'))"
   ]
  },
  {
   "cell_type": "code",
   "execution_count": 277,
   "metadata": {
    "collapsed": false
   },
   "outputs": [
    {
     "data": {
      "image/png": "[encoded data removed]",
      "text/plain": [
       "plot without title"
      ]
     },
     "metadata": {},
     "output_type": "display_data"
    }
   ],
   "source": [
    "# Plot ROC and AUC for KNN\n",
    "probs <- predict(model, tst, type=\"raw\")\n",
    "library(ROCR)\n",
    "NBPred <- prediction(probs[,2], caravan_df_testNB$Number_of_mobile_home_policies)\n",
    "NBPerf <- performance(NBPred, \"tpr\", \"fpr\")\n",
    "plot(NBPerf, colorize=TRUE)\n",
    "abline(a=0, b=1, lty=2, lwd=3, col=\"black\")\n",
    "for (i in 1:4000){\n",
    "    probabilityDF$NB[i] <- probs[i]\n",
    "    }"
   ]
  },
  {
   "cell_type": "code",
   "execution_count": 276,
   "metadata": {
    "collapsed": false
   },
   "outputs": [
    {
     "data": {
      "text/plain": [
       "An object of class \"performance\"\n",
       "Slot \"x.name\":\n",
       "[1] \"None\"\n",
       "\n",
       "Slot \"y.name\":\n",
       "[1] \"Area under the ROC curve\"\n",
       "\n",
       "Slot \"alpha.name\":\n",
       "[1] \"none\"\n",
       "\n",
       "Slot \"x.values\":\n",
       "list()\n",
       "\n",
       "Slot \"y.values\":\n",
       "[[1]]\n",
       "[1] 0.6759942\n",
       "\n",
       "\n",
       "Slot \"alpha.values\":\n",
       "list()\n"
      ]
     },
     "metadata": {},
     "output_type": "display_data"
    }
   ],
   "source": [
    "#AUC\n",
    "performance(NBPred, \"auc\")"
   ]
  },
  {
   "cell_type": "code",
   "execution_count": 324,
   "metadata": {
    "collapsed": false
   },
   "outputs": [
    {
     "data": {
      "text/html": [
       "<dl class=dl-horizontal>\n",
       "\t<dt>acc</dt>\n",
       "\t\t<dd>0.2205</dd>\n",
       "\t<dt>sens</dt>\n",
       "\t\t<dd>0.932773109243697</dd>\n",
       "\t<dt>spec</dt>\n",
       "\t\t<dd>0.175438596491228</dd>\n",
       "\t<dt>ppv</dt>\n",
       "\t\t<dd>0.0667870036101083</dd>\n",
       "\t<dt>npv</dt>\n",
       "\t\t<dd>0.976331360946746</dd>\n",
       "\t<dt>lor</dt>\n",
       "\t\t<dd>1.08252615091648</dd>\n",
       "</dl>\n"
      ],
      "text/latex": [
       "\\begin{description*}\n",
       "\\item[acc] 0.2205\n",
       "\\item[sens] 0.932773109243697\n",
       "\\item[spec] 0.175438596491228\n",
       "\\item[ppv] 0.0667870036101083\n",
       "\\item[npv] 0.976331360946746\n",
       "\\item[lor] 1.08252615091648\n",
       "\\end{description*}\n"
      ],
      "text/markdown": [
       "acc\n",
       ":   0.2205sens\n",
       ":   0.932773109243697spec\n",
       ":   0.175438596491228ppv\n",
       ":   0.0667870036101083npv\n",
       ":   0.976331360946746lor\n",
       ":   1.08252615091648\n",
       "\n"
      ],
      "text/plain": [
       "      acc      sens      spec       ppv       npv       lor \n",
       "0.2205000 0.9327731 0.1754386 0.0667870 0.9763314 1.0825262 \n",
       "attr(,\"negative\")\n",
       "[1] \"Not Purchased\""
      ]
     },
     "metadata": {},
     "output_type": "display_data"
    }
   ],
   "source": [
    "#Corresponding Performance Measures\n",
    "NBPrediction <- factor(as.factor(prediction), c(0, 1), labels = c(\"Not Purchased\", \"Purchased\"))\n",
    "NBActual <- factor(as.factor(caravan_df_testNB$Number_of_mobile_home_policies), c(0, 1), labels = c(\"Not Purchased\", \"Purchased\"))\n",
    "library(crossval)\n",
    "CMNB <- confusionMatrix(NBActual, NBPrediction, negative = \"Not Purchased\" )\n",
    "diagnosticErrors(CMNB)"
   ]
  },
  {
   "cell_type": "markdown",
   "metadata": {},
   "source": [
    "###### Naive Bayes Using Under Sampling"
   ]
  },
  {
   "cell_type": "code",
   "execution_count": 278,
   "metadata": {
    "collapsed": false
   },
   "outputs": [
    {
     "data": {
      "text/html": [
       "<table>\n",
       "<thead><tr><th scope=col>Number_of_mobile_home_policies</th><th scope=col>Count</th></tr></thead>\n",
       "<tbody>\n",
       "\t<tr><td>0  </td><td>348</td></tr>\n",
       "\t<tr><td>1  </td><td>348</td></tr>\n",
       "</tbody>\n",
       "</table>\n"
      ],
      "text/latex": [
       "\\begin{tabular}{r|ll}\n",
       " Number\\_of\\_mobile\\_home\\_policies & Count\\\\\n",
       "\\hline\n",
       "\t 0   & 348\\\\\n",
       "\t 1   & 348\\\\\n",
       "\\end{tabular}\n"
      ],
      "text/markdown": [
       "\n",
       "Number_of_mobile_home_policies | Count | \n",
       "|---|---|\n",
       "| 0   | 348 | \n",
       "| 1   | 348 | \n",
       "\n",
       "\n"
      ],
      "text/plain": [
       "  Number_of_mobile_home_policies Count\n",
       "1 0                              348  \n",
       "2 1                              348  "
      ]
     },
     "metadata": {},
     "output_type": "display_data"
    }
   ],
   "source": [
    "#Under Sampling Data\n",
    "#Taking all the observations with dependent variable = 1\n",
    "caravan_df_train_NB_Under <- caravan_df_trainNB[caravan_df_trainNB$Number_of_mobile_home_policies==1,]\n",
    "\n",
    "#Randomly select observations with dependent variable = 0\n",
    "zeroObs <- caravan_df_trainNB[caravan_df_trainNB$Number_of_mobile_home_policies==0,]\n",
    "set.seed(123457)\n",
    "rearrangedZeroObs <-  zeroObs[sample(nrow(zeroObs), length(caravan_df_train_NB_Under$Customer_Subtype)),]\n",
    "\n",
    "#Appending rows of randomly selected 0s in our undersampled data frame\n",
    "caravan_df_train_NB_Under <- rbind(caravan_df_train_NB_Under, rearrangedZeroObs)\n",
    "\n",
    "#Let's verify that number of 1s and 0s in our undersampled data are equal\n",
    "undersampled.Frequency.Number_of_mobile_home_policies <- data.frame(Number_of_mobile_home_policies = levels(as.factor(caravan_df_train_NB_Under$Number_of_mobile_home_policies)), Count = as.numeric(table(caravan_df_train_NB_Under$Number_of_mobile_home_policies)))\n",
    "undersampled.Frequency.Number_of_mobile_home_policies"
   ]
  },
  {
   "cell_type": "code",
   "execution_count": 279,
   "metadata": {
    "collapsed": false
   },
   "outputs": [
    {
     "data": {
      "text/plain": [
       "\n",
       "Naive Bayes Classifier for Discrete Predictors\n",
       "\n",
       "Call:\n",
       "naiveBayes.default(x = X, y = Y, laplace = laplace)\n",
       "\n",
       "A-priori probabilities:\n",
       "Y\n",
       "  0   1 \n",
       "0.5 0.5 \n",
       "\n",
       "Conditional probabilities:\n",
       "   car_policies\n",
       "Y       [,1]     [,2]\n",
       "  0 2.841954 2.911919\n",
       "  1 4.718391 2.421328\n",
       "\n",
       "   Income_._30\n",
       "Y       [,1]     [,2]\n",
       "  0 2.577586 2.032095\n",
       "  1 1.913793 1.768613\n",
       "\n",
       "   moped_policies\n",
       "Y         [,1]      [,2]\n",
       "  0 0.20402299 0.8007820\n",
       "  1 0.07183908 0.4837534\n",
       "\n",
       "   fire_policies\n",
       "Y       [,1]     [,2]\n",
       "  0 1.887931 1.883211\n",
       "  1 2.531609 1.806690\n",
       "\n",
       "   Lower_level_education\n",
       "Y       [,1]     [,2]\n",
       "  0 4.589080 2.363409\n",
       "  1 3.747126 2.290028\n"
      ]
     },
     "metadata": {},
     "output_type": "display_data"
    }
   ],
   "source": [
    "#Running NB on Undersampled Data\n",
    "library(e1071)\n",
    "# Can handle both categorical and numeric input,\n",
    "# but output must be categorical\n",
    "NBModelUnder <- naiveBayes(as.factor(Number_of_mobile_home_policies)~car_policies+Income_._30+moped_policies+fire_policies+Lower_level_education, data=caravan_df_train_NB_Under)\n",
    "NBModelUnder"
   ]
  },
  {
   "cell_type": "code",
   "execution_count": 280,
   "metadata": {
    "collapsed": false
   },
   "outputs": [
    {
     "data": {
      "text/plain": [
       "      predicted\n",
       "actual    0    1\n",
       "     0 2040 1722\n",
       "     1   71  167"
      ]
     },
     "metadata": {},
     "output_type": "display_data"
    }
   ],
   "source": [
    "#NB Prediction for undersampling\n",
    "tst <- caravan_df_testNB[,-86]\n",
    "prediction <- predict(NBModelUnder, newdata = tst)\n",
    "table(caravan_df_testNB$Number_of_mobile_home_policies, prediction, dnn=list('actual','predicted'))"
   ]
  },
  {
   "cell_type": "code",
   "execution_count": 281,
   "metadata": {
    "collapsed": false
   },
   "outputs": [
    {
     "data": {
      "image/png": "[encoded data removed]",
      "text/plain": [
       "plot without title"
      ]
     },
     "metadata": {},
     "output_type": "display_data"
    }
   ],
   "source": [
    "# Plot ROC and AUC for Undersampled NB\n",
    "probs <- predict(NBModelUnder, tst, type=\"raw\")\n",
    "library(ROCR)\n",
    "NBPred <- prediction(probs[,2], caravan_df_testNB$Number_of_mobile_home_policies)\n",
    "NBPerf <- performance(NBPred, \"tpr\", \"fpr\")\n",
    "plot(NBPerf, colorize=TRUE)\n",
    "abline(a=0, b=1, lty=2, lwd=3, col=\"black\")\n",
    "for (i in 1:4000){\n",
    "    probabilityDF$NBU[i] <- probs[i]\n",
    "    }"
   ]
  },
  {
   "cell_type": "code",
   "execution_count": 282,
   "metadata": {
    "collapsed": false
   },
   "outputs": [
    {
     "data": {
      "text/plain": [
       "An object of class \"performance\"\n",
       "Slot \"x.name\":\n",
       "[1] \"None\"\n",
       "\n",
       "Slot \"y.name\":\n",
       "[1] \"Area under the ROC curve\"\n",
       "\n",
       "Slot \"alpha.name\":\n",
       "[1] \"none\"\n",
       "\n",
       "Slot \"x.values\":\n",
       "list()\n",
       "\n",
       "Slot \"y.values\":\n",
       "[[1]]\n",
       "[1] 0.6755224\n",
       "\n",
       "\n",
       "Slot \"alpha.values\":\n",
       "list()\n"
      ]
     },
     "metadata": {},
     "output_type": "display_data"
    }
   ],
   "source": [
    "#AUC\n",
    "performance(NBPred, \"auc\")"
   ]
  },
  {
   "cell_type": "code",
   "execution_count": 283,
   "metadata": {
    "collapsed": false
   },
   "outputs": [
    {
     "data": {
      "text/html": [
       "<dl class=dl-horizontal>\n",
       "\t<dt>acc</dt>\n",
       "\t\t<dd>0.55175</dd>\n",
       "\t<dt>sens</dt>\n",
       "\t\t<dd>0.701680672268908</dd>\n",
       "\t<dt>spec</dt>\n",
       "\t\t<dd>0.542264752791069</dd>\n",
       "\t<dt>ppv</dt>\n",
       "\t\t<dd>0.0884065643197459</dd>\n",
       "\t<dt>npv</dt>\n",
       "\t\t<dd>0.966366650876362</dd>\n",
       "\t<dt>lor</dt>\n",
       "\t\t<dd>1.02477733722603</dd>\n",
       "</dl>\n"
      ],
      "text/latex": [
       "\\begin{description*}\n",
       "\\item[acc] 0.55175\n",
       "\\item[sens] 0.701680672268908\n",
       "\\item[spec] 0.542264752791069\n",
       "\\item[ppv] 0.0884065643197459\n",
       "\\item[npv] 0.966366650876362\n",
       "\\item[lor] 1.02477733722603\n",
       "\\end{description*}\n"
      ],
      "text/markdown": [
       "acc\n",
       ":   0.55175sens\n",
       ":   0.701680672268908spec\n",
       ":   0.542264752791069ppv\n",
       ":   0.0884065643197459npv\n",
       ":   0.966366650876362lor\n",
       ":   1.02477733722603\n",
       "\n"
      ],
      "text/plain": [
       "       acc       sens       spec        ppv        npv        lor \n",
       "0.55175000 0.70168067 0.54226475 0.08840656 0.96636665 1.02477734 \n",
       "attr(,\"negative\")\n",
       "[1] \"Not Purchased\""
      ]
     },
     "metadata": {},
     "output_type": "display_data"
    }
   ],
   "source": [
    "#Corresponding Performance Measures\n",
    "NBPrediction <- factor(as.factor(prediction), c(0, 1), labels = c(\"Not Purchased\", \"Purchased\"))\n",
    "NBActual <- factor(as.factor(caravan_df_testNB$Number_of_mobile_home_policies), c(0, 1), labels = c(\"Not Purchased\", \"Purchased\"))\n",
    "library(crossval)\n",
    "CMNB <- confusionMatrix(NBActual, NBPrediction, negative = \"Not Purchased\" )\n",
    "diagnosticErrors(CMNB)"
   ]
  },
  {
   "cell_type": "markdown",
   "metadata": {},
   "source": [
    "##### Naive Bayes Using Simplest Approach of Over Sampling"
   ]
  },
  {
   "cell_type": "code",
   "execution_count": 284,
   "metadata": {
    "collapsed": false
   },
   "outputs": [
    {
     "data": {
      "text/html": [
       "'Ratio of 1s to 0s- 1:15.7298850574713'"
      ],
      "text/latex": [
       "'Ratio of 1s to 0s- 1:15.7298850574713'"
      ],
      "text/markdown": [
       "'Ratio of 1s to 0s- 1:15.7298850574713'"
      ],
      "text/plain": [
       "[1] \"Ratio of 1s to 0s- 1:15.7298850574713\""
      ]
     },
     "metadata": {},
     "output_type": "display_data"
    }
   ],
   "source": [
    "#First let's recall the ratio of 1s and 0s in our original training dataset\n",
    "paste0(\"Ratio of 1s to 0s- 1:\", as.numeric(table(caravan_df_trainNB$Number_of_mobile_home_policies))[1]/as.numeric(table(caravan_df_trainNB$Number_of_mobile_home_policies))[2])"
   ]
  },
  {
   "cell_type": "code",
   "execution_count": 285,
   "metadata": {
    "collapsed": false
   },
   "outputs": [
    {
     "data": {
      "text/html": [
       "<table>\n",
       "<thead><tr><th scope=col>Number_of_mobile_home_policies</th><th scope=col>Count</th></tr></thead>\n",
       "<tbody>\n",
       "\t<tr><td>0   </td><td>5474</td></tr>\n",
       "\t<tr><td>1   </td><td>2436</td></tr>\n",
       "</tbody>\n",
       "</table>\n"
      ],
      "text/latex": [
       "\\begin{tabular}{r|ll}\n",
       " Number\\_of\\_mobile\\_home\\_policies & Count\\\\\n",
       "\\hline\n",
       "\t 0    & 5474\\\\\n",
       "\t 1    & 2436\\\\\n",
       "\\end{tabular}\n"
      ],
      "text/markdown": [
       "\n",
       "Number_of_mobile_home_policies | Count | \n",
       "|---|---|\n",
       "| 0    | 5474 | \n",
       "| 1    | 2436 | \n",
       "\n",
       "\n"
      ],
      "text/plain": [
       "  Number_of_mobile_home_policies Count\n",
       "1 0                              5474 \n",
       "2 1                              2436 "
      ]
     },
     "metadata": {},
     "output_type": "display_data"
    }
   ],
   "source": [
    "#Now let's duplicate the observations with dependent variable = 1 to make the ratio approximately 1:2\n",
    "caravan_df_train_NB_OverDummy <- caravan_df_trainNB[caravan_df_trainNB$Number_of_mobile_home_policies==1,]\n",
    "caravan_df_train_NB_Over <- NULL\n",
    "for (i in 1:7){\n",
    "    caravan_df_train_NB_Over <- rbind(caravan_df_train_NB_Over, caravan_df_train_NB_OverDummy)\n",
    "}\n",
    "caravan_df_train_NB_Over <- rbind(caravan_df_train_NB_Over, caravan_df_trainNB[caravan_df_trainNB$Number_of_mobile_home_policies==0,])\n",
    "\n",
    "#Let's verify the number of 1s and 0s in our oversampled data\n",
    "oversampled.Frequency.Number_of_mobile_home_policies <- data.frame(Number_of_mobile_home_policies = levels(as.factor(caravan_df_train_NB_Over$Number_of_mobile_home_policies)), Count = as.numeric(table(caravan_df_train_NB_Over$Number_of_mobile_home_policies)))\n",
    "oversampled.Frequency.Number_of_mobile_home_policies"
   ]
  },
  {
   "cell_type": "code",
   "execution_count": 286,
   "metadata": {
    "collapsed": false
   },
   "outputs": [
    {
     "data": {
      "text/html": [
       "'Ratio of 1s to 0s After Oversampling- 1:2.24712643678161'"
      ],
      "text/latex": [
       "'Ratio of 1s to 0s After Oversampling- 1:2.24712643678161'"
      ],
      "text/markdown": [
       "'Ratio of 1s to 0s After Oversampling- 1:2.24712643678161'"
      ],
      "text/plain": [
       "[1] \"Ratio of 1s to 0s After Oversampling- 1:2.24712643678161\""
      ]
     },
     "metadata": {},
     "output_type": "display_data"
    }
   ],
   "source": [
    "#Let's verify the ratio of 1s to 0s after over sampling\n",
    "paste0(\"Ratio of 1s to 0s After Oversampling- 1:\", as.numeric(table(caravan_df_train_NB_Over$Number_of_mobile_home_policies))[1]/as.numeric(table(caravan_df_train_NB_Over$Number_of_mobile_home_policies))[2])"
   ]
  },
  {
   "cell_type": "code",
   "execution_count": 287,
   "metadata": {
    "collapsed": false
   },
   "outputs": [
    {
     "data": {
      "text/plain": [
       "\n",
       "Naive Bayes Classifier for Discrete Predictors\n",
       "\n",
       "Call:\n",
       "naiveBayes.default(x = X, y = Y, laplace = laplace)\n",
       "\n",
       "A-priori probabilities:\n",
       "Y\n",
       "        0         1 \n",
       "0.6920354 0.3079646 \n",
       "\n",
       "Conditional probabilities:\n",
       "   car_policies\n",
       "Y       [,1]     [,2]\n",
       "  0 2.859335 2.914510\n",
       "  1 4.718391 2.418343\n",
       "\n",
       "   Income_._30\n",
       "Y       [,1]     [,2]\n",
       "  0 2.615638 2.097796\n",
       "  1 1.913793 1.766433\n",
       "\n",
       "   moped_policies\n",
       "Y         [,1]      [,2]\n",
       "  0 0.22415053 0.8288564\n",
       "  1 0.07183908 0.4831570\n",
       "\n",
       "   fire_policies\n",
       "Y       [,1]     [,2]\n",
       "  0 1.782974 1.875056\n",
       "  1 2.531609 1.804462\n",
       "\n",
       "   Lower_level_education\n",
       "Y       [,1]     [,2]\n",
       "  0 4.624954 2.288806\n",
       "  1 3.747126 2.287205\n"
      ]
     },
     "metadata": {},
     "output_type": "display_data"
    }
   ],
   "source": [
    "#Running NB on Oversampled Data\n",
    "library(e1071)\n",
    "# Can handle both categorical and numeric input,\n",
    "# but output must be categorical\n",
    "NBModelOver <- naiveBayes(as.factor(Number_of_mobile_home_policies)~car_policies+Income_._30+moped_policies+fire_policies+Lower_level_education, data=caravan_df_train_NB_Over)\n",
    "NBModelOver"
   ]
  },
  {
   "cell_type": "code",
   "execution_count": 288,
   "metadata": {
    "collapsed": false
   },
   "outputs": [
    {
     "data": {
      "text/plain": [
       "      predicted\n",
       "actual    0    1\n",
       "     0 2736 1026\n",
       "     1  107  131"
      ]
     },
     "metadata": {},
     "output_type": "display_data"
    }
   ],
   "source": [
    "#NB Prediction for oversampling\n",
    "tst <- caravan_df_testNB[,-86]\n",
    "prediction <- predict(NBModelOver, newdata = tst)\n",
    "table(caravan_df_testNB$Number_of_mobile_home_policies, prediction, dnn=list('actual','predicted'))"
   ]
  },
  {
   "cell_type": "code",
   "execution_count": 289,
   "metadata": {
    "collapsed": false
   },
   "outputs": [
    {
     "data": {
      "image/png": "[encoded data removed]",
      "text/plain": [
       "plot without title"
      ]
     },
     "metadata": {},
     "output_type": "display_data"
    }
   ],
   "source": [
    "# Plot ROC and AUC for Oversampled NB\n",
    "probs <- predict(NBModelOver, tst, type=\"raw\")\n",
    "library(ROCR)\n",
    "NBPred <- prediction(probs[,2], caravan_df_testNB$Number_of_mobile_home_policies)\n",
    "NBPerf <- performance(NBPred, \"tpr\", \"fpr\")\n",
    "plot(NBPerf, colorize=TRUE)\n",
    "abline(a=0, b=1, lty=2, lwd=3, col=\"black\")\n",
    "for (i in 1:4000){\n",
    "    probabilityDF$NBO[i] <- probs[i]\n",
    "    }"
   ]
  },
  {
   "cell_type": "code",
   "execution_count": 290,
   "metadata": {
    "collapsed": false
   },
   "outputs": [
    {
     "data": {
      "text/plain": [
       "An object of class \"performance\"\n",
       "Slot \"x.name\":\n",
       "[1] \"None\"\n",
       "\n",
       "Slot \"y.name\":\n",
       "[1] \"Area under the ROC curve\"\n",
       "\n",
       "Slot \"alpha.name\":\n",
       "[1] \"none\"\n",
       "\n",
       "Slot \"x.values\":\n",
       "list()\n",
       "\n",
       "Slot \"y.values\":\n",
       "[[1]]\n",
       "[1] 0.6766459\n",
       "\n",
       "\n",
       "Slot \"alpha.values\":\n",
       "list()\n"
      ]
     },
     "metadata": {},
     "output_type": "display_data"
    }
   ],
   "source": [
    "#AUC\n",
    "performance(NBPred, \"auc\")"
   ]
  },
  {
   "cell_type": "code",
   "execution_count": 291,
   "metadata": {
    "collapsed": false
   },
   "outputs": [
    {
     "data": {
      "text/html": [
       "<dl class=dl-horizontal>\n",
       "\t<dt>acc</dt>\n",
       "\t\t<dd>0.71675</dd>\n",
       "\t<dt>sens</dt>\n",
       "\t\t<dd>0.550420168067227</dd>\n",
       "\t<dt>spec</dt>\n",
       "\t\t<dd>0.727272727272727</dd>\n",
       "\t<dt>ppv</dt>\n",
       "\t\t<dd>0.113223854796888</dd>\n",
       "\t<dt>npv</dt>\n",
       "\t\t<dd>0.962363700316567</dd>\n",
       "\t<dt>lor</dt>\n",
       "\t\t<dd>1.18319774175097</dd>\n",
       "</dl>\n"
      ],
      "text/latex": [
       "\\begin{description*}\n",
       "\\item[acc] 0.71675\n",
       "\\item[sens] 0.550420168067227\n",
       "\\item[spec] 0.727272727272727\n",
       "\\item[ppv] 0.113223854796888\n",
       "\\item[npv] 0.962363700316567\n",
       "\\item[lor] 1.18319774175097\n",
       "\\end{description*}\n"
      ],
      "text/markdown": [
       "acc\n",
       ":   0.71675sens\n",
       ":   0.550420168067227spec\n",
       ":   0.727272727272727ppv\n",
       ":   0.113223854796888npv\n",
       ":   0.962363700316567lor\n",
       ":   1.18319774175097\n",
       "\n"
      ],
      "text/plain": [
       "      acc      sens      spec       ppv       npv       lor \n",
       "0.7167500 0.5504202 0.7272727 0.1132239 0.9623637 1.1831977 \n",
       "attr(,\"negative\")\n",
       "[1] \"Not Purchased\""
      ]
     },
     "metadata": {},
     "output_type": "display_data"
    }
   ],
   "source": [
    "#Corresponding Performance Measures\n",
    "NBPrediction <- factor(as.factor(prediction), c(0, 1), labels = c(\"Not Purchased\", \"Purchased\"))\n",
    "NBActual <- factor(as.factor(caravan_df_testNB$Number_of_mobile_home_policies), c(0, 1), labels = c(\"Not Purchased\", \"Purchased\"))\n",
    "library(crossval)\n",
    "CMNB <- confusionMatrix(NBActual, NBPrediction, negative = \"Not Purchased\" )\n",
    "diagnosticErrors(CMNB)"
   ]
  },
  {
   "cell_type": "markdown",
   "metadata": {},
   "source": [
    "##### Naive Bayes Using SMOTE method for oversampling"
   ]
  },
  {
   "cell_type": "code",
   "execution_count": 292,
   "metadata": {
    "collapsed": false
   },
   "outputs": [
    {
     "name": "stderr",
     "output_type": "stream",
     "text": [
      "Warning message:\n",
      "\"package 'DMwR' was built under R version 3.3.3\"Loading required package: lattice\n"
     ]
    }
   ],
   "source": [
    "library(DMwR)\n",
    "set.seed(123457)\n",
    "caravan_df_trainNB$Number_of_mobile_home_policies <- as.factor(caravan_df_trainNB$Number_of_mobile_home_policies)\n",
    "caravan_df_train_NB_SMOTE <- SMOTE(Number_of_mobile_home_policies~., caravan_df_trainNB, perc.over = 600, perc.under = 262.2)"
   ]
  },
  {
   "cell_type": "code",
   "execution_count": 293,
   "metadata": {
    "collapsed": false
   },
   "outputs": [
    {
     "data": {
      "text/html": [
       "<table>\n",
       "<thead><tr><th scope=col>Number_of_mobile_home_policies</th><th scope=col>Count</th></tr></thead>\n",
       "<tbody>\n",
       "\t<tr><td>0   </td><td>5474</td></tr>\n",
       "\t<tr><td>1   </td><td>2436</td></tr>\n",
       "</tbody>\n",
       "</table>\n"
      ],
      "text/latex": [
       "\\begin{tabular}{r|ll}\n",
       " Number\\_of\\_mobile\\_home\\_policies & Count\\\\\n",
       "\\hline\n",
       "\t 0    & 5474\\\\\n",
       "\t 1    & 2436\\\\\n",
       "\\end{tabular}\n"
      ],
      "text/markdown": [
       "\n",
       "Number_of_mobile_home_policies | Count | \n",
       "|---|---|\n",
       "| 0    | 5474 | \n",
       "| 1    | 2436 | \n",
       "\n",
       "\n"
      ],
      "text/plain": [
       "  Number_of_mobile_home_policies Count\n",
       "1 0                              5474 \n",
       "2 1                              2436 "
      ]
     },
     "metadata": {},
     "output_type": "display_data"
    }
   ],
   "source": [
    "#Let's verify the number of 1s and 0s in our SMOTE data\n",
    "SMOTE.Frequency.Number_of_mobile_home_policies <- data.frame(Number_of_mobile_home_policies = levels(as.factor(caravan_df_train_NB_SMOTE$Number_of_mobile_home_policies)), Count = as.numeric(table(caravan_df_train_NB_SMOTE$Number_of_mobile_home_policies)))\n",
    "SMOTE.Frequency.Number_of_mobile_home_policies"
   ]
  },
  {
   "cell_type": "code",
   "execution_count": 294,
   "metadata": {
    "collapsed": false
   },
   "outputs": [
    {
     "data": {
      "text/plain": [
       "\n",
       "Naive Bayes Classifier for Discrete Predictors\n",
       "\n",
       "Call:\n",
       "naiveBayes.default(x = X, y = Y, laplace = laplace)\n",
       "\n",
       "A-priori probabilities:\n",
       "Y\n",
       "        0         1 \n",
       "0.6920354 0.3079646 \n",
       "\n",
       "Conditional probabilities:\n",
       "   Customer_Subtype\n",
       "Y              1            2            3            4            5\n",
       "  0 0.0200949945 0.0138838144 0.0358056266 0.0087687249 0.0076726343\n",
       "  1 0.0217569787 0.0102627258 0.1243842365 0.0032840722 0.0036945813\n",
       "   Customer_Subtype\n",
       "Y              6            7            8            9           10\n",
       "  0 0.0219218122 0.0084033613 0.0575447570 0.0476799415 0.0325173548\n",
       "  1 0.0188834154 0.0049261084 0.0845648604 0.1096059113 0.0151888342\n",
       "   Customer_Subtype\n",
       "Y             11           12           13           15           16\n",
       "  0 0.0235659481 0.0157106321 0.0334307636 0.0007307271 0.0032882718\n",
       "  1 0.0164203612 0.1100164204 0.0229885057 0.0000000000 0.0000000000\n",
       "   Customer_Subtype\n",
       "Y             17           18           19           20           21\n",
       "  0 0.0014614541 0.0025575448 0.0007307271 0.0040189989 0.0023748630\n",
       "  1 0.0000000000 0.0000000000 0.0000000000 0.0032840722 0.0000000000\n",
       "   Customer_Subtype\n",
       "Y             22           23           24           25           26\n",
       "  0 0.0168067227 0.0409207161 0.0341614907 0.0111435879 0.0084033613\n",
       "  1 0.0073891626 0.0065681445 0.0090311987 0.0024630542 0.0020525452\n",
       "   Customer_Subtype\n",
       "Y             27           28           29           30           31\n",
       "  0 0.0074899525 0.0052977713 0.0188162221 0.0219218122 0.0341614907\n",
       "  1 0.0020525452 0.0000000000 0.0041050903 0.0073891626 0.0082101806\n",
       "   Customer_Subtype\n",
       "Y             32           33           34           35           36\n",
       "  0 0.0230179028 0.1359152357 0.0363536719 0.0359883084 0.0394592620\n",
       "  1 0.0114942529 0.0693760263 0.0147783251 0.0123152709 0.1018062397\n",
       "   Customer_Subtype\n",
       "Y             37           38           39           40           41\n",
       "  0 0.0215564487 0.0595542565 0.0580928023 0.0133357691 0.0354402631\n",
       "  1 0.0184729064 0.1338259442 0.0316091954 0.0000000000 0.0077996716\n",
       "\n",
       "   Number_of_houses\n",
       "Y       [,1]      [,2]\n",
       "  0 1.115638 0.4170234\n",
       "  1 1.053683 0.1939946\n",
       "\n",
       "   Avg_size_household\n",
       "Y       [,1]      [,2]\n",
       "  0 2.695835 0.7840644\n",
       "  1 2.629326 0.5736333\n",
       "\n",
       "   Avg_age\n",
       "Y       [,1]      [,2]\n",
       "  0 2.969858 0.8239990\n",
       "  1 3.081080 0.6442085\n",
       "\n",
       "   Customer_main_type\n",
       "Y             1           2           3           4           5           6\n",
       "  0 0.086225795 0.087869931 0.152904640 0.008768725 0.098282791 0.032334673\n",
       "  1 0.161740558 0.111247947 0.278325123 0.000000000 0.025041051 0.006978654\n",
       "   Customer_main_type\n",
       "Y             7           8           9          10\n",
       "  0 0.097917428 0.269272927 0.117647059 0.048776032\n",
       "  1 0.034482759 0.217569787 0.156403941 0.008210181\n",
       "\n",
       "   Roman_catholic\n",
       "Y        [,1]      [,2]\n",
       "  0 0.6782974 0.9764710\n",
       "  1 0.5601797 0.7266698\n",
       "\n",
       "   Protestant\n",
       "Y       [,1]     [,2]\n",
       "  0 4.615638 1.745936\n",
       "  1 4.941674 1.181611\n",
       "\n",
       "   Other_religion\n",
       "Y       [,1]     [,2]\n",
       "  0 1.062843 1.015176\n",
       "  1 1.292242 1.006591\n",
       "\n",
       "   No_religion\n",
       "Y       [,1]     [,2]\n",
       "  0 3.286262 1.583559\n",
       "  1 2.739549 1.122596\n",
       "\n",
       "   Married\n",
       "Y       [,1]     [,2]\n",
       "  0 6.188162 1.916787\n",
       "  1 6.753370 1.086210\n",
       "\n",
       "   Living_together\n",
       "Y        [,1]      [,2]\n",
       "  0 0.8913043 1.0044962\n",
       "  1 0.7804403 0.6624655\n",
       "\n",
       "   Other_relation\n",
       "Y       [,1]     [,2]\n",
       "  0 2.272561 1.728690\n",
       "  1 1.748640 1.116855\n",
       "\n",
       "   Singles\n",
       "Y       [,1]     [,2]\n",
       "  0 1.846730 1.779474\n",
       "  1 2.087455 1.331776\n",
       "\n",
       "   Household_without_children\n",
       "Y       [,1]     [,2]\n",
       "  0 3.197662 1.615753\n",
       "  1 2.947642 1.287264\n",
       "\n",
       "   Household_with_children\n",
       "Y       [,1]     [,2]\n",
       "  0 4.369931 2.002278\n",
       "  1 4.428741 1.457922\n",
       "\n",
       "   High_level_education\n",
       "Y       [,1]     [,2]\n",
       "  0 1.395689 1.601943\n",
       "  1 2.532590 1.798877\n",
       "\n",
       "   Medium_level_education\n",
       "Y       [,1]     [,2]\n",
       "  0 3.349470 1.757678\n",
       "  1 3.626454 1.265367\n",
       "\n",
       "   Lower_level_education\n",
       "Y       [,1]     [,2]\n",
       "  0 4.622031 2.288884\n",
       "  1 3.328702 1.996052\n",
       "\n",
       "   High_status\n",
       "Y       [,1]     [,2]\n",
       "  0 1.834490 1.783763\n",
       "  1 2.652913 1.806395\n",
       "\n",
       "   Entrepreneur\n",
       "Y        [,1]      [,2]\n",
       "  0 0.3854585 0.7685441\n",
       "  1 0.3567744 0.5785618\n",
       "\n",
       "   Farmer\n",
       "Y        [,1]      [,2]\n",
       "  0 0.5199123 1.0666043\n",
       "  1 0.2611123 0.5295373\n",
       "\n",
       "   Middle_management\n",
       "Y       [,1]     [,2]\n",
       "  0 2.881805 1.828801\n",
       "  1 3.315406 1.511860\n",
       "\n",
       "   Skilled_labourers\n",
       "Y       [,1]     [,2]\n",
       "  0 2.244611 1.748663\n",
       "  1 1.704646 1.261232\n",
       "\n",
       "   Unskilled_labourers\n",
       "Y       [,1]     [,2]\n",
       "  0 2.348739 1.708378\n",
       "  1 1.853630 1.312642\n",
       "\n",
       "   Social_class_A\n",
       "Y       [,1]     [,2]\n",
       "  0 1.556997 1.691798\n",
       "  1 2.028777 1.816279\n",
       "\n",
       "   Social_class_B1\n",
       "Y       [,1]     [,2]\n",
       "  0 1.602850 1.329684\n",
       "  1 2.328288 1.752755\n",
       "\n",
       "   Social_class_B2\n",
       "Y       [,1]     [,2]\n",
       "  0 2.220497 1.549173\n",
       "  1 1.838764 1.268231\n",
       "\n",
       "   Social_class_C\n",
       "Y       [,1]     [,2]\n",
       "  0 3.778590 1.920760\n",
       "  1 3.066755 1.783432\n",
       "\n",
       "   Social_class_D\n",
       "Y        [,1]      [,2]\n",
       "  0 1.0842163 1.3193092\n",
       "  1 0.5969544 0.8117237\n",
       "\n",
       "   Rented_house\n",
       "Y       [,1]     [,2]\n",
       "  0 4.230179 3.089563\n",
       "  1 3.274806 2.725288\n",
       "\n",
       "   Home_owners\n",
       "Y       [,1]     [,2]\n",
       "  0 4.777311 3.089846\n",
       "  1 5.725194 2.725288\n",
       "\n",
       "   X1_car\n",
       "Y       [,1]     [,2]\n",
       "  0 6.035258 1.556430\n",
       "  1 6.462848 1.316234\n",
       "\n",
       "   X2_cars\n",
       "Y       [,1]     [,2]\n",
       "  0 1.337961 1.190802\n",
       "  1 1.610158 1.118974\n",
       "\n",
       "   No_car\n",
       "Y       [,1]     [,2]\n",
       "  0 1.938802 1.595060\n",
       "  1 1.266319 1.031736\n",
       "\n",
       "   National_Health_Service\n",
       "Y       [,1]     [,2]\n",
       "  0 6.317136 1.963371\n",
       "  1 5.383469 1.580265\n",
       "\n",
       "   Private_health_insurance\n",
       "Y       [,1]     [,2]\n",
       "  0 2.688528 1.966741\n",
       "  1 3.616531 1.580265\n",
       "\n",
       "   Income_._30\n",
       "Y       [,1]     [,2]\n",
       "  0 2.597917 2.123280\n",
       "  1 1.777300 1.403791\n",
       "\n",
       "   Income_30.45.000\n",
       "Y       [,1]     [,2]\n",
       "  0 3.547315 1.921169\n",
       "  1 3.818792 1.328543\n",
       "\n",
       "   Income_45.75.000\n",
       "Y       [,1]     [,2]\n",
       "  0 2.704969 1.958949\n",
       "  1 3.354447 1.489586\n",
       "\n",
       "   Income_75.122.000\n",
       "Y        [,1]      [,2]\n",
       "  0 0.7723785 1.1639245\n",
       "  1 0.6906085 0.9041639\n",
       "\n",
       "   Income_.123.000\n",
       "Y        [,1]      [,2]\n",
       "  0 0.1830471 0.5162421\n",
       "  1 0.2029904 0.3774841\n",
       "\n",
       "   Average_income\n",
       "Y       [,1]      [,2]\n",
       "  0 3.749178 1.3139278\n",
       "  1 4.146918 0.9040489\n",
       "\n",
       "   Purchasing_power\n",
       "Y       [,1]     [,2]\n",
       "  0 4.243515 2.009042\n",
       "  1 4.934809 1.521282\n",
       "\n",
       "   private_third_party_insurance\n",
       "Y        [,1]      [,2]\n",
       "  0 0.7643405 0.9554291\n",
       "  1 1.1621997 0.8347523\n",
       "\n",
       "   third_party_insurance_firms\n",
       "Y         [,1]      [,2]\n",
       "  0 0.04384362 0.3841072\n",
       "  1 0.02197903 0.2046290\n",
       "\n",
       "   third_party_insurane_agriculture\n",
       "Y         [,1]      [,2]\n",
       "  0 0.07526489 0.5131188\n",
       "  1 0.01993693 0.2330839\n",
       "\n",
       "   car_policies\n",
       "Y       [,1]     [,2]\n",
       "  0 2.916880 2.905264\n",
       "  1 3.736696 2.354420\n",
       "\n",
       "   delivery_van_policies\n",
       "Y         [,1]      [,2]\n",
       "  0 0.05224699 0.5515716\n",
       "  1 0.01656358 0.2679266\n",
       "\n",
       "   Contribution_motorcycle.scooter\n",
       "Y        [,1]      [,2]\n",
       "  0 0.1739130 0.8974897\n",
       "  1 0.5735371 1.2851443\n",
       "\n",
       "   lorry_policies\n",
       "Y         [,1]      [,2]\n",
       "  0 0.01041286 0.2594483\n",
       "  1 0.00000000 0.0000000\n",
       "\n",
       "   trailer_policies\n",
       "Y         [,1]      [,2]\n",
       "  0 0.01753745 0.1960306\n",
       "  1 0.01695570 0.1489186\n",
       "\n",
       "   tractor_policies\n",
       "Y         [,1]      [,2]\n",
       "  0 0.10650347 0.6517638\n",
       "  1 0.03677815 0.3674557\n",
       "\n",
       "   agricultural_machines_policies\n",
       "Y       [,1]      [,2]\n",
       "  0 0.016076 0.2530953\n",
       "  1 0.000000 0.0000000\n",
       "\n",
       "   moped_policies\n",
       "Y         [,1]      [,2]\n",
       "  0 0.22981366 0.8422966\n",
       "  1 0.04043929 0.3120739\n",
       "\n",
       "   life_insurances\n",
       "Y        [,1]      [,2]\n",
       "  0 0.1972963 0.9106753\n",
       "  1 0.1616492 0.7092027\n",
       "\n",
       "   private_accident_insurance_policies\n",
       "Y         [,1]       [,2]\n",
       "  0 0.01607600 0.25019098\n",
       "  1 0.00344107 0.07389827\n",
       "\n",
       "   family_accidents_insurance_policies\n",
       "Y         [,1]      [,2]\n",
       "  0 0.01479722 0.1852408\n",
       "  1 0.02628343 0.2322864\n",
       "\n",
       "   disability_insurance_policies\n",
       "Y         [,1]     [,2]\n",
       "  0 0.02082572 0.354972\n",
       "  1 0.55251523 1.389347\n",
       "\n",
       "   fire_policies\n",
       "Y       [,1]     [,2]\n",
       "  0 1.830106 1.904249\n",
       "  1 2.387554 1.540489\n",
       "\n",
       "   surfboard_policies\n",
       "Y           [,1]       [,2]\n",
       "  0 0.0001826818 0.01351598\n",
       "  1 0.0014094517 0.03317643\n",
       "\n",
       "   boat_policies\n",
       "Y         [,1]      [,2]\n",
       "  0 0.01223968 0.2050789\n",
       "  1 0.06092917 0.4068875\n",
       "\n",
       "   bicycle_policies\n",
       "Y         [,1]      [,2]\n",
       "  0 0.02429668 0.1539827\n",
       "  1 0.02679309 0.1415423\n",
       "\n",
       "   property_insurance_policies\n",
       "Y          [,1]      [,2]\n",
       "  0 0.013335769 0.1853518\n",
       "  1 0.009936395 0.1028859\n",
       "\n",
       "   social_security_insurance_policies\n",
       "Y         [,1]      [,2]\n",
       "  0 0.03872853 0.3631555\n",
       "  1 0.08200616 0.4473073\n",
       "\n",
       "   Number_of_private_third_party_insurance\n",
       "Y        [,1]      [,2]\n",
       "  0 0.3997077 0.4910006\n",
       "  1 0.5857137 0.4172350\n",
       "\n",
       "   Number_of_third_party_insurance_firms\n",
       "Y          [,1]       [,2]\n",
       "  0 0.015527950 0.13763695\n",
       "  1 0.008729663 0.08073886\n",
       "\n",
       "   Number_of_third_party_insurane_agriculture\n",
       "Y          [,1]       [,2]\n",
       "  0 0.021556449 0.14524332\n",
       "  1 0.005951269 0.06907893\n",
       "\n",
       "   Number_of_car_policies\n",
       "Y        [,1]      [,2]\n",
       "  0 0.5480453 0.5931986\n",
       "  1 0.6899238 0.4753705\n",
       "\n",
       "   Number_of_delivery_van_policies\n",
       "Y          [,1]       [,2]\n",
       "  0 0.010595543 0.12343333\n",
       "  1 0.002760597 0.04465443\n",
       "\n",
       "   Number_of_motorcycle.scooter_policies\n",
       "Y         [,1]      [,2]\n",
       "  0 0.04037267 0.2286279\n",
       "  1 0.12021256 0.2708585\n",
       "\n",
       "   Number_of_lorry_policies\n",
       "Y          [,1]       [,2]\n",
       "  0 0.002922908 0.07640903\n",
       "  1 0.000000000 0.00000000\n",
       "\n",
       "   Number_of_trailer_policies\n",
       "Y          [,1]       [,2]\n",
       "  0 0.010595543 0.11890961\n",
       "  1 0.009545984 0.08252344\n",
       "\n",
       "   Number_of_tractor_policies\n",
       "Y         [,1]      [,2]\n",
       "  0 0.03854585 0.2546361\n",
       "  1 0.01001432 0.1029281\n",
       "\n",
       "   Number_of_agricultural_machines_policies\n",
       "Y          [,1]      [,2]\n",
       "  0 0.007489953 0.1356397\n",
       "  1 0.000000000 0.0000000\n",
       "\n",
       "   Number_of_moped_policies\n",
       "Y         [,1]      [,2]\n",
       "  0 0.07544757 0.2769678\n",
       "  1 0.01290893 0.0964441\n",
       "\n",
       "   Number_of_life_insurances\n",
       "Y         [,1]      [,2]\n",
       "  0 0.07782243 0.3891568\n",
       "  1 0.07944526 0.3797082\n",
       "\n",
       "   Number_of_private_accident_insurance_policies\n",
       "Y          [,1]       [,2]\n",
       "  0 0.005115090 0.07134322\n",
       "  1 0.001720535 0.03694914\n",
       "\n",
       "   Number_of_family_accidents_insurance_policies\n",
       "Y          [,1]       [,2]\n",
       "  0 0.006576544 0.08083617\n",
       "  1 0.009834744 0.08595427\n",
       "\n",
       "   Number_of_disability_insurance_policies\n",
       "Y          [,1]       [,2]\n",
       "  0 0.004201681 0.07514328\n",
       "  1 0.092085872 0.23155785\n",
       "\n",
       "   Number_of_fire_policies\n",
       "Y        [,1]      [,2]\n",
       "  0 0.5727073 0.5772283\n",
       "  1 0.6633997 0.4223776\n",
       "\n",
       "   Number_of_surfboard_policies\n",
       "Y           [,1]       [,2]\n",
       "  0 0.0001826818 0.01351598\n",
       "  1 0.0014094517 0.03317643\n",
       "\n",
       "   Number_of_boat_policies\n",
       "Y          [,1]       [,2]\n",
       "  0 0.004018999 0.06609847\n",
       "  1 0.021597979 0.12943872\n",
       "\n",
       "   Number_of_bicycle_policies\n",
       "Y         [,1]      [,2]\n",
       "  0 0.03014249 0.2032202\n",
       "  1 0.03797160 0.2207635\n",
       "\n",
       "   Number_of_property_insurance_policies\n",
       "Y          [,1]       [,2]\n",
       "  0 0.007489953 0.09036632\n",
       "  1 0.006757005 0.06673990\n",
       "\n",
       "   Number_of_social_security_insurance_policies\n",
       "Y         [,1]      [,2]\n",
       "  0 0.01169163 0.1075037\n",
       "  1 0.02574217 0.1361390\n"
      ]
     },
     "metadata": {},
     "output_type": "display_data"
    }
   ],
   "source": [
    "#Running NB on SMOTE Data\n",
    "library(e1071)\n",
    "# Can handle both categorical and numeric input,\n",
    "# but output must be categorical\n",
    "NBModelSMOTE <- naiveBayes(as.factor(Number_of_mobile_home_policies)~., data=caravan_df_train_NB_SMOTE)\n",
    "NBModelSMOTE"
   ]
  },
  {
   "cell_type": "code",
   "execution_count": 295,
   "metadata": {
    "collapsed": false
   },
   "outputs": [
    {
     "data": {
      "text/plain": [
       "      predicted\n",
       "actual    0    1\n",
       "     0 1007 2755\n",
       "     1   34  204"
      ]
     },
     "metadata": {},
     "output_type": "display_data"
    }
   ],
   "source": [
    "#NB Prediction for SMOTE\n",
    "tst <- caravan_df_testNB[,-86]\n",
    "prediction <- predict(NBModelSMOTE, newdata = tst)\n",
    "table(caravan_df_testNB$Number_of_mobile_home_policies, prediction, dnn=list('actual','predicted'))"
   ]
  },
  {
   "cell_type": "code",
   "execution_count": 296,
   "metadata": {
    "collapsed": false
   },
   "outputs": [
    {
     "data": {
      "image/png": "[encoded data removed]",
      "text/plain": [
       "plot without title"
      ]
     },
     "metadata": {},
     "output_type": "display_data"
    }
   ],
   "source": [
    "# Plot ROC and AUC for SMOTE NB\n",
    "probs <- predict(NBModelSMOTE, tst, type=\"raw\")\n",
    "library(ROCR)\n",
    "NBPred <- prediction(probs[,2], caravan_df_testNB$Number_of_mobile_home_policies)\n",
    "NBPerf <- performance(NBPred, \"tpr\", \"fpr\")\n",
    "plot(NBPerf, colorize=TRUE)\n",
    "abline(a=0, b=1, lty=2, lwd=3, col=\"black\")\n",
    "for (i in 1:4000){\n",
    "    probabilityDF$NBS[i] <- probs[i]\n",
    "    }"
   ]
  },
  {
   "cell_type": "code",
   "execution_count": 297,
   "metadata": {
    "collapsed": false
   },
   "outputs": [
    {
     "data": {
      "text/plain": [
       "An object of class \"performance\"\n",
       "Slot \"x.name\":\n",
       "[1] \"None\"\n",
       "\n",
       "Slot \"y.name\":\n",
       "[1] \"Area under the ROC curve\"\n",
       "\n",
       "Slot \"alpha.name\":\n",
       "[1] \"none\"\n",
       "\n",
       "Slot \"x.values\":\n",
       "list()\n",
       "\n",
       "Slot \"y.values\":\n",
       "[[1]]\n",
       "[1] 0.6028541\n",
       "\n",
       "\n",
       "Slot \"alpha.values\":\n",
       "list()\n"
      ]
     },
     "metadata": {},
     "output_type": "display_data"
    }
   ],
   "source": [
    "#AUC\n",
    "performance(NBPred, \"auc\")"
   ]
  },
  {
   "cell_type": "code",
   "execution_count": 299,
   "metadata": {
    "collapsed": false
   },
   "outputs": [
    {
     "data": {
      "text/html": [
       "<dl class=dl-horizontal>\n",
       "\t<dt>acc</dt>\n",
       "\t\t<dd>0.30275</dd>\n",
       "\t<dt>sens</dt>\n",
       "\t\t<dd>0.857142857142857</dd>\n",
       "\t<dt>spec</dt>\n",
       "\t\t<dd>0.267676767676768</dd>\n",
       "\t<dt>ppv</dt>\n",
       "\t\t<dd>0.0689422102061507</dd>\n",
       "\t<dt>npv</dt>\n",
       "\t\t<dd>0.967339097022094</dd>\n",
       "\t<dt>lor</dt>\n",
       "\t\t<dd>0.785317640359603</dd>\n",
       "</dl>\n"
      ],
      "text/latex": [
       "\\begin{description*}\n",
       "\\item[acc] 0.30275\n",
       "\\item[sens] 0.857142857142857\n",
       "\\item[spec] 0.267676767676768\n",
       "\\item[ppv] 0.0689422102061507\n",
       "\\item[npv] 0.967339097022094\n",
       "\\item[lor] 0.785317640359603\n",
       "\\end{description*}\n"
      ],
      "text/markdown": [
       "acc\n",
       ":   0.30275sens\n",
       ":   0.857142857142857spec\n",
       ":   0.267676767676768ppv\n",
       ":   0.0689422102061507npv\n",
       ":   0.967339097022094lor\n",
       ":   0.785317640359603\n",
       "\n"
      ],
      "text/plain": [
       "       acc       sens       spec        ppv        npv        lor \n",
       "0.30275000 0.85714286 0.26767677 0.06894221 0.96733910 0.78531764 \n",
       "attr(,\"negative\")\n",
       "[1] \"Not Purchased\""
      ]
     },
     "metadata": {},
     "output_type": "display_data"
    }
   ],
   "source": [
    "#Corresponding Performance Measures\n",
    "NBPrediction <- factor(as.factor(prediction), c(0, 1), labels = c(\"Not Purchased\", \"Purchased\"))\n",
    "NBActual <- factor(as.factor(caravan_df_testNB$Number_of_mobile_home_policies), c(0, 1), labels = c(\"Not Purchased\", \"Purchased\"))\n",
    "library(crossval)\n",
    "CMNB <- confusionMatrix(NBActual, NBPrediction, negative = \"Not Purchased\" )\n",
    "diagnosticErrors(CMNB)\n",
    "write.csv(probabilityDF, file = \"probabilityDF.csv\")"
   ]
  },
  {
   "cell_type": "markdown",
   "metadata": {},
   "source": [
    "###### 6. Classification using Bagging - Unbalanced Data, Undersampled Data, Oversampled Data"
   ]
  },
  {
   "cell_type": "markdown",
   "metadata": {},
   "source": [
    "###### Bagging using unbalanced data"
   ]
  },
  {
   "cell_type": "code",
   "execution_count": 14,
   "metadata": {
    "collapsed": false
   },
   "outputs": [
    {
     "data": {
      "text/plain": [
       "\n",
       "Call:\n",
       " randomForest(formula = as.factor(Number_of_mobile_home_policies) ~      ., data = TrainDataset, mtry = 85, importance = TRUE) \n",
       "               Type of random forest: classification\n",
       "                     Number of trees: 500\n",
       "No. of variables tried at each split: 85\n",
       "\n",
       "        OOB estimate of  error rate: 7.75%\n",
       "Confusion matrix:\n",
       "     0   1 class.error\n",
       "0 5346 128  0.02338327\n",
       "1  323  25  0.92816092"
      ]
     },
     "metadata": {},
     "output_type": "display_data"
    }
   ],
   "source": [
    "#Bagging using unbalanced data\n",
    "library(randomForest)\n",
    "library(plyr)\n",
    "library(caret)\n",
    "TrainDataset <- read.csv('C:\\\\Users\\\\Jayant\\\\Desktop\\\\DMPA\\\\Project\\\\Data_sets\\\\Data_sets\\\\Train.csv')\n",
    "\n",
    "TestDataset <- read.csv('C:\\\\Users\\\\Jayant\\\\Desktop\\\\DMPA\\\\Project\\\\Data_sets\\\\Data_sets\\\\Test_with_Targer_Variable.csv')\n",
    "set.seed(123457)\n",
    "\n",
    "#Bagging\n",
    "bag.train <- randomForest(as.factor(Number_of_mobile_home_policies) ~ ., data = TrainDataset, mtry = 85, importance = TRUE)\n",
    "bag.train"
   ]
  },
  {
   "cell_type": "code",
   "execution_count": null,
   "metadata": {
    "collapsed": true
   },
   "outputs": [],
   "source": [
    "#Bagging Prediction For unbalanced data\n",
    "yhat.bag <- predict(bag.train, newdata = TestDataset)\n",
    "PredictedClass <- ifelse(yhat.bag > 0.5, 1, 0)\n",
    "\n",
    "#Confusion Matrix\n",
    "actual <- (TestDataset$Number_of_mobile_home_policies)\n",
    "actual <- as.factor(actual)\n",
    "PredictedClass <- as.factor(PredictedClass)\n",
    "levels(PredictedClass)\n",
    "str(PredictedClass)\n",
    "str(actual)\n",
    "\n",
    "confusionMatrix(PredictedClass, actual, positive = \"1\")"
   ]
  },
  {
   "cell_type": "markdown",
   "metadata": {},
   "source": [
    "###### Bagging using undersampled data"
   ]
  },
  {
   "cell_type": "code",
   "execution_count": null,
   "metadata": {
    "collapsed": true
   },
   "outputs": [],
   "source": [
    "data_balanced_under <- ovun.sample(Number_of_mobile_home_policies ~., data = TrainDataset, method = \"under\", N = 696, seed = 1)$data\n",
    "table(data_balanced_under$Number_of_mobile_home_policies)\n",
    "\n",
    "#Bagging on under sampled data\n",
    "bag.train.under <- randomForest(as.factor(Number_of_mobile_home_policies) ~ ., data = data_balanced_under, mtry = 86, importance = TRUE)\n",
    "bag.train.under\n",
    "\n",
    "#Prediction on under sampled data\n",
    "yhat.bag.under <- predict(bag.train.under, newdata = TestDataset)\n",
    "mean((yhat.bag.under-TestDataset)^2)\n",
    "\n",
    "PredictedClass.under <- ifelse(yhat.bag.under > 0.5, 1, 0)\n",
    "#Confusion Matrix of under sampled data\n",
    "actual <- (TestDataset$Number_of_mobile_home_policies)\n",
    "actual <- as.factor(actual)\n",
    "PredictedClass.under <- as.factor(PredictedClass.under)\n",
    "levels(PredictedClass.under)\n",
    "str(PredictedClass.under)\n",
    "str(actual)\n",
    "\n",
    "confusionMatrix(PredictedClass.under, actual, positive = \"1\")\n",
    "\n",
    "#Roc curve of under sampled data\n",
    "roc.curve(TestDataset$Number_of_mobile_home_policies, yhat.bag.under)"
   ]
  },
  {
   "cell_type": "markdown",
   "metadata": {},
   "source": [
    "###### Bagging using over sampled data"
   ]
  },
  {
   "cell_type": "code",
   "execution_count": null,
   "metadata": {
    "collapsed": true
   },
   "outputs": [],
   "source": [
    "data_balanced_over <- ovun.sample(Number_of_mobile_home_policies ~. , data = TrainDataset, method = \"over\", N = 10948)$data\n",
    "#N refers to number of observations in the resulting balanced dataset. We had originally 5474 negative observations. \n",
    "\n",
    "#Bagging on Over sampled data\n",
    "bag.train.over <- randomForest(as.factor(Number_of_mobile_home_policies) ~ ., data = data_balanced_over, mtry = 86, importance = TRUE)\n",
    "bag.train.over\n",
    "\n",
    "#Prediction on over sampled data\n",
    "yhat.bag.over <- predict(bag.train.over, newdata = TestDataset)\n",
    "mean((yhat.bag.over-TestDataset)^2)\n",
    "\n",
    "PredictedClass.over <- ifelse(yhat.bag.over > 0.5, 1, 0)\n",
    "\n",
    "#Confusion Matrix of Over sampled data\n",
    "actual <- (TestDataset$Number_of_mobile_home_policies)\n",
    "actual <- as.factor(actual)\n",
    "PredictedClass.over <- as.factor(PredictedClass.over)\n",
    "levels(PredictedClass.over)\n",
    "str(PredictedClass.over)\n",
    "str(actual)\n",
    "\n",
    "confusionMatrix(PredictedClass.over, actual, positive = \"1\")\n",
    "\n",
    "#Roc curve of Over sampled data\n",
    "roc.curve(TestDataset$Number_of_mobile_home_policies, yhat.bag.over)"
   ]
  },
  {
   "cell_type": "markdown",
   "metadata": {},
   "source": [
    "###### 7. Classification using Boosting - Unbalanced Data, Undersampled Data, Oversampled Data, SMOTE - Including Business Cost For Each Model "
   ]
  },
  {
   "cell_type": "markdown",
   "metadata": {},
   "source": [
    "###### Boosting using unbalanced data"
   ]
  },
  {
   "cell_type": "code",
   "execution_count": null,
   "metadata": {
    "collapsed": true
   },
   "outputs": [],
   "source": [
    "library(tree)\n",
    "library(gbm)\n",
    "library(ROSE)\n",
    "library(caret)\n",
    "\n",
    "TrainDataset <- read.csv(\"/Users/sheenakhemani/Documents/SpringSem/Data Mining/Project/Data_sets/Train.csv\")\n",
    "attach(TrainDataset)\n",
    "\n",
    "TestDataset <- read.csv(\"/Users/sheenakhemani/Documents/SpringSem/Data Mining/Project/Data_sets/Test_with_Targer_Variable.csv\")\n",
    "attach(TestDataset)\n",
    "\n",
    "set.seed(123457)\n",
    "\n",
    "#Boosting on training set\n",
    "boost.train1 <- gbm(Number_of_mobile_home_policies ~., data = TrainDataset, distribution = \"bernoulli\", n.trees = 1000, interaction.depth = 4)\n",
    "summary(boost.train1)\n",
    "\n",
    "#car policies and fire policies seems to be the most important variables\n",
    "#producing partial dependance plots for the above 2 variables\n",
    "par(mfrow = c(1,2))\n",
    "plot(boost.train1, i = \"car_policies\")\n",
    "plot(boost.train1, i = \"fire_policies\")\n",
    "\n",
    "#Boosting to predict on test dataset\n",
    "yhat.boost.test1 <- predict.gbm(boost.train1, newdata = TestDataset, n.trees = 1000 )\n",
    "mean((yhat.boost.test1 - TestDataset)^2)\n",
    "#test MSE obtained is 34.138\n",
    "\n",
    "\n",
    "\n",
    "#Confusion Matrix\n",
    "PredictedClass.test1 <- ifelse(yhat.boost.test1 > 0.5, 1, 0)\n",
    "actual <- (TestDataset$Number_of_mobile_home_policies)\n",
    "actual <- as.factor(actual)\n",
    "PredictedClass.test1 <- as.factor(PredictedClass.test1)\n",
    "levels(PredictedClass.test1)\n",
    "str(PredictedClass.test1)\n",
    "str(actual)\n",
    "\n",
    "confusionMatrix(PredictedClass.test1, actual, positive = \"1\")"
   ]
  },
  {
   "cell_type": "markdown",
   "metadata": {},
   "source": [
    "###### Boosting on under sampled data"
   ]
  },
  {
   "cell_type": "code",
   "execution_count": null,
   "metadata": {
    "collapsed": true
   },
   "outputs": [],
   "source": [
    "data_balanced_under <- ovun.sample(Number_of_mobile_home_policies ~., data = TrainDataset, method = \"under\", N = 696, seed = 1)$data\n",
    "table(data_balanced_under$Number_of_mobile_home_policies)\n",
    "\n",
    "#Boosting on under sampled data\n",
    "boost.train.under <- gbm(Number_of_mobile_home_policies ~., data = data_balanced_under, distribution = \"bernoulli\", n.trees = 1000, interaction.depth = 4)\n",
    "summary(boost.train.under)\n",
    "\n",
    "#Predictions on under sampled data\n",
    "yhat.boost.test.under <- predict(boost.train.under, newdata = TestDataset, n.trees = 1000)\n",
    "mean((yhat.boost.test.under - TestDataset)^2)\n",
    "\n",
    "#Confusion Matrix - under sampled\n",
    "PredictedClass.under <- ifelse(yhat.boost.test.under > 0.5, 1, 0)\n",
    "\n",
    "actual <- (TestDataset$Number_of_mobile_home_policies)\n",
    "actual <- as.factor(actual)\n",
    "PredictedClass.under <- as.factor(PredictedClass.under)\n",
    "levels(PredictedClass.under)\n",
    "str(PredictedClass.under)\n",
    "str(actual)\n",
    "\n",
    "confusionMatrix(PredictedClass.under, actual, positive = \"1\")\n",
    "\n",
    "#Evaluating Accuracy of under sampled using ROC\n",
    "roc.curve(TestDataset$Number_of_mobile_home_policies, yhat.boost.test.under)"
   ]
  },
  {
   "cell_type": "markdown",
   "metadata": {},
   "source": [
    "###### Boosting using over sampled data"
   ]
  },
  {
   "cell_type": "code",
   "execution_count": null,
   "metadata": {
    "collapsed": true
   },
   "outputs": [],
   "source": [
    "#Over Sampling \n",
    "data_balanced_over <- ovun.sample(Number_of_mobile_home_policies ~. , data = TrainDataset, method = \"over\", N = 10948)$data\n",
    "#N refers to number of observations in the resulting balanced dataset. We had originally 5474 negative observations. \n",
    "table(data_balanced_over$Number_of_mobile_home_policies)\n",
    "\n",
    "#Boosting on over sampled data\n",
    "boost.train.over <- gbm(Number_of_mobile_home_policies ~., data = data_balanced_over, distribution = \"bernoulli\", n.trees = 1000, interaction.depth = 4)\n",
    "summary(boost.train.over)\n",
    "\n",
    "#Predictions on over sampled data\n",
    "yhat.boost.test.over <- predict(boost.train.over, newdata = TestDataset, n.trees = 1000)\n",
    "mean((yhat.boost.test.over - TestDataset)^2)\n",
    "\n",
    "#Confusion Matrix - Over sampled\n",
    "PredictedClass.over <- ifelse(yhat.boost.test.over > 0.5, 1, 0)\n",
    "actual <- (TestDataset$Number_of_mobile_home_policies)\n",
    "actual <- as.factor(actual)\n",
    "PredictedClass.over <- as.factor(PredictedClass.over)\n",
    "levels(PredictedClass.over)\n",
    "str(PredictedClass.over)\n",
    "str(actual)\n",
    "\n",
    "confusionMatrix(PredictedClass.over, actual, positive = \"1\")\n",
    "\n",
    "#Evaluating Accuracy of over sampled using ROC\n",
    "roc.curve(TestDataset$Number_of_mobile_home_policies, yhat.boost.test.over)"
   ]
  },
  {
   "cell_type": "markdown",
   "metadata": {},
   "source": [
    "###### 8. Classification using Random Forest - Unbalanced Data, Undersampled Data, Oversampled Data, SMOTE - Including Business Cost For Each"
   ]
  },
  {
   "cell_type": "markdown",
   "metadata": {
    "collapsed": true
   },
   "source": [
    "###### Random Forest using unbalanced data"
   ]
  },
  {
   "cell_type": "code",
   "execution_count": null,
   "metadata": {
    "collapsed": true
   },
   "outputs": [],
   "source": [
    "library(randomForest)\n",
    "library(plyr)\n",
    "library(caret)\n",
    "TrainDataset <- read.csv(\"/Users/sheenakhemani/Documents/SpringSem/Data Mining/Project/Data_sets/Train.csv\")\n",
    "attach(TrainDataset)\n",
    "\n",
    "TestDataset <- read.csv(\"/Users/sheenakhemani/Documents/SpringSem/Data Mining/Project/Data_sets/Test_with_Targer_Variable.csv\")\n",
    "attach(TestDataset)\n",
    "set.seed(123457)\n",
    "\n",
    "#RandomForest\n",
    "rf.train <- randomForest(as.factor(Number_of_mobile_home_policies) ~., data = TrainDataset, mtry = 9, importance = TRUE)\n",
    "rf.train\n",
    "\n",
    "yhat.rf <- predict(rf.train, newdata = TestDataset)\n",
    "mean((yhat.rf-TestDataset)^2)\n",
    "# test MSE = 15.46\n",
    "\n",
    "importance(rf.train)\n",
    "\n",
    "\n",
    "#Confusion Matrix\n",
    "PredictedClass <- ifelse(yhat.rf > 0.5, 1, 0)\n",
    "actual <- (TestDataset$Number_of_mobile_home_policies)\n",
    "actual <- as.factor(actual)\n",
    "PredictedClass <- as.factor(PredictedClass)\n",
    "levels(PredictedClass)\n",
    "str(PredictedClass)\n",
    "str(actual)\n",
    "\n",
    "confusionMatrix(PredictedClass, actual, positive = \"1\")\n",
    "\n",
    "#ROC Curve\n",
    "roc.curve(TestDataset$Number_of_mobile_home_policies, yhat.rf, plotit = F)"
   ]
  },
  {
   "cell_type": "markdown",
   "metadata": {
    "collapsed": true
   },
   "source": [
    "###### Random Forest using Under sampling"
   ]
  },
  {
   "cell_type": "code",
   "execution_count": null,
   "metadata": {
    "collapsed": true
   },
   "outputs": [],
   "source": [
    "#Under sampling \n",
    "data_balanced_under <- ovun.sample(Number_of_mobile_home_policies ~., data = TrainDataset, method = \"under\", N = 696, seed = 1)$data\n",
    "table(data_balanced_under$Number_of_mobile_home_policies)\n",
    "\n",
    "#RandomForest on under sampled data\n",
    "rf.train.under <- randomForest(as.factor(Number_of_mobile_home_policies) ~., data = data_balanced_under, mtry = 9, importance = TRUE)\n",
    "rf.train.under\n",
    "\n",
    "yhat.rf.under <- predict(rf.train.under, newdata = TestDataset)\n",
    "mean((yhat.rf.under-TestDataset)^2)\n",
    "# test MSE = 15.46\n",
    "\n",
    "importance(rf.train.under)\n",
    "\n",
    "#Confusion Matrix\n",
    "PredictedClass.under <- ifelse(yhat.rf.under > 0.5, 1, 0)\n",
    "actual <- (TestDataset$Number_of_mobile_home_policies)\n",
    "actual <- as.factor(actual)\n",
    "PredictedClass.under <- as.factor(PredictedClass.under)\n",
    "levels(PredictedClass.under)\n",
    "str(PredictedClass.under)\n",
    "str(actual)\n",
    "\n",
    "confusionMatrix(PredictedClass.under, actual, positive = \"1\")\n",
    "\n",
    "#ROC Curve\n",
    "roc.curve(TestDataset$Number_of_mobile_home_policies, yhat.rf.under, plotit = F)"
   ]
  },
  {
   "cell_type": "markdown",
   "metadata": {
    "collapsed": true
   },
   "source": [
    "###### Random Forest Over Sampled Data"
   ]
  },
  {
   "cell_type": "code",
   "execution_count": null,
   "metadata": {
    "collapsed": true
   },
   "outputs": [],
   "source": [
    "#Over Sampling \n",
    "data_balanced_over <- ovun.sample(Number_of_mobile_home_policies ~. , data = TrainDataset, method = \"over\", N = 10948)$data\n",
    "\n",
    "#RandomForest on over sampled data\n",
    "rf.train.over <- randomForest(as.factor(Number_of_mobile_home_policies) ~., data = data_balanced_over, mtry = 9, importance = TRUE)\n",
    "rf.train.over\n",
    "\n",
    "yhat.rf.over <- predict(rf.train.over, newdata = TestDataset)\n",
    "mean((yhat.rf.over-TestDataset)^2)\n",
    "# test MSE = 15.46\n",
    "\n",
    "importance(rf.train.over)\n",
    "\n",
    "#Confusion Matrix\n",
    "PredictedClass.over <- ifelse(yhat.rf.over > 0.5, 1, 0)\n",
    "actual <- (TestDataset$Number_of_mobile_home_policies)\n",
    "actual <- as.factor(actual)\n",
    "PredictedClass.over <- as.factor(PredictedClass.over)\n",
    "levels(PredictedClass.over)\n",
    "str(PredictedClass.over)\n",
    "str(actual)\n",
    "\n",
    "confusionMatrix(PredictedClass.over, actual, positive = \"1\")\n",
    "\n",
    "#ROC Curve\n",
    "roc.curve(TestDataset$Number_of_mobile_home_policies, yhat.rf.over, plotit = F)\n"
   ]
  },
  {
   "cell_type": "markdown",
   "metadata": {},
   "source": [
    "###### 9. Summary of Performance Measures For All Models"
   ]
  },
  {
   "cell_type": "code",
   "execution_count": 20,
   "metadata": {
    "collapsed": false
   },
   "outputs": [
    {
     "name": "stderr",
     "output_type": "stream",
     "text": [
      "Warning message:\n",
      "\"Ignoring unknown parameters: hjust, vjust\""
     ]
    },
    {
     "data": {},
     "metadata": {},
     "output_type": "display_data"
    },
    {
     "data": {
      "image/png": "[encoded data removed]",
      "text/plain": [
       "plot without title"
      ]
     },
     "metadata": {},
     "output_type": "display_data"
    }
   ],
   "source": [
    "library(ggrepel)\n",
    "library(ggplot2)\n",
    "library(plyr)\n",
    "Sensitivity <- c(0.012605042,\t0.647058824,\t0,\t1,\t0.991596639,\t0.995798319,\t0.067226891,\t0.298319328,\t0.445378151,\t0.142857143,\t0,\t0.617647059,\t0.621848739,\t0.075630252,\t0.117647059,\t0.600840336,\t0.050420168,\t0.147058824,\t0.613445378)\n",
    "PPV <- c(0.375,\t0.102803738,\t0,\t0.0595,\t0.059371069,\t0.059294471,\t0.023668639,\t0.034151034,\t0.037668799,\t0.032723773,\t0,\t0.112730061,\t0.113236419,\t0.195652174,\t0.133971292,\t0.096361186,\t0.324324324,\t0.165876777,\t0.107828656)\n",
    "Model<- c(\"LR\" , \t\"LRU\" , \"\tLRO\" ,\t\"KNN\" ,\t\"KNNU\" , \t\"KNNO\" , \t\"NB\" , \t\"NBU\" , \t\"NBO\" ,\t\"NBS\" ,\t\"boost_prob\" ,\t\"boost_prob_over\" ,\t\"boost_prob_under\" ,\t\"bag_prob\" ,\t\"bag_prob_over\" ,\t\"bag_prob_under\" ,\t\"RF_prob\" ,\t\"RF_prob_over\" ,\t\"RF_prob_under\")\n",
    "\n",
    "## PLoting ppv anf sensitivity from all models cutoff = 0.5 from file ppv_sev.csv\n",
    "df1 <- data.frame(col1= Sensitivity, col2= PPV , col3= Model)\n",
    "\n",
    "ggplot(df1, aes(x=Sensitivity, y=PPV , color = Model , label = Model )) + \n",
    "  ##geom_point(aes(size=17.5))+\n",
    "  geom_point() +geom_label_repel(aes(label=Model),hjust=0, vjust=0)\n"
   ]
  },
  {
   "cell_type": "markdown",
   "metadata": {},
   "source": [
    "###### 10. Business Profits associated with all our 18 models"
   ]
  },
  {
   "cell_type": "code",
   "execution_count": 24,
   "metadata": {
    "collapsed": false
   },
   "outputs": [
    {
     "name": "stderr",
     "output_type": "stream",
     "text": [
      "Warning message:\n",
      "\"Ignoring unknown aesthetics: z\""
     ]
    },
    {
     "data": {},
     "metadata": {},
     "output_type": "display_data"
    },
    {
     "data": {
      "image/png": "[encoded data removed]",
      "text/plain": [
       "plot without title"
      ]
     },
     "metadata": {},
     "output_type": "display_data"
    }
   ],
   "source": [
    "library(ggplot2)\n",
    "library(reshape2)\n",
    "\n",
    "cutoff <- seq(0 ,1 , length = 100)\n",
    "\n",
    "\n",
    "##Importing Probabilities for every model\n",
    "prob_df <- read.csv('C:\\\\Users\\\\Jayant\\\\Downloads\\\\probability_df.csv')\n",
    "\n",
    "## Function to calculate frofit for all cutoff values\n",
    "profit <- function(x){\n",
    "  \n",
    "  revenue <- numeric(100)\n",
    "  cost <- numeric(100)\n",
    "  \n",
    "  profit_table <- data.frame(\"cutoff\" = cutoff , \"revenue\" = revenue, \"cost\" = cost)\n",
    "  \n",
    "  actual <- prob_df$Actual\n",
    "  predict <- x\n",
    "  \n",
    "  c_s_cost <- 0.1\n",
    "  revenue <- 1\n",
    "  \n",
    "  for(i in 1:100)\n",
    "  {\n",
    "    profit_table$revenue[i] <- sum(predict > cutoff[i] & actual == \"1\")\n",
    "    profit_table$cost[i] <- sum(predict > cutoff[i] )\n",
    "  }\n",
    "  \n",
    "  profit_table$profit <-revenue*profit_table$revenue  - c_s_cost*profit_table$cost\n",
    "  \n",
    "  return(profit_table$profit)\n",
    "  \n",
    "}\n",
    "\n",
    "\n",
    "profit_df <- data.frame(\"cutoff\" = cutoff)\n",
    "\n",
    "## Logistic Regression\n",
    "profit_df$Logistic_regression <- profit(prob_df$LR)\n",
    "profit_df$Logistic_regression_UnderSampled <- profit(prob_df$LRU)\n",
    "profit_df$Logistic_regression_OverSampled <- profit(prob_df$LRO)\n",
    "\n",
    "## K-Nearest Neighbour\n",
    "profit_df$KNN <- profit(prob_df$KNN)\n",
    "profit_df$KNN_UnderSampled <- profit(prob_df$KNNU)\n",
    "profit_df$KNN_OverSampled <- profit(prob_df$KNNO)\n",
    "\n",
    "## Naive Bayes\n",
    "profit_df$N.Bayes <- profit(prob_df$NB)\n",
    "profit_df$N.Bayes_UnderSampled <- profit(prob_df$NBU)\n",
    "profit_df$N.Bayes_OverSampled <- profit(prob_df$NBO)\n",
    "profit_df$N.Bayes_Smote <- profit(prob_df$NBS)\n",
    "\n",
    "## Bagging\n",
    "profit_df$Bagging <- profit(prob_df$bag_prob)\n",
    "profit_df$Bagging_UnderSample <- profit(prob_df$bag_prob_under)\n",
    "profit_df$Bagging_OverSample <- profit(prob_df$bag_prob_over)\n",
    "\n",
    "## Random Forest\n",
    "profit_df$RF <- profit(prob_df$RF_prob)\n",
    "profit_df$RF_UnderSample <- profit(prob_df$RF_prob_under)\n",
    "profit_df$RF_OverSample <- profit(prob_df$RF_prob_over)\n",
    "\n",
    "## boosting\n",
    "profit_df$Boost <- profit(prob_df$boost_prob)\n",
    "profit_df$Boost_UnderSample <- profit(prob_df$RF_prob_under)\n",
    "profit_df$Boost_OverSample <- profit(prob_df$RF_prob_over)\n",
    "\n",
    "chart_data <- melt(profit_df, id='cutoff')\n",
    "names(chart_data) <- c('x', 'func', 'value')\n",
    "\n",
    "ggplot() +\n",
    "  geom_line(data = chart_data, aes(x = x, y = value , z = x, color = func), size = 1)+\n",
    "  xlab(\"Model\") +\n",
    "  ylab(\"Profit\")\n"
   ]
  },
  {
   "cell_type": "code",
   "execution_count": null,
   "metadata": {
    "collapsed": true
   },
   "outputs": [],
   "source": []
  }
 ],
 "metadata": {
  "kernelspec": {
   "display_name": "R",
   "language": "R",
   "name": "ir"
  },
  "language_info": {
   "codemirror_mode": "r",
   "file_extension": ".r",
   "mimetype": "text/x-r-source",
   "name": "R",
   "pygments_lexer": "r",
   "version": "3.3.2"
  }
 },
 "nbformat": 4,
 "nbformat_minor": 2
}
